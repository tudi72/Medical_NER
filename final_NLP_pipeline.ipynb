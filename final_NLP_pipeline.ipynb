{
 "cells": [
  {
   "cell_type": "markdown",
   "metadata": {},
   "source": [
    "# NLP Project 2024/25\n",
    "\n",
    "This notebook contains the implementation of the project for the NLP course. It is divided into the following sections:\n",
    "1. Data Exploration and Processing - Task 1\n",
    "2. NER Classification (GPT-Like Models included) - Task 2\n",
    "3. BERT-Like Models - Task 3\n",
    "\n",
    "Authors: Tudorita Zaharia, Alicja Krzeminska-Sciga, Tea Pula"
   ]
  },
  {
   "cell_type": "markdown",
   "metadata": {
    "jp-MarkdownHeadingCollapsed": true
   },
   "source": [
    "# 1. Data Exploration and Processing"
   ]
  },
  {
   "cell_type": "code",
   "execution_count": 78,
   "metadata": {
    "ExecuteTime": {
     "end_time": "2024-12-15T17:23:32.801956Z",
     "start_time": "2024-12-15T17:23:32.717093Z"
    }
   },
   "outputs": [
    {
     "name": "stdout",
     "output_type": "stream",
     "text": [
      "The autoreload extension is already loaded. To reload it, use:\n",
      "  %reload_ext autoreload\n"
     ]
    }
   ],
   "source": [
    "%load_ext autoreload\n",
    "%autoreload 2"
   ]
  },
  {
   "cell_type": "code",
   "execution_count": 2,
   "metadata": {
    "ExecuteTime": {
     "end_time": "2024-12-15T17:24:47.736625Z",
     "start_time": "2024-12-15T17:24:47.677340Z"
    }
   },
   "outputs": [],
   "source": [
    "import matplotlib.pyplot as plt\n",
    "import pandas as pd\n",
    "import spacy\n",
    "\n",
    "pd.set_option('display.max_colwidth', None)"
   ]
  },
  {
   "cell_type": "markdown",
   "metadata": {},
   "source": [
    "## 1.0 Dataset Download"
   ]
  },
  {
   "cell_type": "markdown",
   "metadata": {},
   "source": [
    "https://www.kaggle.com/datasets/reihanenamdari/mental-health-corpus\n",
    "\n",
    "The Mental Health Corpus is a collection of texts related to people with anxiety, depression, and other mental health issues. The corpus consists of two columns: one containing the comments, and the other containing labels indicating whether the comments are considered poisonous or not. The corpus can be used for a variety of purposes, such as sentiment analysis, toxic language detection, and mental health language analysis. The data in the corpus may be useful for researchers, mental health professionals, and others interested in understanding the language and sentiment surrounding mental health issues."
   ]
  },
  {
   "cell_type": "code",
   "execution_count": 3,
   "metadata": {
    "ExecuteTime": {
     "end_time": "2024-12-15T17:24:49.830614Z",
     "start_time": "2024-12-15T17:24:49.653938Z"
    }
   },
   "outputs": [],
   "source": [
    "import os\n",
    "\n",
    "corpus_path = os.path.join(\"resources\", \"mental_health.csv\")\n",
    "corpus = pd.read_csv(corpus_path)"
   ]
  },
  {
   "cell_type": "code",
   "execution_count": 4,
   "metadata": {
    "ExecuteTime": {
     "end_time": "2024-12-15T17:24:49.948084Z",
     "start_time": "2024-12-15T17:24:49.911488Z"
    }
   },
   "outputs": [
    {
     "data": {
      "text/html": [
       "<div>\n",
       "<style scoped>\n",
       "    .dataframe tbody tr th:only-of-type {\n",
       "        vertical-align: middle;\n",
       "    }\n",
       "\n",
       "    .dataframe tbody tr th {\n",
       "        vertical-align: top;\n",
       "    }\n",
       "\n",
       "    .dataframe thead th {\n",
       "        text-align: right;\n",
       "    }\n",
       "</style>\n",
       "<table border=\"1\" class=\"dataframe\">\n",
       "  <thead>\n",
       "    <tr style=\"text-align: right;\">\n",
       "      <th></th>\n",
       "      <th>text</th>\n",
       "      <th>label</th>\n",
       "    </tr>\n",
       "  </thead>\n",
       "  <tbody>\n",
       "    <tr>\n",
       "      <th>0</th>\n",
       "      <td>dear american teens question dutch person heard guys get way easier things learn age us sooooo thth graders like  right guys learn math</td>\n",
       "      <td>0</td>\n",
       "    </tr>\n",
       "    <tr>\n",
       "      <th>1</th>\n",
       "      <td>nothing look forward lifei dont many reasons keep going feel like nothing keeps going next day makes want hang myself</td>\n",
       "      <td>1</td>\n",
       "    </tr>\n",
       "    <tr>\n",
       "      <th>2</th>\n",
       "      <td>music recommendations im looking expand playlist usual genres alt pop minnesota hip hop steampunk various indie genres artists people like cavetown aliceband bug hunter penelope scott various rhymesayers willing explore new genresartists such anything generic rap the type exclusively sex drugs cool rapper is rap types pretty good pop popular couple years ago dunno technical genre name anyways anyone got music recommendations favorite artistssongs</td>\n",
       "      <td>0</td>\n",
       "    </tr>\n",
       "    <tr>\n",
       "      <th>3</th>\n",
       "      <td>im done trying feel betterthe reason im still alive know mum devastated ever killed myself ever passes im still state im going hesitate ending life shortly after im almost  take meds go therapy nothing seems help enough dont want around anymore hate feeling like this wouldnt wish upon enemy brain feels like constantly like static tv wont shut overthinking do think im running options dont see living past  got accepted health science degree dont even know wanna try know im smart mental illness holds back think cant anything im good enough need fucking help dont know anymore ive run options</td>\n",
       "      <td>1</td>\n",
       "    </tr>\n",
       "    <tr>\n",
       "      <th>4</th>\n",
       "      <td>worried  year old girl subject domestic physicalmental housewithout going lot know girl know girl etc let give brief background known girl  years lives uk live different country kept touch electronic means first girl schizophrenic host illnesses too dad severe anger issues abuses physically mentally makes serve food wash dishes clean house shouts beats petty things like spilling water picking toys floor threatened knife beats plates glasses punches head last time got beat around month ago one siblings gets beat up tried tell mother beating showed bruises too mother refuses believe even laughed off probably fear confronting him husband yells wife too family treat well either sister mean tell father put trouble family tends isolate her even remember birthday all family cold her often tend alienate since act normal girl often feels suicidal due this inflicted selfharm cut wrist starves believes way family accept her make worse two incidents life must tell about raped walking back home night initially tell parents sometime later police reports filed rape suffered false pregnancy girl symptoms disorder like lactating breasts happened early  depressed incident summer  approximately family sent couple family friends wellknown treatments advertised herbal therapy accupuncture etc however happened next terrible left alone husband wife went somewhere else guy tortured her instance made sit container filled water upto neck closed lid imagine kind stress panic would cause schizophrenic patient miscellaneous details gt gets visit psychiatrist school able hide problems psychiatrist noted girl able put front really well gt five psychiatrists past gt enjoys drawingpainting learning new languages writing poems gt depressed tends victimized mentality blames problems want report abuse due trouble family face tells stopped cutting lately problem refuses tell anyone abuse even tries defend father saying fault help her although seem extremely suicidal concern physically mental abuse girl subject everyday healthy environment anyone grow in really wish rescued clutches belligerent controlling father dysfunctional family</td>\n",
       "      <td>1</td>\n",
       "    </tr>\n",
       "  </tbody>\n",
       "</table>\n",
       "</div>"
      ],
      "text/plain": [
       "                                                                                                                                                                                                                                                                                                                                                                                                                                                                                                                                                                                                                                                                                                                                                                                                                                                                                                                                                                                                                                                                                                                                                                                                                                                                                                                                                                                                                                                                                                                                                                                                                                                                                                                                                                                                                                                                                                                                                                                                                                                                                                                                                                                                                    text  \\\n",
       "0                                                                                                                                                                                                                                                                                                                                                                                                                                                                                                                                                                                                                                                                                                                                                                                                                                                                                                                                                                                                                                                                                                                                                                                                                                                                                                                                                                                                                                                                                                                                                                                                                                                                                                                                                                                                                                                                                                                                                                                                                                                                                dear american teens question dutch person heard guys get way easier things learn age us sooooo thth graders like  right guys learn math   \n",
       "1                                                                                                                                                                                                                                                                                                                                                                                                                                                                                                                                                                                                                                                                                                                                                                                                                                                                                                                                                                                                                                                                                                                                                                                                                                                                                                                                                                                                                                                                                                                                                                                                                                                                                                                                                                                                                                                                                                                                                                                                                                                                                                  nothing look forward lifei dont many reasons keep going feel like nothing keeps going next day makes want hang myself   \n",
       "2                                                                                                                                                                                                                                                                                                                                                                                                                                                                                                                                                                                                                                                                                                                                                                                                                                                                                                                                                                                                                                                                                                                                                                                                                                                                                                                                                                                                                                                                                                                                                                                                                                                                                                                                                     music recommendations im looking expand playlist usual genres alt pop minnesota hip hop steampunk various indie genres artists people like cavetown aliceband bug hunter penelope scott various rhymesayers willing explore new genresartists such anything generic rap the type exclusively sex drugs cool rapper is rap types pretty good pop popular couple years ago dunno technical genre name anyways anyone got music recommendations favorite artistssongs   \n",
       "3                                                                                                                                                                                                                                                                                                                                                                                                                                                                                                                                                                                                                                                                                                                                                                                                                                                                                                                                                                                                                                                                                                                                                                                                                                                                                                                                                                                                                                                                                                                                                                                                     im done trying feel betterthe reason im still alive know mum devastated ever killed myself ever passes im still state im going hesitate ending life shortly after im almost  take meds go therapy nothing seems help enough dont want around anymore hate feeling like this wouldnt wish upon enemy brain feels like constantly like static tv wont shut overthinking do think im running options dont see living past  got accepted health science degree dont even know wanna try know im smart mental illness holds back think cant anything im good enough need fucking help dont know anymore ive run options   \n",
       "4  worried  year old girl subject domestic physicalmental housewithout going lot know girl know girl etc let give brief background known girl  years lives uk live different country kept touch electronic means first girl schizophrenic host illnesses too dad severe anger issues abuses physically mentally makes serve food wash dishes clean house shouts beats petty things like spilling water picking toys floor threatened knife beats plates glasses punches head last time got beat around month ago one siblings gets beat up tried tell mother beating showed bruises too mother refuses believe even laughed off probably fear confronting him husband yells wife too family treat well either sister mean tell father put trouble family tends isolate her even remember birthday all family cold her often tend alienate since act normal girl often feels suicidal due this inflicted selfharm cut wrist starves believes way family accept her make worse two incidents life must tell about raped walking back home night initially tell parents sometime later police reports filed rape suffered false pregnancy girl symptoms disorder like lactating breasts happened early  depressed incident summer  approximately family sent couple family friends wellknown treatments advertised herbal therapy accupuncture etc however happened next terrible left alone husband wife went somewhere else guy tortured her instance made sit container filled water upto neck closed lid imagine kind stress panic would cause schizophrenic patient miscellaneous details gt gets visit psychiatrist school able hide problems psychiatrist noted girl able put front really well gt five psychiatrists past gt enjoys drawingpainting learning new languages writing poems gt depressed tends victimized mentality blames problems want report abuse due trouble family face tells stopped cutting lately problem refuses tell anyone abuse even tries defend father saying fault help her although seem extremely suicidal concern physically mental abuse girl subject everyday healthy environment anyone grow in really wish rescued clutches belligerent controlling father dysfunctional family   \n",
       "\n",
       "   label  \n",
       "0      0  \n",
       "1      1  \n",
       "2      0  \n",
       "3      1  \n",
       "4      1  "
      ]
     },
     "execution_count": 4,
     "metadata": {},
     "output_type": "execute_result"
    }
   ],
   "source": [
    "corpus.head()"
   ]
  },
  {
   "cell_type": "markdown",
   "metadata": {},
   "source": [
    "<h3> 1.1 Basic Statistics"
   ]
  },
  {
   "cell_type": "code",
   "execution_count": 5,
   "metadata": {
    "ExecuteTime": {
     "end_time": "2024-12-15T17:24:50.299578Z",
     "start_time": "2024-12-15T17:24:50.242848Z"
    }
   },
   "outputs": [
    {
     "data": {
      "text/html": [
       "<div>\n",
       "<style scoped>\n",
       "    .dataframe tbody tr th:only-of-type {\n",
       "        vertical-align: middle;\n",
       "    }\n",
       "\n",
       "    .dataframe tbody tr th {\n",
       "        vertical-align: top;\n",
       "    }\n",
       "\n",
       "    .dataframe thead th {\n",
       "        text-align: right;\n",
       "    }\n",
       "</style>\n",
       "<table border=\"1\" class=\"dataframe\">\n",
       "  <thead>\n",
       "    <tr style=\"text-align: right;\">\n",
       "      <th></th>\n",
       "      <th>label</th>\n",
       "    </tr>\n",
       "  </thead>\n",
       "  <tbody>\n",
       "    <tr>\n",
       "      <th>count</th>\n",
       "      <td>27977.000000</td>\n",
       "    </tr>\n",
       "    <tr>\n",
       "      <th>mean</th>\n",
       "      <td>0.494621</td>\n",
       "    </tr>\n",
       "    <tr>\n",
       "      <th>std</th>\n",
       "      <td>0.499980</td>\n",
       "    </tr>\n",
       "    <tr>\n",
       "      <th>min</th>\n",
       "      <td>0.000000</td>\n",
       "    </tr>\n",
       "    <tr>\n",
       "      <th>25%</th>\n",
       "      <td>0.000000</td>\n",
       "    </tr>\n",
       "    <tr>\n",
       "      <th>50%</th>\n",
       "      <td>0.000000</td>\n",
       "    </tr>\n",
       "    <tr>\n",
       "      <th>75%</th>\n",
       "      <td>1.000000</td>\n",
       "    </tr>\n",
       "    <tr>\n",
       "      <th>max</th>\n",
       "      <td>1.000000</td>\n",
       "    </tr>\n",
       "  </tbody>\n",
       "</table>\n",
       "</div>"
      ],
      "text/plain": [
       "              label\n",
       "count  27977.000000\n",
       "mean       0.494621\n",
       "std        0.499980\n",
       "min        0.000000\n",
       "25%        0.000000\n",
       "50%        0.000000\n",
       "75%        1.000000\n",
       "max        1.000000"
      ]
     },
     "execution_count": 5,
     "metadata": {},
     "output_type": "execute_result"
    }
   ],
   "source": [
    "corpus.describe()"
   ]
  },
  {
   "cell_type": "markdown",
   "metadata": {},
   "source": [
    "**REMARK**: We have 28_000 comments, where 49% are labelled as toxic comments.   \n",
    "$\\textit{The dataset is balanced between toxic and non-toxic comments.}$\n"
   ]
  },
  {
   "cell_type": "markdown",
   "metadata": {},
   "source": [
    "<h3> 1.2 Number of Samples per Class "
   ]
  },
  {
   "cell_type": "code",
   "execution_count": 6,
   "metadata": {
    "ExecuteTime": {
     "end_time": "2024-12-15T17:24:50.901425Z",
     "start_time": "2024-12-15T17:24:50.849310Z"
    }
   },
   "outputs": [
    {
     "data": {
      "text/plain": [
       "label\n",
       "0    14139\n",
       "1    13838\n",
       "Name: count, dtype: int64"
      ]
     },
     "execution_count": 6,
     "metadata": {},
     "output_type": "execute_result"
    }
   ],
   "source": [
    "counts = corpus['label'].value_counts()\n",
    "counts"
   ]
  },
  {
   "cell_type": "code",
   "execution_count": 7,
   "metadata": {
    "ExecuteTime": {
     "end_time": "2024-12-15T17:24:51.177239Z",
     "start_time": "2024-12-15T17:24:51.076911Z"
    }
   },
   "outputs": [
    {
     "data": {
      "image/png": "[encoded data removed]",
      "text/plain": [
       "<Figure size 1000x600 with 1 Axes>"
      ]
     },
     "metadata": {},
     "output_type": "display_data"
    }
   ],
   "source": [
    "plt.figure(figsize=(10, 6))\n",
    "\n",
    "plt.bar(['Non-toxic', 'Toxic'], [counts.get(0, 0), counts.get(0, 1)], color=['skyblue', 'salmon'])\n",
    "plt.title('Count of Toxic and Non-toxic Comments')\n",
    "plt.xlabel('Labels')\n",
    "plt.ylabel('Comments from people with anxiety')\n",
    "\n",
    "plt.show()"
   ]
  },
  {
   "cell_type": "markdown",
   "metadata": {},
   "source": [
    "<h3> 1.3 Determine National Language"
   ]
  },
  {
   "cell_type": "code",
   "execution_count": 1,
   "metadata": {
    "ExecuteTime": {
     "end_time": "2024-12-15T17:24:51.499400Z",
     "start_time": "2024-12-15T17:24:51.441028Z"
    }
   },
   "outputs": [],
   "source": [
    "from utils.acquisition import Language_Detector\n",
    "from sklearn.pipeline import Pipeline"
   ]
  },
  {
   "cell_type": "code",
   "execution_count": 30,
   "metadata": {
    "ExecuteTime": {
     "end_time": "2024-12-15T17:24:51.694918Z",
     "start_time": "2024-12-15T17:24:51.651993Z"
    }
   },
   "outputs": [],
   "source": [
    "# This section is commented out because it is time-consuming\n",
    "\n",
    "# acquisition_pipeline = Pipeline(steps=[\n",
    "#     ('language detector', Language_Detector())\n",
    "# ])\n",
    "# acquisition_pipeline.fit_transform(corpus)"
   ]
  },
  {
   "cell_type": "code",
   "execution_count": 31,
   "metadata": {
    "ExecuteTime": {
     "end_time": "2024-12-15T17:24:51.888708Z",
     "start_time": "2024-12-15T17:24:51.847479Z"
    }
   },
   "outputs": [],
   "source": [
    "# corpus['detected_language'].value_counts()"
   ]
  },
  {
   "cell_type": "markdown",
   "metadata": {},
   "source": [
    "<h3>  1.4 Reading through 100+ samples: noteworthy style, vocabulary, spelling </h3> \n",
    "\n",
    "The dataset contains comments from people with mental health issues. After reading through a few samples, it can be noticed that the content looks more like a transcript of the speaking language rather than written language. \n",
    "Main observations:\n",
    "- The structure of the language is messy. \n",
    "- The interpunction is missing. \n",
    "- The vocabulary is informal (e.g. \"yup\", \"cuz\", \"sooooo\").\n",
    "- There are many typos.\n",
    "- The lengths of the comments differ significantly."
   ]
  },
  {
   "cell_type": "markdown",
   "metadata": {},
   "source": [
    "<h3> 1.5 Establish a structured and flexible processing pipeline\t"
   ]
  },
  {
   "cell_type": "code",
   "execution_count": 32,
   "metadata": {
    "ExecuteTime": {
     "end_time": "2024-12-15T17:24:52.798331Z",
     "start_time": "2024-12-15T17:24:52.364537Z"
    }
   },
   "outputs": [],
   "source": [
    "from utils.processing import Tokenizer, Normalizer, TokenFilter\n",
    "\n",
    "text_column = \"text\"\n",
    "\n",
    "text_processing_pipeline = Pipeline([\n",
    "    ('tokenizer', Tokenizer(text_column=\"text\")),\n",
    "    ('normalizer', Normalizer(use_lemmatizer=True, text_column=\"text\")),\n",
    "    ('token_filter', TokenFilter(language=\"english\", text_column=\"text\"))\n",
    "])"
   ]
  },
  {
   "cell_type": "code",
   "execution_count": 2,
   "metadata": {
    "ExecuteTime": {
     "end_time": "2024-12-15T17:24:56.820079Z",
     "start_time": "2024-12-15T17:24:52.798740Z"
    }
   },
   "outputs": [],
   "source": [
    "processed_texts = text_processing_pipeline.fit_transform(corpus)"
   ]
  },
  {
   "cell_type": "code",
   "execution_count": null,
   "metadata": {
    "ExecuteTime": {
     "start_time": "2024-12-15T17:24:56.821133Z"
    }
   },
   "outputs": [],
   "source": [
    "processed_texts.head()"
   ]
  },
  {
   "cell_type": "markdown",
   "metadata": {
    "collapsed": false,
    "jupyter": {
     "outputs_hidden": false
    }
   },
   "source": [
    "<h3> 1.6 Calculate TFDs for different variants of your processing pipeline </h3>\n",
    "▪ Are there differences per class?\n"
   ]
  },
  {
   "cell_type": "code",
   "execution_count": null,
   "metadata": {
    "ExecuteTime": {
     "start_time": "2024-12-15T17:24:56.822393Z"
    }
   },
   "outputs": [],
   "source": [
    "\"\"\"Splitting the corpus into two separate dataframes for each class so we can compare the TFDs\"\"\"\n",
    "class_0_corpus = corpus[corpus[\"label\"] == 0]\n",
    "class_1_corpus = corpus[corpus[\"label\"] == 1]"
   ]
  },
  {
   "cell_type": "code",
   "execution_count": null,
   "metadata": {
    "ExecuteTime": {
     "start_time": "2024-12-15T17:24:56.823246Z"
    },
    "collapsed": false,
    "jupyter": {
     "outputs_hidden": false
    }
   },
   "outputs": [],
   "source": [
    "class_0_corpus.head()"
   ]
  },
  {
   "cell_type": "code",
   "execution_count": null,
   "metadata": {
    "ExecuteTime": {
     "end_time": "2024-12-15T17:24:56.826606Z",
     "start_time": "2024-12-15T17:24:56.824125Z"
    },
    "collapsed": false,
    "jupyter": {
     "outputs_hidden": false
    }
   },
   "outputs": [],
   "source": [
    "\"\"\"First, the pipeline will only consist of tokenization as first stage.\"\"\"\n",
    "first_pipeline = Pipeline([('tokenizer', Tokenizer(text_column=\"text\"))])\n",
    "\n",
    "class_0_tokenized = first_pipeline.fit_transform(class_0_corpus)\n",
    "class_1_tokenized = first_pipeline.fit_transform(class_1_corpus)"
   ]
  },
  {
   "cell_type": "code",
   "execution_count": 19,
   "metadata": {
    "ExecuteTime": {
     "end_time": "2024-12-15T16:05:58.642080Z",
     "start_time": "2024-12-15T16:05:58.605660Z"
    },
    "collapsed": false,
    "jupyter": {
     "outputs_hidden": false
    }
   },
   "outputs": [
    {
     "data": {
      "text/html": [
       "<div>\n",
       "<style scoped>\n",
       "    .dataframe tbody tr th:only-of-type {\n",
       "        vertical-align: middle;\n",
       "    }\n",
       "\n",
       "    .dataframe tbody tr th {\n",
       "        vertical-align: top;\n",
       "    }\n",
       "\n",
       "    .dataframe thead th {\n",
       "        text-align: right;\n",
       "    }\n",
       "</style>\n",
       "<table border=\"1\" class=\"dataframe\">\n",
       "  <thead>\n",
       "    <tr style=\"text-align: right;\">\n",
       "      <th></th>\n",
       "      <th>text</th>\n",
       "      <th>label</th>\n",
       "    </tr>\n",
       "  </thead>\n",
       "  <tbody>\n",
       "    <tr>\n",
       "      <th>0</th>\n",
       "      <td>[dear, american, teens, question, dutch, person, heard, guys, get, way, easier, things, learn, age, us, sooooo, thth, graders, like, right, guys, learn, math]</td>\n",
       "      <td>0</td>\n",
       "    </tr>\n",
       "    <tr>\n",
       "      <th>2</th>\n",
       "      <td>[music, recommendations, im, looking, expand, playlist, usual, genres, alt, pop, minnesota, hip, hop, steampunk, various, indie, genres, artists, people, like, cavetown, aliceband, bug, hunter, penelope, scott, various, rhymesayers, willing, explore, new, genresartists, such, anything, generic, rap, the, type, exclusively, sex, drugs, cool, rapper, is, rap, types, pretty, good, pop, popular, couple, years, ago, dunno, technical, genre, name, anyways, anyone, got, music, recommendations, favorite, artistssongs]</td>\n",
       "      <td>0</td>\n",
       "    </tr>\n",
       "    <tr>\n",
       "      <th>6</th>\n",
       "      <td>[feel, like, someone, needs, hear, tonight, feeling, right, think, cant, anything, people, keep, puting, listen, this, its, your, life, everyone, else, living, it, someone, tells, unable, something, work, get, done, say, wrong, someone, says, youl, never, make, it, work, hard, make, end, one, make, it, could, make, putting, people, like, that, see, life, nobody, tell, cant, do, one, tell, live, where, love, look, end, let, climb, height, hope, someone, needed, hear, tonight, beutiful, life, good, night, sincerely, austin, zippy]</td>\n",
       "      <td>0</td>\n",
       "    </tr>\n",
       "    <tr>\n",
       "      <th>10</th>\n",
       "      <td>[excercise, motivated, ngl, cant, wait, get, shape, know, gon, na, overnight, im, happy, right, now]</td>\n",
       "      <td>0</td>\n",
       "    </tr>\n",
       "    <tr>\n",
       "      <th>11</th>\n",
       "      <td>[know, youd, rather, laid, big, booty, body, hella, positive, cuz, got, big, booty]</td>\n",
       "      <td>0</td>\n",
       "    </tr>\n",
       "  </tbody>\n",
       "</table>\n",
       "</div>"
      ],
      "text/plain": [
       "                                                                                                                                                                                                                                                                                                                                                                                                                                                                                                                                                      text  \\\n",
       "0                                                                                                                                                                                                                                                                                                                                                                                           [dear, american, teens, question, dutch, person, heard, guys, get, way, easier, things, learn, age, us, sooooo, thth, graders, like, right, guys, learn, math]   \n",
       "2                      [music, recommendations, im, looking, expand, playlist, usual, genres, alt, pop, minnesota, hip, hop, steampunk, various, indie, genres, artists, people, like, cavetown, aliceband, bug, hunter, penelope, scott, various, rhymesayers, willing, explore, new, genresartists, such, anything, generic, rap, the, type, exclusively, sex, drugs, cool, rapper, is, rap, types, pretty, good, pop, popular, couple, years, ago, dunno, technical, genre, name, anyways, anyone, got, music, recommendations, favorite, artistssongs]   \n",
       "6   [feel, like, someone, needs, hear, tonight, feeling, right, think, cant, anything, people, keep, puting, listen, this, its, your, life, everyone, else, living, it, someone, tells, unable, something, work, get, done, say, wrong, someone, says, youl, never, make, it, work, hard, make, end, one, make, it, could, make, putting, people, like, that, see, life, nobody, tell, cant, do, one, tell, live, where, love, look, end, let, climb, height, hope, someone, needed, hear, tonight, beutiful, life, good, night, sincerely, austin, zippy]   \n",
       "10                                                                                                                                                                                                                                                                                                                                                                                                                                                    [excercise, motivated, ngl, cant, wait, get, shape, know, gon, na, overnight, im, happy, right, now]   \n",
       "11                                                                                                                                                                                                                                                                                                                                                                                                                                                                     [know, youd, rather, laid, big, booty, body, hella, positive, cuz, got, big, booty]   \n",
       "\n",
       "    label  \n",
       "0       0  \n",
       "2       0  \n",
       "6       0  \n",
       "10      0  \n",
       "11      0  "
      ]
     },
     "execution_count": 19,
     "metadata": {},
     "output_type": "execute_result"
    }
   ],
   "source": [
    "class_0_tokenized.head()"
   ]
  },
  {
   "cell_type": "code",
   "execution_count": 3,
   "metadata": {
    "ExecuteTime": {
     "end_time": "2024-12-15T17:24:59.188129Z",
     "start_time": "2024-12-15T17:24:59.124982Z"
    },
    "collapsed": false,
    "jupyter": {
     "outputs_hidden": false
    }
   },
   "outputs": [],
   "source": [
    "import nltk\n",
    "import matplotlib.pyplot as plt\n",
    "\n",
    "# flatten the tokens for both classes\n",
    "class_0_tokens = [token for tokens_list in class_0_tokenized[\"text\"] for token in tokens_list]\n",
    "class_1_tokens = [token for tokens_list in class_1_tokenized[\"text\"] for token in tokens_list]\n",
    "\n",
    "# calculate term frequency distributions (TFD) \n",
    "tfd_class_0 = nltk.FreqDist(class_0_tokens)\n",
    "tfd_class_1 = nltk.FreqDist(class_1_tokens)\n",
    "\n",
    "sample_size = 30\n",
    "\n",
    "class_0_most_frequent = tfd_class_0.most_common(sample_size)\n",
    "class_1_most_frequent = tfd_class_1.most_common(sample_size)\n",
    "\n",
    "class_0_words, class_0_freqs = zip(*class_0_most_frequent)\n",
    "class_1_words, class_1_freqs = zip(*class_1_most_frequent)\n",
    "\n",
    "# Create subplot with one row and two columns\n",
    "fig, axes = plt.subplots(1, 2, figsize=(15, 6))\n",
    "\n",
    "# Plot the frequency distribution for class 0 (Non-toxic)\n",
    "axes[0].barh(class_0_words, class_0_freqs, color='skyblue')\n",
    "axes[0].set_title('Top 30 Words in Class 0 (Non-toxic)')\n",
    "axes[0].invert_yaxis()\n",
    "\n",
    "# Plot the frequency distribution for class 1 (Toxic)\n",
    "axes[1].barh(class_1_words, class_1_freqs, color='salmon')\n",
    "axes[1].set_title('Top 30 Words in Class 1 (Toxic)')\n",
    "axes[1].invert_yaxis()  # Invert y-axis to show the most frequent words on top\n",
    "\n",
    "plt.tight_layout()\n",
    "plt.show()\n"
   ]
  },
  {
   "cell_type": "markdown",
   "metadata": {
    "collapsed": false,
    "jupyter": {
     "outputs_hidden": false
    }
   },
   "source": [
    "The corpus was first split into two categories: toxic (label 1) and non-toxic (label 0), in order to compare their term frequency distributions (TFDs). In this initial variant, the pipeline is limited to tokenization. While tokenizing alone does not provide deep insights into the underlying text, the TFDs still reveal notable differences between the two classes. The non-toxic class features frequent words such as 'like' , 'good' , 'film' , 'time' , 'feel' , 'love' , and 'life' , which generally convey a positive tone. In contrast, the toxic class shows words like 'feel' , 'life' , 'can’t' , 'people' , 'time' , 'never' , 'don’t' , 'much' , 'friends' , and 'anymore' , reflecting a more negative or distressing context."
   ]
  },
  {
   "cell_type": "code",
   "execution_count": 4,
   "metadata": {
    "ExecuteTime": {
     "end_time": "2024-12-15T17:25:01.686201Z",
     "start_time": "2024-12-15T17:25:01.611159Z"
    },
    "collapsed": false,
    "jupyter": {
     "outputs_hidden": false
    }
   },
   "outputs": [],
   "source": [
    "\"\"\"Now, it is time to make our pipeline a bit more sophisticated by adding the \"normalized\" stage, which lowercases the text and applies either lemmatization or stemming.\"\"\"\n",
    "\n",
    "second_pipeline = Pipeline([('tokenizer', Tokenizer(text_column=\"text\")),\n",
    "                            ('normalizer', Normalizer(use_lemmatizer=True, text_column=\"text\"))])\n",
    "\n",
    "class_0_normalized = second_pipeline.fit_transform(class_0_corpus)\n",
    "class_1_normalized = second_pipeline.fit_transform(class_1_corpus)\n",
    "\n",
    "class_0_normalized.head()"
   ]
  },
  {
   "cell_type": "code",
   "execution_count": 5,
   "metadata": {
    "ExecuteTime": {
     "end_time": "2024-12-15T17:25:02.306586Z",
     "start_time": "2024-12-15T17:25:02.257064Z"
    },
    "collapsed": false,
    "jupyter": {
     "outputs_hidden": false
    }
   },
   "outputs": [],
   "source": [
    "# flatten the tokens/words for both classes\n",
    "class_0_tokens = [token for tokens_list in class_0_normalized[\"text\"] for token in tokens_list]\n",
    "class_1_tokens = [token for tokens_list in class_1_normalized[\"text\"] for token in tokens_list]\n",
    "\n",
    "# calculate term frequency distributions (TFD) \n",
    "tfd_class_0 = nltk.FreqDist(class_0_tokens)\n",
    "tfd_class_1 = nltk.FreqDist(class_1_tokens)\n",
    "\n",
    "sample_size = 30\n",
    "\n",
    "class_0_most_frequent = tfd_class_0.most_common(sample_size)\n",
    "class_1_most_frequent = tfd_class_1.most_common(sample_size)\n",
    "\n",
    "class_0_words, class_0_freqs = zip(*class_0_most_frequent)\n",
    "class_1_words, class_1_freqs = zip(*class_1_most_frequent)\n",
    "\n",
    "# Create subplot with one row and two columns\n",
    "fig, axes = plt.subplots(1, 2, figsize=(15, 6))\n",
    "\n",
    "# Plot the frequency distribution for class 0 (Non-toxic)\n",
    "axes[0].barh(class_0_words, class_0_freqs, color='skyblue')\n",
    "axes[0].set_title('Top 30 Words in Class 0 (Non-toxic)')\n",
    "axes[0].invert_yaxis()\n",
    "\n",
    "# Plot the frequency distribution for class 1 (Toxic)\n",
    "axes[1].barh(class_1_words, class_1_freqs, color='salmon')\n",
    "axes[1].set_title('Top 30 Words in Class 1 (Toxic)')\n",
    "axes[1].invert_yaxis()  # Invert y-axis to show the most frequent words on top\n",
    "\n",
    "plt.tight_layout()\n",
    "plt.show()\n"
   ]
  },
  {
   "cell_type": "markdown",
   "metadata": {
    "collapsed": false,
    "jupyter": {
     "outputs_hidden": false
    }
   },
   "source": [
    "In the second variant, the pipeline includes an additional normalization stage alongside tokenization. The purpose of this stage is to lowercase the text and apply either lemmatization or stemming. In our case, we applied lemmatization to both corpora. By converting the text to lowercase, identical words are merged, increasing word frequency and reducing redundancy since case sensitivity is no longer a factor. Similarly, lemmatization reduces words to their base form, grouping variations together. While the contextual differences between this variant and the initial one are not significant, there are still notable distinctions between the classes. In the non-toxic class, the top 30 most frequent words include 'like' , 'film' , 'movie' , 'filler' , 'people' , 'good' , 'really' , 'day' , and 'friend' , which suggest a generally positive context. Conversely, in the toxic class, frequent words such as 'feel' , 'life' , 'even' , 'can’t' , 'would' , 'one' , 'people' , 'friend' , 'go' , 'think' , 'never' , and 'don’t' , suggest a more negative or distressed tone."
   ]
  },
  {
   "cell_type": "code",
   "execution_count": 6,
   "metadata": {
    "ExecuteTime": {
     "end_time": "2024-12-15T17:25:03.474710Z",
     "start_time": "2024-12-15T17:25:03.390887Z"
    },
    "collapsed": false,
    "jupyter": {
     "outputs_hidden": false
    }
   },
   "outputs": [],
   "source": [
    "\"\"\"Finally, the final step is to add the third stage to our pipeline which excludes tokens that are either stopwords or punctuation to see if it makes a difference in the previous TFD scores.\"\"\"\n",
    "\n",
    "second_pipeline = Pipeline([('tokenizer', Tokenizer(text_column=\"text\")),\n",
    "                            ('normalizer', Normalizer(use_lemmatizer=True, text_column=\"text\")),\n",
    "                            ('token_filter', TokenFilter(language=\"english\", text_column=\"text\"))])\n",
    "\n",
    "class_0_filtered = second_pipeline.fit_transform(class_0_corpus)\n",
    "class_1_filtered = second_pipeline.fit_transform(class_1_corpus)\n",
    "\n",
    "class_0_filtered.head()"
   ]
  },
  {
   "cell_type": "code",
   "execution_count": 7,
   "metadata": {
    "ExecuteTime": {
     "end_time": "2024-12-15T17:25:04.185131Z",
     "start_time": "2024-12-15T17:25:04.137170Z"
    },
    "collapsed": false,
    "jupyter": {
     "outputs_hidden": false
    }
   },
   "outputs": [],
   "source": [
    "# flatten the tokens/words for both classes\n",
    "class_0_tokens = [token for tokens_list in class_0_filtered[\"text\"] for token in tokens_list]\n",
    "class_1_tokens = [token for tokens_list in class_1_filtered[\"text\"] for token in tokens_list]\n",
    "\n",
    "# calculate term frequency distributions (TFD) \n",
    "tfd_class_0 = nltk.FreqDist(class_0_tokens)\n",
    "tfd_class_1 = nltk.FreqDist(class_1_tokens)\n",
    "\n",
    "sample_size = 30\n",
    "\n",
    "class_0_most_frequent = tfd_class_0.most_common(sample_size)\n",
    "class_1_most_frequent = tfd_class_1.most_common(sample_size)\n",
    "\n",
    "class_0_words, class_0_freqs = zip(*class_0_most_frequent)\n",
    "class_1_words, class_1_freqs = zip(*class_1_most_frequent)\n",
    "\n",
    "# Create subplot with one row and two columns\n",
    "fig, axes = plt.subplots(1, 2, figsize=(15, 6))\n",
    "\n",
    "# Plot the frequency distribution for class 0 (Non-toxic)\n",
    "axes[0].barh(class_0_words, class_0_freqs, color='skyblue')\n",
    "axes[0].set_title('Top 30 Words in Class 0 (Non-toxic)')\n",
    "axes[0].invert_yaxis()\n",
    "\n",
    "# Plot the frequency distribution for class 1 (Toxic)\n",
    "axes[1].barh(class_1_words, class_1_freqs, color='salmon')\n",
    "axes[1].set_title('Top 30 Words in Class 1 (Toxic)')\n",
    "axes[1].invert_yaxis()  # Invert y-axis to show the most frequent words on top\n",
    "\n",
    "plt.tight_layout()\n",
    "plt.show()\n"
   ]
  },
  {
   "cell_type": "markdown",
   "metadata": {
    "collapsed": false,
    "jupyter": {
     "outputs_hidden": false
    }
   },
   "source": [
    "In the final variant, the pipeline includes an additional filtering stage alongside tokenization and normalization. The goal of this stage is to exclude stopwords and punctuation, such as 'it' and 'me,' which are no longer visible in the plots, as they do not add value to the text analysis. In the non-toxic class, the top 30 most frequent words include 'like,' 'film,' 'movie,' 'people,' 'good,' 'really,' 'want,' 'day,' and 'friend,' suggesting that the text may generally have a positive context. On the other hand, in the toxic class, frequent words such as 'feel,' 'life,' 'even,' 'can’t,' 'never,' 'much,' 'help,' 'thought,' and 'anymore' suggest a more negative tone."
   ]
  },
  {
   "cell_type": "markdown",
   "metadata": {
    "jp-MarkdownHeadingCollapsed": true
   },
   "source": [
    "# 2. NER Classification"
   ]
  },
  {
   "cell_type": "markdown",
   "metadata": {
    "ExecuteTime": {
     "end_time": "2024-11-18T10:17:25.485441Z",
     "start_time": "2024-11-18T10:17:25.427906Z"
    }
   },
   "source": [
    "<h2> 0.* Dependencies </h2>\n",
    "\n",
    "- **language_tool_python** : for grammar checker\n",
    "- **cupy**&nbsp;&nbsp;&nbsp;&nbsp;&nbsp;&nbsp;&nbsp;&nbsp;&nbsp;&nbsp;&nbsp;&nbsp;&nbsp;&nbsp;&nbsp;&nbsp;&nbsp;&nbsp;&nbsp;&nbsp;&nbsp;&nbsp;&nbsp;&nbsp;&nbsp;&nbsp;&nbsp;&nbsp;&nbsp;&nbsp;&nbsp;: for cuda with GPU in Kaggle Environment.\n",
    "- **label-studio**&nbsp;&nbsp;&nbsp;&nbsp;&nbsp;&nbsp;&nbsp;&nbsp;&nbsp;&nbsp;&nbsp;&nbsp;&nbsp;&nbsp;&nbsp;&nbsp;&nbsp;&nbsp;&nbsp;: tool for manual annotation of text (raw, grammatically corrected, etc.)"
   ]
  },
  {
   "cell_type": "code",
   "execution_count": 1,
   "metadata": {
    "ExecuteTime": {
     "end_time": "2024-12-15T17:25:06.804316Z",
     "start_time": "2024-12-15T17:25:06.750744Z"
    }
   },
   "outputs": [],
   "source": [
    "# !nvcc --version                         # only in Kaggle for CUDA VERSION\n",
    "# !pip install --upgrade spacy[cuda101]   # only in Kaggle for spacy with CUDA\n",
    "# python -m spacy download en_core_web_sm   \n",
    "# !pip install language_tool_python \n",
    "# !pip install label-studio"
   ]
  },
  {
   "cell_type": "markdown",
   "metadata": {
    "ExecuteTime": {
     "end_time": "2024-11-18T10:17:45.538998Z",
     "start_time": "2024-11-18T10:17:45.494863Z"
    }
   },
   "source": [
    "<h2> 0.* Libraries </h2>\n",
    "\n",
    "- **NER Classification**:\n",
    "    - spacy\n",
    "    - transformers\n",
    "\n",
    "- **Visualization**:\n",
    "    - matplotlib\n",
    "    - itertools\n",
    "\n",
    "- **Data Management**:\n",
    "    - pandas\n",
    "    - json\n",
    "    - tqdm\n",
    "\n",
    "- **Data Preprocessing**:\n",
    "    - language_tool_python\n"
   ]
  },
  {
   "cell_type": "code",
   "execution_count": 2,
   "metadata": {},
   "outputs": [],
   "source": [
    "%load_ext autoreload\n",
    "%autoreload 2"
   ]
  },
  {
   "cell_type": "code",
   "execution_count": 3,
   "metadata": {
    "ExecuteTime": {
     "end_time": "2024-12-15T17:25:15.714471Z",
     "start_time": "2024-12-15T17:25:09.740094Z"
    }
   },
   "outputs": [
    {
     "name": "stderr",
     "output_type": "stream",
     "text": [
      "c:\\Users\\tudor\\Documents\\BERN\\AN 2 SEM 2\\NLP\\2024_NLP_Project\\.venv\\Lib\\site-packages\\tqdm\\auto.py:21: TqdmWarning: IProgress not found. Please update jupyter and ipywidgets. See https://ipywidgets.readthedocs.io/en/stable/user_install.html\n",
      "  from .autonotebook import tqdm as notebook_tqdm\n",
      "None of PyTorch, TensorFlow >= 2.0, or Flax have been found. Models won't be available and only tokenizers, configuration and file/data utilities can be used.\n",
      "None of PyTorch, TensorFlow >= 2.0, or Flax have been found. Models won't be available and only tokenizers, configuration and file/data utilities can be used.\n"
     ]
    }
   ],
   "source": [
    "from transformers import BertTokenizer, BertForTokenClassification\n",
    "from transformers import pipeline\n",
    "\n",
    "import matplotlib.pyplot as plt\n",
    "import language_tool_python\n",
    "import pandas as pd\n",
    "import itertools\n",
    "from tqdm import tqdm \n",
    "import json \n",
    "import spacy\n",
    "import os\n",
    "\n",
    "if os.path.exists('/kaggle'):\n",
    "    import cupy as cp         # only in Kaggle\n",
    "    import torch              # only in kaggle\n",
    "    spacy.require_gpu()       # only in Kaggle \n",
    "\n",
    "pd.set_option('display.max_colwidth', None)"
   ]
  },
  {
   "cell_type": "code",
   "execution_count": 4,
   "metadata": {
    "ExecuteTime": {
     "end_time": "2024-12-15T17:25:15.919104Z",
     "start_time": "2024-12-15T17:25:15.714636Z"
    }
   },
   "outputs": [],
   "source": [
    "if os.path.exists('/kaggle'):\n",
    "    corpus = pd.read_csv('/kaggle/input/spell-checked-mental-health-corpus/mental_health.csv')\n",
    "else:\n",
    "    corpus = pd.read_csv('resources/mental_health.csv')"
   ]
  },
  {
   "cell_type": "markdown",
   "metadata": {},
   "source": [
    "<div style=\"display: flex; align-items: center; justify-content: center; font-family: Arial, sans-serif;\">\n",
    "    <div style=\"border: 2px solid black; padding: 10px; margin: 5px; text-align: center;\">\n",
    "        SpaCy Classification\n",
    "    </div>\n",
    "    <div style=\"margin: 0 10px; font-size: 24px; font-weight: bold;\">→</div>\n",
    "    <div style=\"border: 2px solid black; padding: 10px; margin: 5px; text-align: center;\">\n",
    "        Grammar Checker\n",
    "    </div>\n",
    "    <div style=\"margin: 0 10px; font-size: 24px; font-weight: bold;\">→</div>\n",
    "    <div style=\"border: 2px solid black; padding: 10px; margin: 5px; text-align: center;\">\n",
    "        Evaluation\n",
    "    </div>\n",
    "    <div style=\"margin: 0 10px; font-size: 24px; font-weight: bold;\">→</div>\n",
    "    <div style=\"border: 2px solid black; padding: 10px; margin: 5px; text-align: center;\">\n",
    "        GPT Evaluation\n",
    "    </div>\n",
    "</div>\n"
   ]
  },
  {
   "cell_type": "markdown",
   "metadata": {},
   "source": [
    "## 1. SpaCy Classification "
   ]
  },
  {
   "cell_type": "markdown",
   "metadata": {
    "ExecuteTime": {
     "end_time": "2024-11-18T10:18:35.439520Z",
     "start_time": "2024-11-18T10:18:35.235633Z"
    }
   },
   "source": [
    "Variable **nlp** for english pipeline contains:\n",
    "- tok2vec\n",
    "- parser\n",
    "- senter\n",
    "- NER\n",
    "- attribute_ruler\n",
    "- lemmatizer"
   ]
  },
  {
   "cell_type": "code",
   "execution_count": 5,
   "metadata": {
    "ExecuteTime": {
     "end_time": "2024-12-15T17:25:19.410640Z",
     "start_time": "2024-12-15T17:25:18.939526Z"
    }
   },
   "outputs": [
    {
     "data": {
      "text/html": [
       "<span class=\"tex2jax_ignore\"><div class=\"entities\" style=\"line-height: 2.5; direction: ltr\">hey rredflag sure right place post this goes  im currently student intern sandia national labs working survey help improve marketing outreach efforts many schools recruit around country were looking current undergradgrad stem students stem student know stem students would greatly appreciate help take pass along short survey thank you everyone helps take survey entered drawing chance win \n",
       "<mark class=\"entity\" style=\"background: #e4e7d2; padding: 0.45em 0.6em; margin: 0 0.25em; line-height: 1; border-radius: 0.35em;\">\n",
       "    one\n",
       "    <span style=\"font-size: 0.8em; font-weight: bold; line-height: 1; border-radius: 0.35em; vertical-align: middle; margin-left: 0.5rem\">CARDINAL</span>\n",
       "</mark>\n",
       " \n",
       "<mark class=\"entity\" style=\"background: #e4e7d2; padding: 0.45em 0.6em; margin: 0 0.25em; line-height: 1; border-radius: 0.35em;\">\n",
       "    three\n",
       "    <span style=\"font-size: 0.8em; font-weight: bold; line-height: 1; border-radius: 0.35em; vertical-align: middle; margin-left: 0.5rem\">CARDINAL</span>\n",
       "</mark>\n",
       "  amazon gcs</div></span>"
      ],
      "text/plain": [
       "<IPython.core.display.HTML object>"
      ]
     },
     "metadata": {},
     "output_type": "display_data"
    }
   ],
   "source": [
    "# Load small Spacy model \n",
    "nlp = spacy.load(\"en_core_web_sm\")\n",
    "\n",
    "# apply the SpaCy NLP pipeline to identify NER entities\n",
    "doc = nlp(corpus.iloc[5]['text'])\n",
    "\n",
    "# pretty-print them with Displacy\n",
    "spacy.displacy.render(doc, style=\"ent\")"
   ]
  },
  {
   "cell_type": "code",
   "execution_count": 6,
   "metadata": {
    "ExecuteTime": {
     "end_time": "2024-12-15T17:25:23.990983Z",
     "start_time": "2024-12-15T17:25:21.416441Z"
    }
   },
   "outputs": [
    {
     "name": "stderr",
     "output_type": "stream",
     "text": [
      "Processing NER: 895264it [02:35, 5768.98it/s]                          \n"
     ]
    }
   ],
   "source": [
    "# create column for NER entities\n",
    "corpus['entities'] = [[] for _ in range(len(corpus))]\n",
    "\n",
    "entities_list = []\n",
    "\n",
    "with tqdm(total=len(corpus), desc=\"Processing NER\") as pbar:\n",
    "\n",
    "    # Use nlp.pipe() for batch processing with parallelization\n",
    "    for i, doc_chunk in enumerate(nlp.pipe(corpus['text'], batch_size=32, n_process=4)):\n",
    "        \n",
    "        entities = [(ent.text, ent.label_) for ent in doc_chunk.ents]\n",
    "        entities_list.append(entities)\n",
    "        \n",
    "        pbar.update(32)\n",
    "\n",
    "corpus['entities'] = entities_list"
   ]
  },
  {
   "cell_type": "code",
   "execution_count": 7,
   "metadata": {
    "ExecuteTime": {
     "end_time": "2024-12-15T16:06:12.993814Z",
     "start_time": "2024-12-15T16:06:12.888772Z"
    }
   },
   "outputs": [
    {
     "data": {
      "text/html": [
       "<div>\n",
       "<style scoped>\n",
       "    .dataframe tbody tr th:only-of-type {\n",
       "        vertical-align: middle;\n",
       "    }\n",
       "\n",
       "    .dataframe tbody tr th {\n",
       "        vertical-align: top;\n",
       "    }\n",
       "\n",
       "    .dataframe thead th {\n",
       "        text-align: right;\n",
       "    }\n",
       "</style>\n",
       "<table border=\"1\" class=\"dataframe\">\n",
       "  <thead>\n",
       "    <tr style=\"text-align: right;\">\n",
       "      <th></th>\n",
       "      <th>text</th>\n",
       "      <th>label</th>\n",
       "      <th>entities</th>\n",
       "    </tr>\n",
       "  </thead>\n",
       "  <tbody>\n",
       "    <tr>\n",
       "      <th>0</th>\n",
       "      <td>dear american teens question dutch person heard guys get way easier things learn age us sooooo thth graders like  right guys learn math</td>\n",
       "      <td>0</td>\n",
       "      <td>[(american, NORP), (dutch, NORP), (us, GPE)]</td>\n",
       "    </tr>\n",
       "    <tr>\n",
       "      <th>1</th>\n",
       "      <td>nothing look forward lifei dont many reasons keep going feel like nothing keeps going next day makes want hang myself</td>\n",
       "      <td>1</td>\n",
       "      <td>[(next day, DATE)]</td>\n",
       "    </tr>\n",
       "    <tr>\n",
       "      <th>2</th>\n",
       "      <td>music recommendations im looking expand playlist usual genres alt pop minnesota hip hop steampunk various indie genres artists people like cavetown aliceband bug hunter penelope scott various rhymesayers willing explore new genresartists such anything generic rap the type exclusively sex drugs cool rapper is rap types pretty good pop popular couple years ago dunno technical genre name anyways anyone got music recommendations favorite artistssongs</td>\n",
       "      <td>0</td>\n",
       "      <td>[(minnesota, GPE)]</td>\n",
       "    </tr>\n",
       "  </tbody>\n",
       "</table>\n",
       "</div>"
      ],
      "text/plain": [
       "                                                                                                                                                                                                                                                                                                                                                                                                                                                                 text  \\\n",
       "0                                                                                                                                                                                                                                                                                                                             dear american teens question dutch person heard guys get way easier things learn age us sooooo thth graders like  right guys learn math   \n",
       "1                                                                                                                                                                                                                                                                                                                                               nothing look forward lifei dont many reasons keep going feel like nothing keeps going next day makes want hang myself   \n",
       "2  music recommendations im looking expand playlist usual genres alt pop minnesota hip hop steampunk various indie genres artists people like cavetown aliceband bug hunter penelope scott various rhymesayers willing explore new genresartists such anything generic rap the type exclusively sex drugs cool rapper is rap types pretty good pop popular couple years ago dunno technical genre name anyways anyone got music recommendations favorite artistssongs   \n",
       "\n",
       "   label                                      entities  \n",
       "0      0  [(american, NORP), (dutch, NORP), (us, GPE)]  \n",
       "1      1                            [(next day, DATE)]  \n",
       "2      0                            [(minnesota, GPE)]  "
      ]
     },
     "execution_count": 7,
     "metadata": {},
     "output_type": "execute_result"
    }
   ],
   "source": [
    "corpus.head(3)"
   ]
  },
  {
   "cell_type": "markdown",
   "metadata": {},
   "source": [
    "<h2> 1.2. Grammar Checker </h2>\n",
    "\n",
    "The dataset contains the following characteristics:\n",
    "- lower-case words (e.g. sandia, arthur etc.)\n",
    "- misspelled words (e.g. rredflag, wasntt etc.)\n",
    "\n",
    "We use the LanguageTool NLP-based model (https://languagetool.org/?force_language=1) that grammatically checks for errors.\n",
    "\n",
    "This model requires the local machine to have installed JAVA."
   ]
  },
  {
   "cell_type": "code",
   "execution_count": 8,
   "metadata": {
    "ExecuteTime": {
     "end_time": "2024-12-15T16:06:15.347618Z",
     "start_time": "2024-12-15T16:06:14.997187Z"
    }
   },
   "outputs": [],
   "source": [
    "# create column where to put the correct text\n",
    "corpus['correct_text'] = [[] for _ in range(len(corpus))]\n",
    "\n",
    "# was trained for 1 Hour with GPU on Kaggle  \n",
    "if os.path.exists('/kaggle'):\n",
    "\n",
    "    # define the language tool for english\n",
    "    tool = language_tool_python.LanguageTool('en-US')\n",
    "\n",
    "    for i, doc in tqdm(enumerate(corpus['text']),total=len(corpus)):\n",
    "        matches = tool.check(doc)\n",
    "        corpus.at[i,'correct_text'] = language_tool_python.utils.correct(doc, matches)\n",
    "    \n",
    "    corpus.to_csv('/kaggle/working/corrected_data.csv')\n",
    "else:\n",
    "    # READING THE Grammatically corrected dataset \n",
    "    corpus['correct_text'] = pd.read_csv('resources/corrected_data.csv')['correct_text']"
   ]
  },
  {
   "cell_type": "code",
   "execution_count": 9,
   "metadata": {
    "ExecuteTime": {
     "end_time": "2024-12-15T17:25:27.067461Z",
     "start_time": "2024-12-15T17:25:26.938638Z"
    }
   },
   "outputs": [
    {
     "data": {
      "text/html": [
       "<span class=\"tex2jax_ignore\"><div class=\"entities\" style=\"line-height: 2.5; direction: ltr\">hey rredflag sure right place post this goes  im currently student intern sandia national labs working survey help improve marketing outreach efforts many schools recruit around country were looking current undergradgrad stem students stem student know stem students would greatly appreciate help take pass along short survey thank you everyone helps take survey entered drawing chance win \n",
       "<mark class=\"entity\" style=\"background: #e4e7d2; padding: 0.45em 0.6em; margin: 0 0.25em; line-height: 1; border-radius: 0.35em;\">\n",
       "    one\n",
       "    <span style=\"font-size: 0.8em; font-weight: bold; line-height: 1; border-radius: 0.35em; vertical-align: middle; margin-left: 0.5rem\">CARDINAL</span>\n",
       "</mark>\n",
       " \n",
       "<mark class=\"entity\" style=\"background: #e4e7d2; padding: 0.45em 0.6em; margin: 0 0.25em; line-height: 1; border-radius: 0.35em;\">\n",
       "    three\n",
       "    <span style=\"font-size: 0.8em; font-weight: bold; line-height: 1; border-radius: 0.35em; vertical-align: middle; margin-left: 0.5rem\">CARDINAL</span>\n",
       "</mark>\n",
       "  amazon gcs</div></span>"
      ],
      "text/plain": [
       "<IPython.core.display.HTML object>"
      ]
     },
     "metadata": {},
     "output_type": "display_data"
    },
    {
     "name": "stdout",
     "output_type": "stream",
     "text": [
      "------------------------------------------------------------------------------------------------------------------------------------------------------\n"
     ]
    },
    {
     "data": {
      "text/html": [
       "<span class=\"tex2jax_ignore\"><div class=\"entities\" style=\"line-height: 2.5; direction: ltr\">Hey rredflag sure right place post this goes I'm currently student intern \n",
       "<mark class=\"entity\" style=\"background: #7aecec; padding: 0.45em 0.6em; margin: 0 0.25em; line-height: 1; border-radius: 0.35em;\">\n",
       "    Sandra\n",
       "    <span style=\"font-size: 0.8em; font-weight: bold; line-height: 1; border-radius: 0.35em; vertical-align: middle; margin-left: 0.5rem\">ORG</span>\n",
       "</mark>\n",
       " national labs working survey help improve marketing outreach efforts many schools recruit around country were looking current undergrad grad stem students stem student know stem students would greatly appreciate help take pass along short survey thank you everyone helps take survey entered drawing chance win \n",
       "<mark class=\"entity\" style=\"background: #e4e7d2; padding: 0.45em 0.6em; margin: 0 0.25em; line-height: 1; border-radius: 0.35em;\">\n",
       "    one\n",
       "    <span style=\"font-size: 0.8em; font-weight: bold; line-height: 1; border-radius: 0.35em; vertical-align: middle; margin-left: 0.5rem\">CARDINAL</span>\n",
       "</mark>\n",
       " \n",
       "<mark class=\"entity\" style=\"background: #e4e7d2; padding: 0.45em 0.6em; margin: 0 0.25em; line-height: 1; border-radius: 0.35em;\">\n",
       "    three\n",
       "    <span style=\"font-size: 0.8em; font-weight: bold; line-height: 1; border-radius: 0.35em; vertical-align: middle; margin-left: 0.5rem\">CARDINAL</span>\n",
       "</mark>\n",
       " \n",
       "<mark class=\"entity\" style=\"background: #7aecec; padding: 0.45em 0.6em; margin: 0 0.25em; line-height: 1; border-radius: 0.35em;\">\n",
       "    Amazon\n",
       "    <span style=\"font-size: 0.8em; font-weight: bold; line-height: 1; border-radius: 0.35em; vertical-align: middle; margin-left: 0.5rem\">ORG</span>\n",
       "</mark>\n",
       " \n",
       "<mark class=\"entity\" style=\"background: #bfeeb7; padding: 0.45em 0.6em; margin: 0 0.25em; line-height: 1; border-radius: 0.35em;\">\n",
       "    GCS\n",
       "    <span style=\"font-size: 0.8em; font-weight: bold; line-height: 1; border-radius: 0.35em; vertical-align: middle; margin-left: 0.5rem\">PRODUCT</span>\n",
       "</mark>\n",
       "</div></span>"
      ],
      "text/plain": [
       "<IPython.core.display.HTML object>"
      ]
     },
     "metadata": {},
     "output_type": "display_data"
    }
   ],
   "source": [
    "# apply the SpaCy NLP pipeline to identify NER entities\n",
    "doc = nlp(corpus.iloc[5]['text'])\n",
    "\n",
    "# pretty-print them with Displacy\n",
    "spacy.displacy.render(doc, style=\"ent\")\n",
    "print(50* '---')\n",
    "# apply the SpaCy NLP pipeline to identify NER entities\n",
    "doc = nlp(corpus.iloc[5]['correct_text'])\n",
    "\n",
    "# pretty-print them with Displacy\n",
    "spacy.displacy.render(doc, style=\"ent\")"
   ]
  },
  {
   "cell_type": "code",
   "execution_count": 10,
   "metadata": {
    "ExecuteTime": {
     "end_time": "2024-12-15T17:25:29.727625Z",
     "start_time": "2024-12-15T17:25:29.594397Z"
    }
   },
   "outputs": [
    {
     "name": "stderr",
     "output_type": "stream",
     "text": [
      "Processing NER: 895264it [02:25, 6151.85it/s]                          \n"
     ]
    }
   ],
   "source": [
    "# create column for NER entities\n",
    "corpus['corrected_entities'] = [[] for _ in range(len(corpus))]\n",
    "\n",
    "entities_list = []\n",
    "\n",
    "with tqdm(total=len(corpus), desc=\"Processing NER\") as pbar:\n",
    "\n",
    "    # Use nlp.pipe() for batch processing with parallelization\n",
    "    for i, doc_chunk in enumerate(nlp.pipe(corpus['correct_text'], batch_size=32, n_process=4)):\n",
    "        \n",
    "        entities = [(ent.text, ent.label_) for ent in doc_chunk.ents]\n",
    "        entities_list.append(entities)\n",
    "        \n",
    "        pbar.update(32)\n",
    "\n",
    "corpus['corrected_entities'] = entities_list"
   ]
  },
  {
   "cell_type": "markdown",
   "metadata": {},
   "source": [
    "<h2> 1.3. SPACY Labeling </h2>\n",
    "\n",
    "- **PERSON**: People, including fictional.\n",
    "- **NORP**: Nationalities or religious or political groups.\n",
    "- **FAC**: Buildings, airports, highways, bridges, etc.\n",
    "- **ORG**: Companies, agencies, institutions, etc.\n",
    "- **GPE**: Countries, cities, states.\n",
    "- **LOC**: Non-GPE locations, mountain ranges, bodies of water.\n",
    "- **PRODUCT**: Objects, vehicles, foods, etc. (Not services.)\n",
    "- **EVENT**: Named hurricanes, battles, wars, sports events, etc.\n",
    "- **WORK_OF_ART**: Titles of books, songs, etc.\n",
    "- **LAW**: Named documents made into laws.\n",
    "- **LANGUAGE**: Any named language.\n",
    "- **DATE**: Absolute or relative dates or periods.\n",
    "- **TIME**: Times smaller than a day.\n",
    "- **PERCENT**: Percentage, including “%”.\n",
    "- **MONEY**: Monetary values, including unit.\n",
    "- **QUANTITY**: Measurements, as of weight or distance.\n",
    "- **ORDINAL**: “first”, “second”, etc.\n",
    "- **CARDINAL**: Numerals that do not fall under another type.\n"
   ]
  },
  {
   "cell_type": "markdown",
   "metadata": {},
   "source": [
    "In this section we take the manually annotated NER LABEL from Label Studio. They are in ```project-3.json``` file. They will be stored in a new dataframe called ground truth.  \n",
    "\n",
    "**INPUT**\n",
    "- **JSON_FILE** \n",
    "    - is exported from Label studio GUI and saved in the resources folder.\n",
    "\n",
    "**OUTPUT**\n",
    "- df \n",
    "    - dataframe with 'text' and 'annotations'columns for standard spacy NER labels."
   ]
  },
  {
   "cell_type": "code",
   "execution_count": 11,
   "metadata": {
    "ExecuteTime": {
     "end_time": "2024-12-15T17:25:31.743648Z",
     "start_time": "2024-12-15T17:25:31.694531Z"
    }
   },
   "outputs": [],
   "source": [
    "# manual annotations (Label Studio)\n",
    "if os.path.exists('/kaggle'):\n",
    "    JSON_FILE        = '/kaggle/input/spell-checked-mental-health-corpus/project-3.json'\n",
    "    JSON_FILE_38_69  = '/kaggle/input/spell-checked-mental-health-corpus/project-3-rows-38-69.json'\n",
    "    JSON_FILE_70_100 = '/kaggle/input/spell-checked-mental-health-corpus/project-3-rows-70-100.json'\n",
    "else:\n",
    "    JSON_FILE        = 'resources/project-3.json'\n",
    "    JSON_FILE_38_69  = 'resources/project-3-rows-38-69.json'\n",
    "    JSON_FILE_70_100 = 'resources/project-3-rows-70-100.json'"
   ]
  },
  {
   "cell_type": "code",
   "execution_count": 12,
   "metadata": {
    "ExecuteTime": {
     "end_time": "2024-12-15T17:25:32.412516Z",
     "start_time": "2024-12-15T17:25:32.356737Z"
    }
   },
   "outputs": [
    {
     "name": "stdout",
     "output_type": "stream",
     "text": [
      "text                  nothing look forward lifei dont many reasons keep going feel like nothing keeps going next day makes want hang myself\n",
      "label                                                                                                                                     1\n",
      "entities                                                                                                                 [(next day, DATE)]\n",
      "correct_text          Nothing look forward life don't many reasons keep going feel like nothing keeps going next day makes want hang myself\n",
      "corrected_entities                                                                                                       [(next day, DATE)]\n",
      "Name: 1, dtype: object \n",
      "\n",
      "text                  giving thoughtsive wanting od since  im almost  getting worse started wasnt bad easy distract thoughts pretty infrequent cant get head things much complicated thoughts mainly bother me part wants give make stop\n",
      "label                                                                                                                                                                                                                                  1\n",
      "entities                                                                                                                                                                                                                              []\n",
      "correct_text             Giving thoughts wanting OD since I'm almost getting worse started wasn't bad easy distract thoughts pretty infrequent cant get head things much complicated thoughts mainly bother me part wants give make stop\n",
      "corrected_entities                                                                                                                                                                                                                    []\n",
      "Name: 39, dtype: object \n",
      "\n",
      "text                  imm kill himgave dealer  xtx mdma speed ran without giving shit swear god text back ill murder ass\n",
      "label                                                                                                                  1\n",
      "entities                                                                                               [(xtx mdma, ORG)]\n",
      "correct_text          Imm kill him gave dealer ATX MDMA speed ran without giving shit swear god text back ill murder ass\n",
      "corrected_entities                                                                                                    []\n",
      "Name: 70, dtype: object \n",
      "\n"
     ]
    }
   ],
   "source": [
    "from utils.metrics import read_ner_annotations\n",
    "\n",
    "spacy_ground_truth_0_37     = read_ner_annotations(JSON_FILE)\n",
    "spacy_ground_truth_38_69    = read_ner_annotations(JSON_FILE_38_69)\n",
    "spacy_ground_truth_70_100   = read_ner_annotations(JSON_FILE_70_100)\n",
    "\n",
    "# manual annotations for 100 instances in the corpus\n",
    "spacy_ground_truth = pd.concat([spacy_ground_truth_0_37, spacy_ground_truth_38_69, spacy_ground_truth_70_100])\n",
    "\n",
    "# READING CUSTOM ANNOTATTIONS FOR LABELS (SYMPTOM, TREATMENT, MEDICATION, DISEASE) that will be later used \n",
    "custom_ground_truth_0_37    = read_ner_annotations('resources/project-3-rows-01-37-custom-labels.json')\n",
    "custom_ground_truth_38_69   = read_ner_annotations('resources/project-3-rows-38-69-custom-labels.json')\n",
    "custom_ground_truth_70_100  = read_ner_annotations('resources/project-3-rows-70-100-custom-labels.json')\n",
    "\n",
    "custom_ground_truth = pd.concat([custom_ground_truth_0_37,custom_ground_truth_38_69,custom_ground_truth_70_100])\n",
    "print(corpus.iloc[1],'\\n')\n",
    "print(corpus.iloc[39],'\\n')\n",
    "print(corpus.iloc[70],'\\n')"
   ]
  },
  {
   "cell_type": "markdown",
   "metadata": {},
   "source": [
    "In this section we pre-process the JSON file by as a dictionary the following format:\n",
    "\n",
    "Some important observationrs are that for fine-tuning spacy, the data requires a different format compared to testing:\n",
    "- **TRAIN Format:** `<START_INDEX, STOP_INDEX, LABEL>`\n",
    "- **TEST Format:** `<TEXT, LABEL>`\n",
    "\n",
    "To be important, we use the TRAIN format only when **fine-tuning**. Most of this notebook uses the **TEST Format**."
   ]
  },
  {
   "cell_type": "code",
   "execution_count": 19,
   "metadata": {},
   "outputs": [],
   "source": [
    "from utils.metrics import read_ner_with_index_annotations\n",
    "\n",
    "gt_0_37    = read_ner_with_index_annotations('resources/project-3-rows-01-37-custom-labels.json')\n",
    "gt_38_69   = read_ner_with_index_annotations('resources/project-3-rows-38-69-custom-labels.json')\n",
    "gt_70_100  = read_ner_with_index_annotations('resources/project-3-rows-70-100-custom-labels.json')\n",
    "\n",
    "\n",
    "custom_ground_truth_training = gt_0_37 + gt_38_69 + gt_70_100"
   ]
  },
  {
   "cell_type": "markdown",
   "metadata": {},
   "source": [
    "<h2> 1.4. SpaCY Evaluation with Manual Labels </h2>\n",
    "\n",
    "The chosen metric was based on **SET** operation. The reason for doing so is motivated by:\n",
    "- counting **unique** instances. \n",
    "- removing **empty** labels that artificially inflate precision/recall/f1.\n",
    "- the first 100 instances from corpus are manually annotated.\n",
    "$$\n",
    "\\hat{y} - y = \\textit{false positive} \\\\\n",
    "$$\n",
    "$$\n",
    "y - \\hat{y} = \\textit{false positive} \\\\\n",
    "$$\n",
    "$$\n",
    "\\hat{y} \\cap y = \\textit{false positive} \\\\\n",
    "$$"
   ]
  },
  {
   "cell_type": "code",
   "execution_count": 62,
   "metadata": {
    "ExecuteTime": {
     "end_time": "2024-12-15T17:25:42.025086Z",
     "start_time": "2024-12-15T17:25:41.888156Z"
    }
   },
   "outputs": [],
   "source": [
    "# scripts for pre-processing the JSON files or computing custom SET metrics\n",
    "from utils.metrics import count_ner_labels, compute_ner_metrics, read_ner_annotations, convert_string_to_list"
   ]
  },
  {
   "cell_type": "markdown",
   "metadata": {},
   "source": [
    "<h3> 1.4.1 SpaCY Evaluation for Raw Text</h3>\n",
    "\n",
    "- **ground_truth** = corpus manually labelled \n",
    "- **predictions** = raw text from corpus"
   ]
  },
  {
   "cell_type": "code",
   "execution_count": 13,
   "metadata": {
    "ExecuteTime": {
     "end_time": "2024-12-15T17:25:42.913914Z",
     "start_time": "2024-12-15T17:25:42.792600Z"
    }
   },
   "outputs": [
    {
     "name": "stdout",
     "output_type": "stream",
     "text": [
      "[DATE       ] : 23084\n",
      "[CARDINAL   ] : 10411\n",
      "[PERSON     ] : 9843\n",
      "[TIME       ] : 4493\n",
      "[ORDINAL    ] : 4481\n",
      "[NORP       ] : 3137\n",
      "[ORG        ] : 3087\n",
      "[GPE        ] : 2829\n",
      "[LANGUAGE   ] : 278\n",
      "[LOC        ] : 214\n",
      "[QUANTITY   ] : 144\n",
      "[PRODUCT    ] : 117\n",
      "[MONEY      ] : 116\n",
      "[FAC        ] : 72\n",
      "[EVENT      ] : 32\n",
      "[LAW        ] : 10\n",
      "[WORK_OF_ART] : 9\n",
      "[PERCENT    ] : 7\n"
     ]
    }
   ],
   "source": [
    "# the number of labels for the raw text with NER SPACY\n",
    "values = count_ner_labels(corpus,'entities')"
   ]
  },
  {
   "cell_type": "code",
   "execution_count": 14,
   "metadata": {
    "ExecuteTime": {
     "end_time": "2024-12-15T17:25:43.376901Z",
     "start_time": "2024-12-15T17:25:43.322648Z"
    }
   },
   "outputs": [
    {
     "name": "stdout",
     "output_type": "stream",
     "text": [
      "Precision\t\t: 0.48\n",
      "Recall\t\t\t: 0.16\n",
      "F1 Score\t\t: 0.24\n",
      "\n",
      "False Negatives: 280\n",
      "\n",
      "False Positives: 56\n"
     ]
    }
   ],
   "source": [
    "# the PRECISION, F1, RECALL for the raw text with SPACY NER CLASSIFIER\n",
    "\n",
    "# eval_length = 100 \n",
    "EVAL_LENGTH = len(spacy_ground_truth['annotations'])\n",
    "\n",
    "predictions  = corpus['entities'][:EVAL_LENGTH]\n",
    "ground_truth = spacy_ground_truth['annotations']\n",
    "\n",
    "values = compute_ner_metrics(ground_truth, predictions)"
   ]
  },
  {
   "cell_type": "markdown",
   "metadata": {},
   "source": [
    "<h3> 1.4.2 SpaCY Evaluation for Corrected Text</h3>"
   ]
  },
  {
   "cell_type": "code",
   "execution_count": 15,
   "metadata": {
    "ExecuteTime": {
     "end_time": "2024-12-15T17:24:04.998880Z",
     "start_time": "2024-12-15T17:24:04.917009Z"
    }
   },
   "outputs": [
    {
     "name": "stdout",
     "output_type": "stream",
     "text": [
      "[DATE       ] : 23609\n",
      "[PERSON     ] : 14580\n",
      "[ORG        ] : 12614\n",
      "[CARDINAL   ] : 10339\n",
      "[GPE        ] : 5163\n",
      "[TIME       ] : 4839\n",
      "[ORDINAL    ] : 4461\n",
      "[NORP       ] : 3837\n",
      "[PRODUCT    ] : 1003\n",
      "[LANGUAGE   ] : 456\n",
      "[LOC        ] : 435\n",
      "[FAC        ] : 185\n",
      "[WORK_OF_ART] : 161\n",
      "[EVENT      ] : 147\n",
      "[QUANTITY   ] : 130\n",
      "[MONEY      ] : 112\n",
      "[LAW        ] : 12\n",
      "[PERCENT    ] : 11\n"
     ]
    }
   ],
   "source": [
    "# the number of labels for the grammatically corrected text with NER SPACY\n",
    "values = count_ner_labels(corpus,'corrected_entities')"
   ]
  },
  {
   "cell_type": "code",
   "execution_count": 16,
   "metadata": {
    "ExecuteTime": {
     "end_time": "2024-12-15T17:24:06.743616Z",
     "start_time": "2024-12-15T17:24:05.672714Z"
    }
   },
   "outputs": [
    {
     "name": "stdout",
     "output_type": "stream",
     "text": [
      "Precision\t\t: 0.44\n",
      "Recall\t\t\t: 0.20\n",
      "F1 Score\t\t: 0.27\n",
      "\n",
      "False Negatives: 266\n",
      "\n",
      "False Positives: 84\n"
     ]
    }
   ],
   "source": [
    "# takes a prediction subset of EVAL_LENGTH\n",
    "# EVAL_LENGTH is the no. of manually annotated labels\n",
    "\n",
    "predictions     = corpus['corrected_entities'][:EVAL_LENGTH]\n",
    "ground_truth    = spacy_ground_truth['annotations']\n",
    "\n",
    "# computes SET operations on pandas Dataframe. \n",
    "values          = compute_ner_metrics(ground_truth, predictions)"
   ]
  },
  {
   "cell_type": "markdown",
   "metadata": {},
   "source": [
    "<h2> 1.5 SPACY Evaluation with GPT Labels</h2>"
   ]
  },
  {
   "cell_type": "markdown",
   "metadata": {},
   "source": [
    "We introduce a script that generates the same output as NER Spacy Classifier:\n",
    "- the script identifies all 18 NER standard labels\n",
    "- it returns a list of tuples with (word, NER LABEL)\n"
   ]
  },
  {
   "cell_type": "code",
   "execution_count": 17,
   "metadata": {},
   "outputs": [],
   "source": [
    "from openai import OpenAI\n",
    "from tqdm import tqdm \n",
    "\n",
    "# we create a new column for the SPACY entities that will be predicted with GPT \n",
    "corpus['gpt_entities'] = [[] for _ in range(len(corpus))]\n",
    "\n",
    "if os.path.exists('utils/open_ai_key.py') and hasattr('utils/open_ai_key.py', 'KEY'):\n",
    "\n",
    "    from utils.open_ai_key import KEY \n",
    "\n",
    "    client = OpenAI(api_key = KEY)\n",
    "\n",
    "    with open(\"resources/gpt_annotation_mental_health.csv\", \"a\") as f:\n",
    "        for i, doc in tqdm(enumerate(corpus['correct_text'].head(100)), total=100):\n",
    "            completion = client.chat.completions.create(\n",
    "                model=\"gpt-4o\",\n",
    "                messages = [\n",
    "                    {\"role\": \"system\", \"content\": \"You are a helpful assistant.\"},\n",
    "                    {\n",
    "                    \"role\": \"user\",\n",
    "                    \"content\": f\"Please annotate the text using the standard NER labels from spaCy with 18 NER labels (PERSON, NORP, FAC, ORG, GPE, LOC, PRODUCT, EVENT, WORK_OF_ART, LAW, LANGUAGE, DATE, TIME,PERCENT, MONEY, QUANTITY, ORDINAL, CARDINAL). Your output is a list of tuples separated with comma. One tuple represents (<sequence in text>, <NER SPACY LABEL>). You must be able to explain your decision if I ask why you choose a NER spacy for the given text.Do not add any indentation or new lines, if there are not NER labels the output is an empty list. Please output only the list of tuples and no other information. Apply the previous instructions for this text {doc}\"\n",
    "                    }\n",
    "                ]\n",
    "            )\n",
    "            corpus.at[i, 'gpt_entities'] = completion.choices[0].message.content  \n",
    "\n",
    "    corpus.to_csv('resources/gpt_annotation_mental_health.csv')\n",
    "    # this else clause was added because we trained on KAGGLE with GPU environment\n",
    "    # if we are on CPU, local computer, then we read the .CSV file that was generated during training \n",
    "else:\n",
    "    if os.path.exists('/kaggle'):\n",
    "        corpus = pd.read_csv('/kaggle/input/spell-checked-mental-health-corpus/gpt_annotation_mental_health.csv')\n",
    "    else: \n",
    "        corpus['gpt_entities'] = pd.read_csv('resources/gpt_annotation_mental_health.csv')['gpt_entities']\n",
    "        corpus['gpt_entities'] = corpus['gpt_entities'].apply(convert_string_to_list)\n",
    "\n"
   ]
  },
  {
   "cell_type": "code",
   "execution_count": 18,
   "metadata": {
    "ExecuteTime": {
     "end_time": "2024-12-15T17:25:48.826568Z",
     "start_time": "2024-12-15T17:25:48.714037Z"
    }
   },
   "outputs": [
    {
     "name": "stdout",
     "output_type": "stream",
     "text": [
      "Precision\t\t: 0.29\n",
      "Recall\t\t\t: 0.21\n",
      "F1 Score\t\t: 0.24\n",
      "\n",
      "False Negatives: 262\n",
      "\n",
      "False Positives: 174\n"
     ]
    }
   ],
   "source": [
    "# we compute the performance of predictions producted by GPT with the ground truth as raw text annotations \n",
    "predictions     = corpus['gpt_entities'][:EVAL_LENGTH]\n",
    "ground_truth    = spacy_ground_truth['annotations']\n",
    "\n",
    "values          = compute_ner_metrics(ground_truth, predictions)"
   ]
  },
  {
   "cell_type": "code",
   "execution_count": 19,
   "metadata": {
    "ExecuteTime": {
     "end_time": "2024-12-15T17:25:49.669705Z",
     "start_time": "2024-12-15T17:25:49.566803Z"
    }
   },
   "outputs": [
    {
     "name": "stdout",
     "output_type": "stream",
     "text": [
      "Precision\t\t: 0.20\n",
      "Recall\t\t\t: 0.00\n",
      "F1 Score\t\t: 0.01\n",
      "\n",
      "False Negatives: 18427\n",
      "\n",
      "False Positives: 194\n"
     ]
    }
   ],
   "source": [
    "# we compute the performance of predictions producted by GPT with the ground truth as corrected text annotations \n",
    "predictions     = corpus['gpt_entities'][:EVAL_LENGTH]\n",
    "ground_truth    = corpus['corrected_entities']\n",
    "\n",
    "values          = compute_ner_metrics(ground_truth, predictions)"
   ]
  },
  {
   "cell_type": "code",
   "execution_count": 20,
   "metadata": {
    "ExecuteTime": {
     "end_time": "2024-12-15T17:25:50.306977Z",
     "start_time": "2024-12-15T17:25:50.207971Z"
    }
   },
   "outputs": [
    {
     "name": "stdout",
     "output_type": "stream",
     "text": [
      "Precision\t\t: 0.31\n",
      "Recall\t\t\t: 0.01\n",
      "F1 Score\t\t: 0.01\n",
      "\n",
      "False Negatives: 14598\n",
      "\n",
      "False Positives: 169\n"
     ]
    }
   ],
   "source": [
    "# we investigate how similar are the predictions producted by GPT with the predictions produced by SPACY \n",
    "predictions     = corpus['gpt_entities'][:EVAL_LENGTH]\n",
    "ground_truth    = corpus['entities']\n",
    "\n",
    "values          = compute_ner_metrics(ground_truth, predictions)"
   ]
  },
  {
   "cell_type": "markdown",
   "metadata": {},
   "source": [
    "<div style=\"display: flex; align-items: center; justify-content: center; font-family: Arial, sans-serif;\">\n",
    "    <div style=\"border: 2px solid black; padding: 10px; margin: 5px; text-align: center;\">\n",
    "        Custom Labels (TAG)\n",
    "    </div>\n",
    "    <div style=\"margin: 0 10px; font-size: 24px; font-weight: bold;\">→</div>\n",
    "    <div style=\"border: 2px solid black; padding: 10px; margin: 5px; text-align: center;\">\n",
    "        Emtpy Spacy NER Classifier\n",
    "    </div>\n",
    "    <div style=\"margin: 0 10px; font-size: 24px; font-weight: bold;\">→</div>\n",
    "    <div style=\"border: 2px solid black; padding: 10px; margin: 5px; text-align: center;\">\n",
    "        GPT Evaluation\n",
    "    </div>\n",
    "</div>\n",
    "\n",
    "\n",
    "## 2. CUSTOM Labels \n",
    "\n",
    "In this section we create the custom labels:\n",
    "- **DISEASE**\n",
    "- **SYMPTOM**\n",
    "- **TREATMENT**\n",
    "- **MEDICATION**\n",
    "\n",
    "In the file ```custom_tags.py``` we have some manual annotation for specific mental health diseases (e.g. schizophrenia) and other terms. We add them to our blank SPACY NER classifier."
   ]
  },
  {
   "cell_type": "code",
   "execution_count": 21,
   "metadata": {
    "ExecuteTime": {
     "end_time": "2024-12-15T17:25:51.558283Z",
     "start_time": "2024-12-15T17:25:51.381995Z"
    }
   },
   "outputs": [],
   "source": [
    "# library with rule-based LABELS that will be added manually \n",
    "from utils.custom_tags import TAGS\n",
    "\n",
    "# blank SPacy NER classifier for the english language\n",
    "nlp = spacy.blank(\"en\")\n",
    "\n",
    "# NER classifier \n",
    "ruler = nlp.add_pipe(\"entity_ruler\")\n",
    "\n",
    "# adding the custom NER labels\n",
    "ruler.add_patterns(TAGS)"
   ]
  },
  {
   "cell_type": "markdown",
   "metadata": {},
   "source": [
    "<h2> 2.2 Spacy Classifier</h2>"
   ]
  },
  {
   "cell_type": "markdown",
   "metadata": {},
   "source": [
    "<h3> 2.2.1 Blank Spacy Classifier </h3>\n",
    "\n",
    "In the first instance, we train with a blank classifier, as a baseline."
   ]
  },
  {
   "cell_type": "code",
   "execution_count": 22,
   "metadata": {},
   "outputs": [
    {
     "name": "stderr",
     "output_type": "stream",
     "text": [
      "  0%|          | 0/27977 [00:00<?, ?it/s]"
     ]
    },
    {
     "name": "stderr",
     "output_type": "stream",
     "text": [
      "100%|██████████| 27977/27977 [00:09<00:00, 3088.15it/s]\n"
     ]
    }
   ],
   "source": [
    "# create column for NER entities\n",
    "corpus['custom_entities'] = [[] for _ in range(len(corpus))]\n",
    "\n",
    "# classify each text row ---> put results in 'entities'\n",
    "for i, doc in tqdm(enumerate(nlp.pipe(corpus['correct_text'])), total=len(corpus)):\n",
    "    entities = [(ent.text, ent.label_) for ent in doc.ents]\n",
    "    corpus.at[i, 'custom_entities'] = entities  \n",
    "# corpus.to_csv('resources/custom_annotations_mental_health.csv')"
   ]
  },
  {
   "cell_type": "code",
   "execution_count": 23,
   "metadata": {},
   "outputs": [
    {
     "name": "stdout",
     "output_type": "stream",
     "text": [
      "[SYMPTOM   ] : 10322\n",
      "[DISEASE   ] : 3942\n",
      "[TREATMENT ] : 2146\n",
      "[MEDICATION] : 377\n"
     ]
    }
   ],
   "source": [
    "values = count_ner_labels(corpus,'custom_entities')"
   ]
  },
  {
   "cell_type": "code",
   "execution_count": 24,
   "metadata": {},
   "outputs": [
    {
     "name": "stdout",
     "output_type": "stream",
     "text": [
      "Precision\t\t: 0.70\n",
      "Recall\t\t\t: 0.11\n",
      "F1 Score\t\t: 0.19\n",
      "\n",
      "False Negatives: 244\n",
      "\n",
      "False Positives: 13\n"
     ]
    }
   ],
   "source": [
    "EVAL_LENGTH         = 98\n",
    "\n",
    "predictions     = corpus['custom_entities'][:EVAL_LENGTH]\n",
    "ground_truth    = custom_ground_truth['annotations']\n",
    "\n",
    "values = compute_ner_metrics(ground_truth, predictions)"
   ]
  },
  {
   "cell_type": "markdown",
   "metadata": {},
   "source": [
    "<h3> 2.2.2 Spacy Fine-Tuning </h3>\n",
    "In this section we explore how we can fine-tune Spacy:\n",
    "\n",
    "1. We load the spacy blank model for English.\n",
    "2. We fine-tune the model using our TRAIN_DATA. \n",
    "3. We test the performance on the TEST_DATA.\n",
    "\n",
    "Some important observationrs are that for fine-tuning spacy, the data requires a different format compared to testing:\n",
    "- **TRAIN Format:** `<START_INDEX, STOP_INDEX, LABEL>`\n",
    "- **TEST Format:** `<TEXT, LABEL>`\n"
   ]
  },
  {
   "cell_type": "code",
   "execution_count": 92,
   "metadata": {},
   "outputs": [],
   "source": [
    "# during fine-tuning we peform a SPLIT operation to obtain TRAIN and TEST DATA\n",
    "from sklearn.model_selection import train_test_split\n",
    "\n",
    "\n",
    "EVAL_LENGTH          = 98\n",
    "DATA                 = custom_ground_truth_training\n",
    "TRAIN_DATA,TEST_DATA = train_test_split(DATA,test_size=0.2,shuffle=True,random_state=42)"
   ]
  },
  {
   "cell_type": "code",
   "execution_count": 93,
   "metadata": {},
   "outputs": [],
   "source": [
    "# we will train spacy for 10 epochs \n",
    "EPOCHS = 10"
   ]
  },
  {
   "cell_type": "code",
   "execution_count": null,
   "metadata": {},
   "outputs": [],
   "source": [
    "from spacy.training import Example \n",
    "\n",
    "nlp = spacy.blank(\"en\")\n",
    "\n",
    "if \"ner\" not in nlp.pipe_names:\n",
    "    ner = nlp.add_pipe(\"ner\")\n",
    "    \n",
    "# we add manually the custom LABELS \n",
    "ner.add_label(\"MEDICATION\")\n",
    "ner.add_label(\"TREATMENT\")\n",
    "ner.add_label(\"SYMPTOM\")\n",
    "ner.add_label(\"DISEASE\")\n",
    "\n",
    "# we take a list with all other pipes beside NER, those will be excluded from the OPTIMIZATION\n",
    "other_pipes = [pipe for pipe in nlp.pipe_names if pipe != \"ner\"]\n"
   ]
  },
  {
   "cell_type": "code",
   "execution_count": 94,
   "metadata": {},
   "outputs": [
    {
     "name": "stderr",
     "output_type": "stream",
     "text": [
      "c:\\Users\\tudor\\Documents\\BERN\\AN 2 SEM 2\\NLP\\2024_NLP_Project\\.venv\\Lib\\site-packages\\spacy\\training\\iob_utils.py:149: UserWarning: [W030] Some entities could not be aligned in the text \"Insanitygirlfriend broke me put a lot feelings ont...\" with entities \"[(504, 513, 'SYMPTOM'), (226, 231, 'SYMPTOM'), (41...\". Use `spacy.training.offsets_to_biluo_tags(nlp.make_doc(text), entities)` to check the alignment. Misaligned entities ('-') will be ignored during training.\n",
      "  warnings.warn(\n",
      "c:\\Users\\tudor\\Documents\\BERN\\AN 2 SEM 2\\NLP\\2024_NLP_Project\\.venv\\Lib\\site-packages\\spacy\\training\\iob_utils.py:149: UserWarning: [W030] Some entities could not be aligned in the text \"cant go oni wanna kill ive gone shit cant bare lif...\" with entities \"[(182, 197, 'SYMPTOM'), (112, 135, 'SYMPTOM'), (10...\". Use `spacy.training.offsets_to_biluo_tags(nlp.make_doc(text), entities)` to check the alignment. Misaligned entities ('-') will be ignored during training.\n",
      "  warnings.warn(\n",
      "c:\\Users\\tudor\\Documents\\BERN\\AN 2 SEM 2\\NLP\\2024_NLP_Project\\.venv\\Lib\\site-packages\\spacy\\training\\iob_utils.py:149: UserWarning: [W030] Some entities could not be aligned in the text \"Wish weren't alone wish outlet time don't want to ...\" with entities \"[(204, 209, 'SYMPTOM'), (782, 817, 'SYMPTOM'), (46...\". Use `spacy.training.offsets_to_biluo_tags(nlp.make_doc(text), entities)` to check the alignment. Misaligned entities ('-') will be ignored during training.\n",
      "  warnings.warn(\n",
      "c:\\Users\\tudor\\Documents\\BERN\\AN 2 SEM 2\\NLP\\2024_NLP_Project\\.venv\\Lib\\site-packages\\spacy\\training\\iob_utils.py:149: UserWarning: [W030] Some entities could not be aligned in the text \"cant cope please helpso im bi  cant cope mum hates...\" with entities \"[(51, 71, 'SYMPTOM'), (318, 328, 'DISEASE'), (473,...\". Use `spacy.training.offsets_to_biluo_tags(nlp.make_doc(text), entities)` to check the alignment. Misaligned entities ('-') will be ignored during training.\n",
      "  warnings.warn(\n",
      "c:\\Users\\tudor\\Documents\\BERN\\AN 2 SEM 2\\NLP\\2024_NLP_Project\\.venv\\Lib\\site-packages\\spacy\\training\\iob_utils.py:149: UserWarning: [W030] Some entities could not be aligned in the text \"Title rock abuse I'm scared deadlock bullying late...\" with entities \"[(223, 232, 'SYMPTOM'), (153, 160, 'SYMPTOM'), (14...\". Use `spacy.training.offsets_to_biluo_tags(nlp.make_doc(text), entities)` to check the alignment. Misaligned entities ('-') will be ignored during training.\n",
      "  warnings.warn(\n"
     ]
    },
    {
     "name": "stdout",
     "output_type": "stream",
     "text": [
      "Losses at iteration 0: 1094.1398\n",
      "Losses at iteration 1: 531.2789\n",
      "Losses at iteration 2: 873.2868\n",
      "Losses at iteration 3: 343.9368\n",
      "Losses at iteration 4: 302.0504\n",
      "Losses at iteration 5: 319.3789\n",
      "Losses at iteration 6: 256.6870\n",
      "Losses at iteration 7: 232.8355\n",
      "Losses at iteration 8: 203.8905\n",
      "Losses at iteration 9: 189.1395\n"
     ]
    }
   ],
   "source": [
    "# EXCLUDE other pipes from the optimization \n",
    "with nlp.disable_pipes(*other_pipes):\n",
    "    optimizer = nlp.begin_training()\n",
    "\n",
    "    for iter in range(EPOCHS):\n",
    "        losses = {}\n",
    "        for values in TRAIN_DATA:\n",
    "            \n",
    "            text = values[0]\n",
    "            annotation = values[1]\n",
    "            \n",
    "            doc = nlp.make_doc(text)\n",
    "\n",
    "            example = Example.from_dict(doc, annotation)\n",
    "    \n",
    "            nlp.update(\n",
    "                        [example],\n",
    "                        drop=0.2,\n",
    "                        sgd=optimizer,\n",
    "                        losses=losses\n",
    "            )\n",
    "        print(f\"Losses at iteration {iter}: {losses['ner']:.4f}\")"
   ]
  },
  {
   "cell_type": "code",
   "execution_count": 95,
   "metadata": {},
   "outputs": [
    {
     "name": "stderr",
     "output_type": "stream",
     "text": [
      "100%|██████████| 20/20 [00:00<00:00, 138.74it/s]\n"
     ]
    }
   ],
   "source": [
    "# create a <text,LABEL> format for testing \n",
    "texts                 = [item[0] for item in TEST_DATA]\n",
    "ground_truth_entities = []\n",
    "\n",
    "for text, annotation in TEST_DATA:\n",
    "    # Convert entities from (start, end, label) to (text, label)\n",
    "    entity_texts = [(text[start:end], label) for start, end, label in annotation['entities']]\n",
    "    ground_truth_entities.append(entity_texts)\n",
    "\n",
    "# create column for NER entities\n",
    "corpus['test_entities'] = [[] for _ in range(len(corpus))]\n",
    "\n",
    "# classify each text row ---> put results in 'entities'\n",
    "for i, doc in tqdm(enumerate(nlp.pipe(texts)), total=len(texts)):\n",
    "    entities = [(ent.text, ent.label_) for ent in doc.ents]\n",
    "    corpus.at[i, 'test_entities'] = entities  "
   ]
  },
  {
   "cell_type": "code",
   "execution_count": 96,
   "metadata": {},
   "outputs": [
    {
     "name": "stdout",
     "output_type": "stream",
     "text": [
      "[SYMPTOM  ] : 16\n",
      "[TREATMENT] : 7\n",
      "[DISEASE  ] : 3\n"
     ]
    }
   ],
   "source": [
    "values = count_ner_labels(corpus,'test_entities')"
   ]
  },
  {
   "cell_type": "code",
   "execution_count": 97,
   "metadata": {},
   "outputs": [
    {
     "name": "stdout",
     "output_type": "stream",
     "text": [
      "Precision\t\t: 0.50\n",
      "Recall\t\t\t: 0.08\n",
      "F1 Score\t\t: 0.13\n",
      "\n",
      "False Negatives: 86\n",
      "\n",
      "False Positives: 7\n"
     ]
    }
   ],
   "source": [
    "from utils.metrics import compute_ner_metrics\n",
    "\n",
    "predictions     = corpus['test_entities']\n",
    "ground_truth    = ground_truth_entities\n",
    "\n",
    "values = compute_ner_metrics(ground_truth, predictions)"
   ]
  },
  {
   "cell_type": "markdown",
   "metadata": {},
   "source": [
    "<h2> 2.3 Evaluation with GPT </h2>\n",
    "\n",
    "We try to manually annotate with custom labels using the GPT.  \n",
    "\n",
    "Previously, we used GPT to obtain the SPACY labels `(ORG,NORP, etc.)`.  \n",
    "\n",
    "In this section, we explore how GPT can predict custom labels `(SYMPTOM, TREATMENT, MEDICATION, DISEASE)`.\n"
   ]
  },
  {
   "cell_type": "code",
   "execution_count": 43,
   "metadata": {},
   "outputs": [],
   "source": [
    "from openai import OpenAI\n",
    "from tqdm import tqdm \n",
    "\n",
    "corpus['custom_gpt_entities'] = [[] for _ in range(len(corpus))]\n",
    "\n",
    "if os.path.exists('utils/open_ai_key.py') and hasattr('utils/open_ai_key.py', 'KEY'):\n",
    "\n",
    "    from utils.open_ai_key import KEY \n",
    "\n",
    "    client = OpenAI(api_key = KEY)\n",
    "\n",
    "    with open(\"resources/gpt_annotation_mental_health.csv\", \"a\") as f:\n",
    "        for i, doc in tqdm(enumerate(corpus['text'].head(100)), total=100):\n",
    "            completion = client.chat.completions.create(\n",
    "                model=\"gpt-4\",\n",
    "                messages = [\n",
    "                    {\"role\": \"system\", \"content\": \"You are a helpful assistant.\"},\n",
    "                    {\n",
    "                    \"role\": \"user\",\n",
    "                    \"content\": f\"Please annotate the text using the custom NER Labels for DISEASE (e.g. depression), TREATMENT (e.g. therapy), SYMPTOM (e.g. anxious), MEDICATION (e.g.xanax). Your output must be a list of tuples in the exact format: [('word', 'LABEL'), ('word', 'LABEL')]. Do not include any special characters like backslashes, quotes, or escape characters in the output. Each tuple should only contain the exact text and its label, separated by a comma and enclosed in regular parentheses. If there are no NER labels, output an empty list []. Please output only the list of tuples and no other information. Apply the previous instructions for this text: {doc}\"\n",
    "                    }\n",
    "                ]\n",
    "            )\n",
    "            corpus.at[i, 'custom_gpt_entities'] = completion.choices[0].message.content  \n",
    "    \n",
    "    corpus.to_csv('resources/gpt_custom_annotations_mental_health.csv')\n",
    "else:\n",
    "    if os.path.exists('/kaggle'):\n",
    "        corpus = pd.read_csv('/kaggle/input/spell-checked-mental-health-corpus/gpt_annotation_mental_health.csv')\n",
    "    else: \n",
    "        corpus['custom_gpt_entities'] = pd.read_csv('resources/gpt_custom_annotations_mental_health.csv')['custom_gpt_entities']\n",
    "        corpus['custom_gpt_entities'] = corpus['custom_gpt_entities'].apply(convert_string_to_list)\n"
   ]
  },
  {
   "cell_type": "code",
   "execution_count": 44,
   "metadata": {},
   "outputs": [
    {
     "name": "stdout",
     "output_type": "stream",
     "text": [
      "[SYMPTOM   ] : 164\n",
      "[DISEASE   ] : 84\n",
      "[TREATMENT ] : 51\n",
      "[MEDICATION] : 13\n"
     ]
    }
   ],
   "source": [
    "values = count_ner_labels(corpus,'custom_gpt_entities')"
   ]
  },
  {
   "cell_type": "code",
   "execution_count": 63,
   "metadata": {},
   "outputs": [
    {
     "name": "stdout",
     "output_type": "stream",
     "text": [
      "Precision\t\t: 0.28\n",
      "Recall\t\t\t: 0.22\n",
      "F1 Score\t\t: 0.24\n",
      "\n",
      "False Negatives: 214\n",
      "\n",
      "False Positives: 158\n"
     ]
    }
   ],
   "source": [
    "EVAL_LENGTH    = 100\n",
    "predictions    = corpus['custom_gpt_entities'][:EVAL_LENGTH]\n",
    "ground_truth   = custom_ground_truth['annotations']\n",
    "\n",
    "gpt_values = compute_ner_metrics(ground_truth, predictions)"
   ]
  },
  {
   "cell_type": "markdown",
   "metadata": {},
   "source": [
    "<div style=\"display: flex; align-items: center; justify-content: center; font-family: Arial, sans-serif;\">\n",
    "    <div style=\"border: 2px solid black; padding: 10px; margin: 5px; text-align: center;\">\n",
    "        BERT Classifier\n",
    "    </div>\n",
    "    <div style=\"margin: 0 10px; font-size: 24px; font-weight: bold;\">→</div>\n",
    "    <div style=\"border: 2px solid black; padding: 10px; margin: 5px; text-align: center;\">\n",
    "        GPT Evaluation\n",
    "    </div>\n",
    "</div>\n",
    "\n",
    "\n",
    "## 3. BERT Classification\n",
    "\n",
    "In this section we experiment with LLM models such as BERT. \n",
    "- SPACY is a rule-based tokenization based on regular expression, BERT uses an algorithm called WORDPiece that splits words into subwords.\n",
    "- SPACY has over 17 labels, BERT has only 4 labels (ORG, PERS, LOC, MISC) that are further divided into subword labels for beginning, middle and end of word.\n",
    "- BERT is specifically designed for transformer-based models.\n",
    "- BERT uses a pretrained vocabulary."
   ]
  },
  {
   "cell_type": "code",
   "execution_count": 33,
   "metadata": {
    "ExecuteTime": {
     "end_time": "2024-12-15T17:24:32.254964Z",
     "start_time": "2024-12-15T17:24:31.814224Z"
    }
   },
   "outputs": [],
   "source": [
    "# Define batch size\n",
    "batch_size = 32\n",
    "\n",
    "# Prepare the results column\n",
    "corpus['transformer_entities'] = None\n",
    "\n",
    "if os.path.exists('/kaggle'):\n",
    "\n",
    "    # defining the BERT model\n",
    "    model_name = \"dbmdz/bert-large-cased-finetuned-conll03-english\"\n",
    "    tokenizer = BertTokenizer.from_pretrained(model_name)\n",
    "    device = torch.device(\"cuda\" if torch.cuda.is_available() else \"cpu\")\n",
    "    model = BertForTokenClassification.from_pretrained(model_name).to(device)\n",
    "\n",
    "    ner_pipeline = pipeline(\"ner\", model=model, tokenizer=tokenizer, device=0 if torch.cuda.is_available() else -1)\n",
    "\n",
    "    # training the BERT NER classifier\n",
    "    for start in tqdm(range(0, len(corpus), batch_size)):\n",
    "        end = min(start + batch_size, len(corpus))\n",
    "        batch_texts = corpus['text'].iloc[start:end].tolist()\n",
    "        entities = ner_pipeline(batch_texts)\n",
    "\n",
    "        transformed_entities = list(map(lambda entity: list(map(lambda ent: (ent['word'], ent['entity']), entity)), entities))\n",
    "\n",
    "        # Update the DataFrame with transformed entities\n",
    "        for i in range(len(transformed_entities)):\n",
    "            corpus.at[start + i, 'transformer_entities'] = transformed_entities[i]\n",
    "\n",
    "    corpus.to_csv('/kaggle/working/corrected_data_transformer_entities.csv', index=False)\n",
    "else:\n",
    "    corpus['transformer_entities'] = pd.read_csv('resources/corrected_data_transformer_entities.csv')['transformer_entities']\n",
    "    corpus['transformer_entities'] = corpus['transformer_entities'].apply(convert_string_to_list)\n"
   ]
  },
  {
   "cell_type": "markdown",
   "metadata": {},
   "source": [
    "<h2> 3.2 Evaluation with GPT </h2>\n",
    "\n",
    "- **O**: Outside of a named entity.\n",
    "- **B-PER**: Beginning of a person's name right after another entity.\n",
    "- **I-PER**: Person's name continuation.\n",
    "- **B-ORG**: Beginning of an organization right after another entity.\n",
    "- **I-ORG**: Organization name continuation.\n",
    "- **B-LOC**: Beginning of a location right after another entity.\n",
    "- **I-LOC**: Location name continuation.\n",
    "- **B-MISC**: Beginning of a miscellaneous entity right after another entity.\n",
    "- **I-MISC**: Miscellaneous entity continuation.\n",
    "\n",
    "### Explanation:\n",
    "- **O** indicates that the token is not part of any named entity.\n",
    "- **B-** (Beginning) labels indicate the start of a named entity.\n",
    "- **I-** (Inside) labels are used for tokens that continue the same named entity."
   ]
  },
  {
   "cell_type": "markdown",
   "metadata": {},
   "source": [
    "We use GPT to automatically annotate the BERT labels."
   ]
  },
  {
   "cell_type": "code",
   "execution_count": 34,
   "metadata": {
    "ExecuteTime": {
     "end_time": "2024-12-15T17:24:34.677209Z",
     "start_time": "2024-12-15T17:24:33.744512Z"
    }
   },
   "outputs": [],
   "source": [
    "from openai import OpenAI\n",
    "from tqdm import tqdm \n",
    "\n",
    "\n",
    "corpus['gpt_transformer_entities'] = [[] for _ in range(len(corpus))]\n",
    "\n",
    "if os.path.exists('utils/open_ai_key.py') and hasattr('utils/open_ai_key.py', 'KEY'):\n",
    "\n",
    "    from utils.open_ai_key import KEY \n",
    "\n",
    "    client = OpenAI(api_key = KEY)    \n",
    "    \n",
    "    with open(\"resources/gpt_annotation_mental_health.csv\", \"a\") as f:\n",
    "        for i, doc in tqdm(enumerate(corpus['text'].head(100)), total=100):\n",
    "            completion = client.chat.completions.create(\n",
    "                model=\"gpt-4\",\n",
    "                messages = [\n",
    "                    {\"role\": \"system\", \"content\": \"You are a helpful assistant.\"},\n",
    "                    {\n",
    "                    \"role\": \"user\",\n",
    "                    \"content\": f\"Please annotate the text using only these BERT NER labels: B-PER (start of person), I-PER (continuation of person), B-ORG (start of organization), I-ORG (continuation of organization), B-LOC (start of location), I-LOC (continuation of location), B-MISC (start of miscellaneous), I-MISC (continuation of miscellaneous). Your output must be a list of tuples in the exact format: [('word', 'LABEL')]. For words split into subwords, label the first part with 'B-' and the subwords (starting with '##') with 'I-'. Example: [('Micro', 'B-ORG'), ('##soft', 'I-ORG'), ('John', 'B-PER'), ('##athan', 'I-PER')]. No special characters, only the list of tuples. If no entities found, output empty list []. Apply to this text: {doc}\"                }\n",
    "                ]        \n",
    "                )\n",
    "            corpus.at[i, 'gpt_transformer_entities'] = completion.choices[0].message.content  \n",
    "\n",
    "    corpus.to_csv('resources/gpt_transformer_annotations_mental_health.csv')\n",
    "else:\n",
    "    if os.path.exists('/kaggle'):\n",
    "        corpus['gpt_transformer_entities'] = pd.read_csv('kaggle/input/gpt_transformer_annotations_mental_health.csv')['gpt_transformer_entities']\n",
    "    else:\n",
    "        corpus['gpt_transformer_entities'] = pd.read_csv('resources/gpt_transformer_annotations_mental_health.csv')['gpt_transformer_entities']\n",
    "        corpus['gpt_transformer_entities'] = corpus['gpt_transformer_entities'].apply(convert_string_to_list)\n"
   ]
  },
  {
   "cell_type": "code",
   "execution_count": 35,
   "metadata": {
    "ExecuteTime": {
     "end_time": "2024-12-15T17:24:35.785449Z",
     "start_time": "2024-12-15T17:24:35.732695Z"
    }
   },
   "outputs": [
    {
     "name": "stdout",
     "output_type": "stream",
     "text": [
      "[B-MISC] : 50\n",
      "[B-PER ] : 36\n",
      "[I-PER ] : 21\n",
      "[B-ORG ] : 15\n",
      "[I-MISC] : 12\n",
      "[I-ORG ] : 9\n",
      "[B-LOC ] : 5\n"
     ]
    }
   ],
   "source": [
    "values = count_ner_labels(corpus,'gpt_transformer_entities')"
   ]
  },
  {
   "cell_type": "code",
   "execution_count": 36,
   "metadata": {
    "ExecuteTime": {
     "end_time": "2024-12-15T17:24:36.247267Z",
     "start_time": "2024-12-15T17:24:36.200193Z"
    }
   },
   "outputs": [
    {
     "name": "stdout",
     "output_type": "stream",
     "text": [
      "[I-PER ] : 21880\n",
      "[I-ORG ] : 12933\n",
      "[I-MISC] : 11771\n",
      "[I-LOC ] : 5153\n",
      "[B-PER ] : 144\n",
      "[B-LOC ] : 10\n"
     ]
    }
   ],
   "source": [
    "values = count_ner_labels(corpus,'transformer_entities')"
   ]
  },
  {
   "cell_type": "code",
   "execution_count": null,
   "metadata": {
    "ExecuteTime": {
     "end_time": "2024-12-15T17:24:36.770273Z",
     "start_time": "2024-12-15T17:24:36.720227Z"
    }
   },
   "outputs": [
    {
     "name": "stdout",
     "output_type": "stream",
     "text": [
      "Precision\t\t: 0.00\n",
      "Recall\t\t\t: 0.00\n",
      "F1 Score\t\t: 0.00\n",
      "\n",
      "False Negatives: 132\n",
      "\n",
      "False Positives: 85\n"
     ]
    }
   ],
   "source": [
    "# the PRECISION, F1, RECALL for the raw text with SPACY NER CLASSIFIER\n",
    "EVAL_LENGTH         = 100\n",
    "eval_corpus         = corpus['transformer_entities'][:EVAL_LENGTH]\n",
    "ground_truth_corpus = corpus['gpt_transformer_entities'][:EVAL_LENGTH]\n",
    "\n",
    "values = compute_ner_metrics(ground_truth_corpus, eval_corpus)"
   ]
  },
  {
   "cell_type": "markdown",
   "metadata": {},
   "source": [
    "<h2> 5. Describe NER Type Information</h2>"
   ]
  },
  {
   "cell_type": "markdown",
   "metadata": {},
   "source": [
    "We can observe about NER information the following:\n",
    "- Spacy is very good for detecting numeric instances (DATE, TIME, ORDINAL, CARDINAL)\n",
    "- It is very bad for names that are less known (organization, person etc.)\n",
    "- the Corrected text improves the overall results shown in F1-score. \n",
    "\n",
    "The NER labels are very bad on identifying medical terminology (diseases, symptoms, treatment). \n",
    "In order to evaluate the actual potential of NER classifiers, we needed to add these custom classes with some patterns. \n",
    "\n",
    "However, it is very difficult to evaluate due to manpower. It is labor intensive to annotate manually. The GPT annotations are not accurate enough as they tend to misinterpret the true label.\n",
    "\n",
    "SpaCy NER:\n",
    "- **anxious** → `SYMPTOM`\n",
    "- **depressed** → `SYMPTOM`\n",
    "\n",
    "GPT NER:\n",
    "- **anxious** → `DISEASE`\n",
    "- **depressed** → `DISEASE`\n",
    "- **future** → `TRIGGER`"
   ]
  },
  {
   "cell_type": "markdown",
   "metadata": {},
   "source": [
    "| Model Type | Labels | Input | Ground Truth | Precision | Recall | F1 Score |\n",
    "|------------|---------|-------|--------------|-----------|---------|-----------|\n",
    "| SpaCy | Standard NER SPACY | Raw | Label Studio | 0.48 | 0.16 | 0.24 |\n",
    "| SpaCy | Standard NER SPACY | Corrected | Label Studio | 0.44 | 0.20 | 0.27 |\n",
    "| GPT | Standard NER SPACY | Raw | Label Studio | 0.29 | 0.21 | 0.24 |\n",
    "| GPT | Standard NER SPACY | Corrected | Spacy(Corrected) | 0.20 | 0.00 | 0.01 |\n",
    "| GPT | Standard NER SPACY | Raw | Spacy (raw) | 0.31 | 0.01 | 0.01 |\n",
    "| SpaCy | Custom Mental Health NER | Raw | Label Studio | 0.70 | 0.11 | 0.19 |\n",
    "| SpaCy | Custom Mental Health NER | TRAIN_DATA | Label Studio | 0.50 | 0.08 | 0.13 |\n",
    "| GPT | Custom Mental Health NER | Raw | Label Studio | 0.28 | 0.22 | 0.24 |\n",
    "| BERT  | Standard BERT | Raw | GPT | 0.00 | 0.00 | 0.00 |"
   ]
  },
  {
   "cell_type": "markdown",
   "metadata": {},
   "source": [
    "In this section we generate custom Venn Diagrams:\n",
    "- it takes the `true positive`, `false positive`, and `false negatives` produced by the function `compute_ner_metrics`. "
   ]
  },
  {
   "cell_type": "code",
   "execution_count": 109,
   "metadata": {},
   "outputs": [
    {
     "data": {
      "image/png": "[encoded data removed]",
      "text/plain": [
       "<Figure size 1000x800 with 1 Axes>"
      ]
     },
     "metadata": {},
     "output_type": "display_data"
    }
   ],
   "source": [
    "from collections import Counter\n",
    "import matplotlib.pyplot as plt\n",
    "from matplotlib_venn import venn2\n",
    "from matplotlib import font_manager\n",
    "\n",
    "false_negatives = gpt_values['false_negatives']\n",
    "false_positives = gpt_values['false_positives']\n",
    "true_positives  = gpt_values['true_positives']\n",
    "  \n",
    "custom_gpt_entities_list = corpus['custom_gpt_entities'][:EVAL_LENGTH].explode().dropna().tolist()\n",
    "\n",
    "custom_false_negatives = list(filter(lambda x: x not in  false_negatives, custom_gpt_entities_list))\n",
    "custom_false_positives = list(filter(lambda x: x not in  false_positives, custom_gpt_entities_list))\n",
    "\n",
    "plt.figure(figsize=(10, 8))  # Adjust size as needed\n",
    "\n",
    "# Create the Venn diagram\n",
    "venn = venn2(\n",
    "        subsets    = (len(false_positives),len(false_negatives), len(true_positives)),\n",
    "        set_labels = ('Custom Ground Truth', 'GPT ', ''))\n",
    "\n",
    "# Get the 3 most common words from each list\n",
    "top_3_true_positives = [f'{word[0]}:{word[1]}' for word, count in Counter(custom_false_negatives).most_common(3)]\n",
    "top_3_false_positives = ['cargo pants:TREATMENT','', 'skateboarding:TREATMENT','', 'job:TREATMENT']\n",
    "top_3_false_negatives = ['psychotic:SYMPTOM','', 'narcolepsy:SYMPTOM','','PTSD:DISEASE']\n",
    "\n",
    "# Set the text labels with the top 3 most common words\n",
    "venn.get_label_by_id('01').set_text(\"\\n\".join(top_3_false_positives))  # GPT (False Positives)\n",
    "venn.get_label_by_id('10').set_text(\"\\n\".join(top_3_false_negatives))  # Ground Truth (False Negatives)\n",
    "venn.get_label_by_id('11').set_text(\"\\n\".join(top_3_true_positives))  # Intersection (True Positives)\n",
    "\n",
    "font_properties = font_manager.FontProperties(size=10, weight='bold')\n",
    "venn.get_label_by_id('10').set_fontproperties(font_properties)  # Ground Truth label\n",
    "venn.get_label_by_id('01').set_fontproperties(font_properties)  # GPT label\n",
    "venn.get_label_by_id('11').set_fontproperties(font_properties)  # GPT label\n",
    "\n",
    "for label in venn.set_labels:\n",
    "    if label:  # Check if label exists\n",
    "        label.set_fontweight('bold')\n",
    "        label.set_fontsize(14)  # Optional: Adjust size of the set labels\n",
    "\n",
    "legend_labels = [\n",
    "    ('False Positives', 'red'),\n",
    "    ('False Negatives', 'green'),\n",
    "    ('True Positives', 'brown')\n",
    "]\n",
    "legend_patches = [plt.Line2D([0], [0], marker='o', color='w', markerfacecolor=color, markersize=10, alpha=0.6) for _, color in legend_labels]\n",
    "plt.legend(legend_patches, [label for label, _ in legend_labels], loc='upper right', title='Legend', fontsize=10)\n",
    "\n",
    "\n",
    "plt.title(\"Venn Diagram \",fontdict={'fontsize':16, 'fontweight': 'bold'})\n",
    "plt.show()\n"
   ]
  },
  {
   "cell_type": "code",
   "execution_count": 56,
   "metadata": {},
   "outputs": [
    {
     "data": {
      "image/png": "[encoded data removed]",
      "text/plain": [
       "<Figure size 800x500 with 1 Axes>"
      ]
     },
     "metadata": {},
     "output_type": "display_data"
    }
   ],
   "source": [
    "import matplotlib.pyplot as plt\n",
    "import numpy as np\n",
    "\n",
    "metrics = ['Precision', 'Recall', 'F1-score']\n",
    "\n",
    "spacy_results = [0.48, 0.16, 0.24]\n",
    "gpt_results   = [0.29, 0.21, 0.24]\n",
    "\n",
    "# Plotting the bar chart\n",
    "x = np.arange(len(metrics))  # The label locations\n",
    "width = 0.35  # Width of the bars\n",
    "\n",
    "fig, ax = plt.subplots(figsize=(8, 5))\n",
    "\n",
    "# BERTScore and QuantModel combined bar chart\n",
    "bars_spacy = ax.bar(x - width/2, spacy_results, width,  capsize=5, color='darkred', alpha=0.7, label='Spacy')\n",
    "bars_gpt   = ax.bar(x + width/2, gpt_results, width, capsize=5, color='lightcoral', alpha=0.7, label='GPT')\n",
    "\n",
    "ax.set_title('Spacy NER Labelling with Spacy vs GPT',fontweight='bold',fontsize=14)\n",
    "ax.set_xticks(x)\n",
    "ax.set_xticklabels(metrics,fontdict={'fontsize':12, 'fontweight': 'bold'})\n",
    "ax.set_ylabel('Score',fontdict={'fontsize':12, 'fontweight': 'bold'})\n",
    "ax.set_ylim(0, 1)\n",
    "\n",
    "\n",
    "# Set tick params\n",
    "ax.yaxis.set_tick_params(labelsize=12)\n",
    "\n",
    "# Set the spine properties\n",
    "ax.spines['top'].set_visible(False)\n",
    "ax.spines['right'].set_visible(False)\n",
    "ax.spines['left'].set_linewidth(2)\n",
    "ax.spines['bottom'].set_linewidth(2)\n",
    "\n",
    "for bar in bars_spacy + bars_gpt:\n",
    "    bar.set_edgecolor('black') \n",
    "\n",
    "ax.legend()\n",
    "\n",
    "plt.tight_layout()\n",
    "plt.show()"
   ]
  },
  {
   "cell_type": "code",
   "execution_count": 57,
   "metadata": {},
   "outputs": [
    {
     "data": {
      "image/png": "[encoded data removed]",
      "text/plain": [
       "<Figure size 800x500 with 1 Axes>"
      ]
     },
     "metadata": {},
     "output_type": "display_data"
    }
   ],
   "source": []
  },
  {
   "cell_type": "markdown",
   "metadata": {},
   "source": [
    "## 6. How NER prediction can help in other NLP use cases?\n",
    "\n",
    "NER can help in NLP as a feature extractor: entities (e.g., names, conditions, medications) from text can serve as features for downstream tasks. For example:\n",
    "\n",
    "* Sentiment Analysis: Extracted entities like \"SYMPTOM\" or \"DISEASE\" can provide context for sentiment classification.\n",
    "* Classification: Entities (e.g., \"anxiety\") can enhance identifying positive or negative conversations based on topic relevance.\n",
    "* Search/Tagging: Extracted entities enable tagging comments (e.g., \"related to therapy\") or improving search accuracy for key topics.\n",
    "* Clusterization: Comments can be grouped based on shared entities, such as \"TREATMENT\" or \"SYMPTOM\", revealing patterns."
   ]
  },
  {
   "cell_type": "markdown",
   "metadata": {},
   "source": [
    "The idea behind this part of the project was to use BERT-like models as encoders.\n",
    "The SpaCy labels and the custom labels are encoded. As a next step, the input text is splited into n-grams (n=3), and for each n-gram embedding is computed. Then, the cosine similarity is computed for each pair (label, n-gram), and if the similarity is above  the  threshold, the label is considered as detected.\n",
    "\n",
    "Visual explanation is included in the slides."
   ]
  },
  {
   "cell_type": "markdown",
   "metadata": {
    "jp-MarkdownHeadingCollapsed": true
   },
   "source": [
    "# 3. BERT-like models"
   ]
  },
  {
   "cell_type": "markdown",
   "metadata": {},
   "source": [
    "In this part of the project we experiment with BERT-like models for NER task. We use two suggested pre-trained models:\n",
    "- BioBERT\n",
    "- ClinicalBERT\n",
    "\n",
    "To test the encoding power of these models, we propose two techniques:\n",
    "1. Using BERT-like model as encoder\n",
    "2. Fine tuning BERT-like model for NER"
   ]
  },
  {
   "cell_type": "markdown",
   "metadata": {},
   "source": [
    "## 3.1. BERT-like models as encoder\n",
    "\n",
    "The idea behind this part of the project was to use BERT-like models as encoders.\n",
    "The SpaCy labels and the custom labels are encoded. As a next step, the input text is splited into n-grams (n=3), and for each n-gram embedding is computed. Then, the cosine similarity is computed for each pair (label, n-gram), and if the similarity is above  the  threshold, the label is considered as detected.\n",
    "\n",
    "Visual explanation is included in the slides."
   ]
  },
  {
   "cell_type": "markdown",
   "metadata": {},
   "source": [
    "### 3.1.1. Dataset preprocessing\n",
    "\n",
    "To make the dataset useful for this experiment, we need to extract only the required informations and to split the full text into small chunks (n-grams)."
   ]
  },
  {
   "cell_type": "code",
   "execution_count": 162,
   "metadata": {
    "execution": {
     "iopub.execute_input": "2025-01-10T14:39:37.501436Z",
     "iopub.status.busy": "2025-01-10T14:39:37.500988Z",
     "iopub.status.idle": "2025-01-10T14:39:37.582758Z",
     "shell.execute_reply": "2025-01-10T14:39:37.581689Z",
     "shell.execute_reply.started": "2025-01-10T14:39:37.501397Z"
    }
   },
   "outputs": [
    {
     "data": {
      "text/html": [
       "<div>\n",
       "<style scoped>\n",
       "    .dataframe tbody tr th:only-of-type {\n",
       "        vertical-align: middle;\n",
       "    }\n",
       "\n",
       "    .dataframe tbody tr th {\n",
       "        vertical-align: top;\n",
       "    }\n",
       "\n",
       "    .dataframe thead th {\n",
       "        text-align: right;\n",
       "    }\n",
       "</style>\n",
       "<table border=\"1\" class=\"dataframe\">\n",
       "  <thead>\n",
       "    <tr style=\"text-align: right;\">\n",
       "      <th></th>\n",
       "      <th>text</th>\n",
       "      <th>ground_truth_spacy</th>\n",
       "      <th>ground_truth_custom</th>\n",
       "      <th>tokens</th>\n",
       "      <th>ground_truth_spacy_bert</th>\n",
       "      <th>ground_truth_custom_bert</th>\n",
       "    </tr>\n",
       "  </thead>\n",
       "  <tbody>\n",
       "    <tr>\n",
       "      <th>0</th>\n",
       "      <td>dear american teens question dutch person hear...</td>\n",
       "      <td>[[american, NORP, [1, 1]], [dutch, NORP, [4, 4]]]</td>\n",
       "      <td>[]</td>\n",
       "      <td>[dear, american, teens, question, dutch, perso...</td>\n",
       "      <td>[0, 19, 0, 0, 19, 0, 0, 0, 0, 0, 0, 0, 0, 0, 0...</td>\n",
       "      <td>[0, 0, 0, 0, 0, 0, 0, 0, 0, 0, 0, 0, 0, 0, 0, ...</td>\n",
       "    </tr>\n",
       "    <tr>\n",
       "      <th>1</th>\n",
       "      <td>nothing look forward lifei dont many reasons k...</td>\n",
       "      <td>[[next day, DATE, [14, 15]]]</td>\n",
       "      <td>[[hang myself, SYMPTOM, [18, 19]]]</td>\n",
       "      <td>[nothing, look, forward, lifei, dont, many, re...</td>\n",
       "      <td>[0, 0, 0, 0, 0, 0, 0, 0, 0, 0, 0, 0, 0, 0, 3, ...</td>\n",
       "      <td>[0, 0, 0, 0, 0, 0, 0, 0, 0, 0, 0, 0, 0, 0, 0, ...</td>\n",
       "    </tr>\n",
       "    <tr>\n",
       "      <th>2</th>\n",
       "      <td>music recommendations im looking expand playli...</td>\n",
       "      <td>[[minnesota, GPE, [10, 10]], [cavetown, PERSON...</td>\n",
       "      <td>[[drugs, TREATMENT, [40, 40]]]</td>\n",
       "      <td>[music, recommendations, im, looking, expand, ...</td>\n",
       "      <td>[0, 0, 0, 0, 0, 0, 0, 0, 0, 0, 9, 0, 0, 0, 0, ...</td>\n",
       "      <td>[0, 0, 0, 0, 0, 0, 0, 0, 0, 0, 0, 0, 0, 0, 0, ...</td>\n",
       "    </tr>\n",
       "    <tr>\n",
       "      <th>3</th>\n",
       "      <td>im done trying feel betterthe reason im still ...</td>\n",
       "      <td>[]</td>\n",
       "      <td>[[im done trying, SYMPTOM, [0, 2]], [killed my...</td>\n",
       "      <td>[im, done, trying, feel, betterthe, reason, im...</td>\n",
       "      <td>[0, 0, 0, 0, 0, 0, 0, 0, 0, 0, 0, 0, 0, 0, 0, ...</td>\n",
       "      <td>[3, 4, 4, 0, 0, 0, 0, 0, 0, 0, 3, 4, 0, 3, 4, ...</td>\n",
       "    </tr>\n",
       "    <tr>\n",
       "      <th>4</th>\n",
       "      <td>worried  year old girl subject domestic physic...</td>\n",
       "      <td>[[uk, GPE, [23, 23]], [night, DATE, [156, 156]...</td>\n",
       "      <td>[[domestic physical, SYMPTOM, [5, 6]], [schizo...</td>\n",
       "      <td>[worried, year, old, girl, subject, domestic, ...</td>\n",
       "      <td>[0, 3, 4, 0, 0, 0, 0, 0, 0, 0, 0, 0, 0, 0, 0, ...</td>\n",
       "      <td>[0, 0, 0, 0, 0, 3, 4, 0, 0, 0, 0, 0, 0, 0, 0, ...</td>\n",
       "    </tr>\n",
       "  </tbody>\n",
       "</table>\n",
       "</div>"
      ],
      "text/plain": [
       "                                                text  \\\n",
       "0  dear american teens question dutch person hear...   \n",
       "1  nothing look forward lifei dont many reasons k...   \n",
       "2  music recommendations im looking expand playli...   \n",
       "3  im done trying feel betterthe reason im still ...   \n",
       "4  worried  year old girl subject domestic physic...   \n",
       "\n",
       "                                  ground_truth_spacy  \\\n",
       "0  [[american, NORP, [1, 1]], [dutch, NORP, [4, 4]]]   \n",
       "1                       [[next day, DATE, [14, 15]]]   \n",
       "2  [[minnesota, GPE, [10, 10]], [cavetown, PERSON...   \n",
       "3                                                 []   \n",
       "4  [[uk, GPE, [23, 23]], [night, DATE, [156, 156]...   \n",
       "\n",
       "                                 ground_truth_custom  \\\n",
       "0                                                 []   \n",
       "1                 [[hang myself, SYMPTOM, [18, 19]]]   \n",
       "2                     [[drugs, TREATMENT, [40, 40]]]   \n",
       "3  [[im done trying, SYMPTOM, [0, 2]], [killed my...   \n",
       "4  [[domestic physical, SYMPTOM, [5, 6]], [schizo...   \n",
       "\n",
       "                                              tokens  \\\n",
       "0  [dear, american, teens, question, dutch, perso...   \n",
       "1  [nothing, look, forward, lifei, dont, many, re...   \n",
       "2  [music, recommendations, im, looking, expand, ...   \n",
       "3  [im, done, trying, feel, betterthe, reason, im...   \n",
       "4  [worried, year, old, girl, subject, domestic, ...   \n",
       "\n",
       "                             ground_truth_spacy_bert  \\\n",
       "0  [0, 19, 0, 0, 19, 0, 0, 0, 0, 0, 0, 0, 0, 0, 0...   \n",
       "1  [0, 0, 0, 0, 0, 0, 0, 0, 0, 0, 0, 0, 0, 0, 3, ...   \n",
       "2  [0, 0, 0, 0, 0, 0, 0, 0, 0, 0, 9, 0, 0, 0, 0, ...   \n",
       "3  [0, 0, 0, 0, 0, 0, 0, 0, 0, 0, 0, 0, 0, 0, 0, ...   \n",
       "4  [0, 3, 4, 0, 0, 0, 0, 0, 0, 0, 0, 0, 0, 0, 0, ...   \n",
       "\n",
       "                            ground_truth_custom_bert  \n",
       "0  [0, 0, 0, 0, 0, 0, 0, 0, 0, 0, 0, 0, 0, 0, 0, ...  \n",
       "1  [0, 0, 0, 0, 0, 0, 0, 0, 0, 0, 0, 0, 0, 0, 0, ...  \n",
       "2  [0, 0, 0, 0, 0, 0, 0, 0, 0, 0, 0, 0, 0, 0, 0, ...  \n",
       "3  [3, 4, 4, 0, 0, 0, 0, 0, 0, 0, 3, 4, 0, 3, 4, ...  \n",
       "4  [0, 0, 0, 0, 0, 3, 4, 0, 0, 0, 0, 0, 0, 0, 0, ...  "
      ]
     },
     "execution_count": 162,
     "metadata": {},
     "output_type": "execute_result"
    }
   ],
   "source": [
    "import os\n",
    "import pandas as pd\n",
    "\n",
    "df = pd.read_json('/kaggle/input/bert-ground-truth/bert_ground_truth.json', orient='records', lines=True)\n",
    "df.head()"
   ]
  },
  {
   "cell_type": "code",
   "execution_count": 163,
   "metadata": {
    "execution": {
     "iopub.execute_input": "2025-01-10T14:39:37.585375Z",
     "iopub.status.busy": "2025-01-10T14:39:37.584906Z",
     "iopub.status.idle": "2025-01-10T14:39:37.603391Z",
     "shell.execute_reply": "2025-01-10T14:39:37.602083Z",
     "shell.execute_reply.started": "2025-01-10T14:39:37.585324Z"
    }
   },
   "outputs": [
    {
     "data": {
      "text/html": [
       "<div>\n",
       "<style scoped>\n",
       "    .dataframe tbody tr th:only-of-type {\n",
       "        vertical-align: middle;\n",
       "    }\n",
       "\n",
       "    .dataframe tbody tr th {\n",
       "        vertical-align: top;\n",
       "    }\n",
       "\n",
       "    .dataframe thead th {\n",
       "        text-align: right;\n",
       "    }\n",
       "</style>\n",
       "<table border=\"1\" class=\"dataframe\">\n",
       "  <thead>\n",
       "    <tr style=\"text-align: right;\">\n",
       "      <th></th>\n",
       "      <th>text</th>\n",
       "      <th>ground_truth_spacy</th>\n",
       "      <th>ground_truth_custom</th>\n",
       "    </tr>\n",
       "  </thead>\n",
       "  <tbody>\n",
       "    <tr>\n",
       "      <th>0</th>\n",
       "      <td>dear american teens question dutch person hear...</td>\n",
       "      <td>[NORP, NORP]</td>\n",
       "      <td>[]</td>\n",
       "    </tr>\n",
       "    <tr>\n",
       "      <th>1</th>\n",
       "      <td>nothing look forward lifei dont many reasons k...</td>\n",
       "      <td>[DATE]</td>\n",
       "      <td>[SYMPTOM]</td>\n",
       "    </tr>\n",
       "    <tr>\n",
       "      <th>2</th>\n",
       "      <td>music recommendations im looking expand playli...</td>\n",
       "      <td>[GPE, PERSON, PERSON, PERSON, PERSON]</td>\n",
       "      <td>[TREATMENT]</td>\n",
       "    </tr>\n",
       "    <tr>\n",
       "      <th>3</th>\n",
       "      <td>im done trying feel betterthe reason im still ...</td>\n",
       "      <td>[]</td>\n",
       "      <td>[SYMPTOM, SYMPTOM, SYMPTOM, SYMPTOM, TREATMENT...</td>\n",
       "    </tr>\n",
       "    <tr>\n",
       "      <th>4</th>\n",
       "      <td>worried  year old girl subject domestic physic...</td>\n",
       "      <td>[GPE, DATE, DATE, CARDINAL, CARDINAL, DATE, OR...</td>\n",
       "      <td>[SYMPTOM, DISEASE, SYMPTOM, SYMPTOM, SYMPTOM, ...</td>\n",
       "    </tr>\n",
       "  </tbody>\n",
       "</table>\n",
       "</div>"
      ],
      "text/plain": [
       "                                                text  \\\n",
       "0  dear american teens question dutch person hear...   \n",
       "1  nothing look forward lifei dont many reasons k...   \n",
       "2  music recommendations im looking expand playli...   \n",
       "3  im done trying feel betterthe reason im still ...   \n",
       "4  worried  year old girl subject domestic physic...   \n",
       "\n",
       "                                  ground_truth_spacy  \\\n",
       "0                                       [NORP, NORP]   \n",
       "1                                             [DATE]   \n",
       "2              [GPE, PERSON, PERSON, PERSON, PERSON]   \n",
       "3                                                 []   \n",
       "4  [GPE, DATE, DATE, CARDINAL, CARDINAL, DATE, OR...   \n",
       "\n",
       "                                 ground_truth_custom  \n",
       "0                                                 []  \n",
       "1                                          [SYMPTOM]  \n",
       "2                                        [TREATMENT]  \n",
       "3  [SYMPTOM, SYMPTOM, SYMPTOM, SYMPTOM, TREATMENT...  \n",
       "4  [SYMPTOM, DISEASE, SYMPTOM, SYMPTOM, SYMPTOM, ...  "
      ]
     },
     "execution_count": 163,
     "metadata": {},
     "output_type": "execute_result"
    }
   ],
   "source": [
    "df[\"ground_truth_spacy\"] = df[\"ground_truth_spacy\"].apply(lambda anns: [ann[1] for ann in anns])\n",
    "df[\"ground_truth_custom\"] = df[\"ground_truth_custom\"].apply(lambda anns: [ann[1] for ann in anns])\n",
    "\n",
    "df = df[[\"text\", \"ground_truth_spacy\", \"ground_truth_custom\"]]\n",
    "df.head()"
   ]
  },
  {
   "cell_type": "code",
   "execution_count": 164,
   "metadata": {
    "execution": {
     "iopub.execute_input": "2025-01-10T14:39:37.605255Z",
     "iopub.status.busy": "2025-01-10T14:39:37.604792Z",
     "iopub.status.idle": "2025-01-10T14:39:37.613568Z",
     "shell.execute_reply": "2025-01-10T14:39:37.612421Z",
     "shell.execute_reply.started": "2025-01-10T14:39:37.605180Z"
    }
   },
   "outputs": [],
   "source": [
    "def generate_chunks_df(df: pd.DataFrame, text_column: str = \"text\", n: int = 3) -> pd.DataFrame:\n",
    "    df_chunks = []\n",
    "    for i, row in df.iterrows():\n",
    "        words = row[text_column].split()\n",
    "        chunks = [\" \".join(words[i: i+n]) for i in range(len(words) - (n-1))]\n",
    "        for chunk in chunks:\n",
    "            df_chunks.append({\n",
    "                'text': row[text_column], \n",
    "                'chunk': chunk\n",
    "            })\n",
    "\n",
    "    return pd.DataFrame(df_chunks)"
   ]
  },
  {
   "cell_type": "code",
   "execution_count": 165,
   "metadata": {
    "execution": {
     "iopub.execute_input": "2025-01-10T14:39:37.618154Z",
     "iopub.status.busy": "2025-01-10T14:39:37.616883Z",
     "iopub.status.idle": "2025-01-10T14:39:37.674714Z",
     "shell.execute_reply": "2025-01-10T14:39:37.673544Z",
     "shell.execute_reply.started": "2025-01-10T14:39:37.618106Z"
    }
   },
   "outputs": [
    {
     "data": {
      "text/html": [
       "<div>\n",
       "<style scoped>\n",
       "    .dataframe tbody tr th:only-of-type {\n",
       "        vertical-align: middle;\n",
       "    }\n",
       "\n",
       "    .dataframe tbody tr th {\n",
       "        vertical-align: top;\n",
       "    }\n",
       "\n",
       "    .dataframe thead th {\n",
       "        text-align: right;\n",
       "    }\n",
       "</style>\n",
       "<table border=\"1\" class=\"dataframe\">\n",
       "  <thead>\n",
       "    <tr style=\"text-align: right;\">\n",
       "      <th></th>\n",
       "      <th>text</th>\n",
       "      <th>chunk</th>\n",
       "    </tr>\n",
       "  </thead>\n",
       "  <tbody>\n",
       "    <tr>\n",
       "      <th>0</th>\n",
       "      <td>dear american teens question dutch person hear...</td>\n",
       "      <td>dear american teens</td>\n",
       "    </tr>\n",
       "    <tr>\n",
       "      <th>1</th>\n",
       "      <td>dear american teens question dutch person hear...</td>\n",
       "      <td>american teens question</td>\n",
       "    </tr>\n",
       "    <tr>\n",
       "      <th>2</th>\n",
       "      <td>dear american teens question dutch person hear...</td>\n",
       "      <td>teens question dutch</td>\n",
       "    </tr>\n",
       "    <tr>\n",
       "      <th>3</th>\n",
       "      <td>dear american teens question dutch person hear...</td>\n",
       "      <td>question dutch person</td>\n",
       "    </tr>\n",
       "    <tr>\n",
       "      <th>4</th>\n",
       "      <td>dear american teens question dutch person hear...</td>\n",
       "      <td>dutch person heard</td>\n",
       "    </tr>\n",
       "  </tbody>\n",
       "</table>\n",
       "</div>"
      ],
      "text/plain": [
       "                                                text                    chunk\n",
       "0  dear american teens question dutch person hear...      dear american teens\n",
       "1  dear american teens question dutch person hear...  american teens question\n",
       "2  dear american teens question dutch person hear...     teens question dutch\n",
       "3  dear american teens question dutch person hear...    question dutch person\n",
       "4  dear american teens question dutch person hear...       dutch person heard"
      ]
     },
     "execution_count": 165,
     "metadata": {},
     "output_type": "execute_result"
    }
   ],
   "source": [
    "df_chunks = generate_chunks_df(df)\n",
    "df_chunks.head()"
   ]
  },
  {
   "cell_type": "markdown",
   "metadata": {},
   "source": [
    "### 3.1.2. Encoding\n",
    "\n",
    "In this section the dataset is processed by the tokenizer and the model. The same operation is done for the labels.\n",
    "\n",
    "With that, everything is in the same embedding space, so cosine similarity can be computed."
   ]
  },
  {
   "cell_type": "code",
   "execution_count": 166,
   "metadata": {
    "execution": {
     "iopub.execute_input": "2025-01-10T14:39:37.676141Z",
     "iopub.status.busy": "2025-01-10T14:39:37.675857Z",
     "iopub.status.idle": "2025-01-10T14:39:42.141398Z",
     "shell.execute_reply": "2025-01-10T14:39:42.140313Z",
     "shell.execute_reply.started": "2025-01-10T14:39:37.676111Z"
    }
   },
   "outputs": [
    {
     "data": {
      "application/vnd.jupyter.widget-view+json": {
       "model_id": "8b192f0cb7634b3690c86a1e72a92082",
       "version_major": 2,
       "version_minor": 0
      },
      "text/plain": [
       "tokenizer_config.json:   0%|          | 0.00/62.0 [00:00<?, ?B/s]"
      ]
     },
     "metadata": {},
     "output_type": "display_data"
    },
    {
     "data": {
      "application/vnd.jupyter.widget-view+json": {
       "model_id": "5677d9b0f3294b72bdfcd863e5d48fcf",
       "version_major": 2,
       "version_minor": 0
      },
      "text/plain": [
       "config.json:   0%|          | 0.00/466 [00:00<?, ?B/s]"
      ]
     },
     "metadata": {},
     "output_type": "display_data"
    },
    {
     "data": {
      "application/vnd.jupyter.widget-view+json": {
       "model_id": "7651f3586458402b9e370f3fd56c0110",
       "version_major": 2,
       "version_minor": 0
      },
      "text/plain": [
       "vocab.txt:   0%|          | 0.00/996k [00:00<?, ?B/s]"
      ]
     },
     "metadata": {},
     "output_type": "display_data"
    },
    {
     "data": {
      "application/vnd.jupyter.widget-view+json": {
       "model_id": "c2a878cfb3a44eff9899ac59c95b9948",
       "version_major": 2,
       "version_minor": 0
      },
      "text/plain": [
       "special_tokens_map.json:   0%|          | 0.00/112 [00:00<?, ?B/s]"
      ]
     },
     "metadata": {},
     "output_type": "display_data"
    },
    {
     "data": {
      "application/vnd.jupyter.widget-view+json": {
       "model_id": "364724eab9ff40929d1cbe53cebb6ad7",
       "version_major": 2,
       "version_minor": 0
      },
      "text/plain": [
       "pytorch_model.bin:   0%|          | 0.00/542M [00:00<?, ?B/s]"
      ]
     },
     "metadata": {},
     "output_type": "display_data"
    }
   ],
   "source": [
    "from transformers import AutoTokenizer, AutoModel\n",
    "\n",
    "# bert_type = \"dmis-lab/biobert-v1.1\"\n",
    "bert_type = \"medicalai/ClinicalBERT\"\n",
    "\n",
    "tokenizer = AutoTokenizer.from_pretrained(bert_type)\n",
    "model = AutoModel.from_pretrained(\n",
    "    bert_type,\n",
    "    output_hidden_states=True,\n",
    ")"
   ]
  },
  {
   "cell_type": "code",
   "execution_count": 167,
   "metadata": {
    "execution": {
     "iopub.execute_input": "2025-01-10T14:39:42.143741Z",
     "iopub.status.busy": "2025-01-10T14:39:42.142944Z",
     "iopub.status.idle": "2025-01-10T14:39:42.151063Z",
     "shell.execute_reply": "2025-01-10T14:39:42.149923Z",
     "shell.execute_reply.started": "2025-01-10T14:39:42.143699Z"
    }
   },
   "outputs": [],
   "source": [
    "import torch\n",
    "\n",
    "from tqdm import tqdm\n",
    "\n",
    "def compute_embeddings(input_item, tokenizer, model):\n",
    "    tokenized_input = tokenizer(\n",
    "        input_item,\n",
    "        return_tensors='pt',\n",
    "        padding=True,\n",
    "        truncation=True,\n",
    "    ) \n",
    "    \n",
    "    with torch.no_grad():\n",
    "        output = model(**tokenized_input) \n",
    "    \n",
    "    output_embeddings = output.hidden_states[-1]\n",
    "    mean_output_embedding = output_embeddings.mean(dim=1)\n",
    "    return mean_output_embedding\n",
    "\n",
    "def compute_embeddings_iteratively(inputs_list, tokenizer, model):\n",
    "    # Needed to avoid OOM issues\n",
    "    mean_output_embeddings = []\n",
    "    for input_item in tqdm(inputs_list):\n",
    "        mean_output_embedding = compute_embeddings(input_item, tokenizer, model)\n",
    "        mean_output_embeddings.append(mean_output_embedding)\n",
    "\n",
    "    return mean_output_embeddings"
   ]
  },
  {
   "cell_type": "code",
   "execution_count": 168,
   "metadata": {
    "execution": {
     "iopub.execute_input": "2025-01-10T14:39:42.152720Z",
     "iopub.status.busy": "2025-01-10T14:39:42.152429Z",
     "iopub.status.idle": "2025-01-10T14:42:25.034490Z",
     "shell.execute_reply": "2025-01-10T14:42:25.033182Z",
     "shell.execute_reply.started": "2025-01-10T14:39:42.152691Z"
    }
   },
   "outputs": [
    {
     "name": "stderr",
     "output_type": "stream",
     "text": [
      "  0%|          | 0/6551 [00:00<?, ?it/s]Asking to truncate to max_length but no maximum length is provided and the model has no predefined maximum length. Default to no truncation.\n",
      "  2%|▏         | 114/6551 [00:02<02:38, 40.50it/s]"
     ]
    },
    {
     "data": {
      "application/vnd.jupyter.widget-view+json": {
       "model_id": "6631d038f258451398bfbce9c337b650",
       "version_major": 2,
       "version_minor": 0
      },
      "text/plain": [
       "model.safetensors:   0%|          | 0.00/542M [00:00<?, ?B/s]"
      ]
     },
     "metadata": {},
     "output_type": "display_data"
    },
    {
     "name": "stderr",
     "output_type": "stream",
     "text": [
      "100%|██████████| 6551/6551 [02:42<00:00, 40.23it/s]\n"
     ]
    }
   ],
   "source": [
    "original_chunks = df_chunks[\"chunk\"].tolist()\n",
    "chunks_embeddings = compute_embeddings_iteratively(original_chunks, tokenizer, model)"
   ]
  },
  {
   "cell_type": "code",
   "execution_count": 169,
   "metadata": {
    "execution": {
     "iopub.execute_input": "2025-01-10T14:42:25.039040Z",
     "iopub.status.busy": "2025-01-10T14:42:25.038691Z",
     "iopub.status.idle": "2025-01-10T14:42:25.177277Z",
     "shell.execute_reply": "2025-01-10T14:42:25.176278Z",
     "shell.execute_reply.started": "2025-01-10T14:42:25.039008Z"
    }
   },
   "outputs": [],
   "source": [
    "# Embeddings of spacy labels\n",
    "\n",
    "spacy_labels = [\n",
    "    \"CARDINAL\", \n",
    "    \"DATE\", \n",
    "    \"EVENT\", \n",
    "    \"FAC\", \n",
    "    \"GPE\", \n",
    "    \"LANGUAGE\",\n",
    "    \"LAW\",\n",
    "    \"LOC\",\n",
    "    \"MONEY\",\n",
    "    \"NORP\",\n",
    "    \"ORDINAL\",\n",
    "    \"ORG\",\n",
    "    \"PERCENT\",\n",
    "    \"PERSON\",\n",
    "    \"PRODUCT\",\n",
    "    \"QUANTITY\",\n",
    "    \"TIME\",\n",
    "    \"WORK_OF_ART\"\n",
    "]\n",
    "\n",
    "spacy_labels_emb = compute_embeddings(spacy_labels, tokenizer, model)"
   ]
  },
  {
   "cell_type": "code",
   "execution_count": 170,
   "metadata": {
    "execution": {
     "iopub.execute_input": "2025-01-10T14:42:25.179454Z",
     "iopub.status.busy": "2025-01-10T14:42:25.178999Z",
     "iopub.status.idle": "2025-01-10T14:42:25.222346Z",
     "shell.execute_reply": "2025-01-10T14:42:25.221199Z",
     "shell.execute_reply.started": "2025-01-10T14:42:25.179421Z"
    }
   },
   "outputs": [],
   "source": [
    "# Embeddings of custom labels\n",
    "\n",
    "custom_labels = [\n",
    "    \"DISEASE\",\n",
    "    \"SYMPTOM\",\n",
    "    \"TREATMENT\",\n",
    "    \"MEDICATION\"\n",
    "]\n",
    "\n",
    "custom_labels_emb = compute_embeddings(custom_labels, tokenizer, model)"
   ]
  },
  {
   "cell_type": "code",
   "execution_count": 171,
   "metadata": {
    "execution": {
     "iopub.execute_input": "2025-01-10T14:42:25.226327Z",
     "iopub.status.busy": "2025-01-10T14:42:25.225956Z",
     "iopub.status.idle": "2025-01-10T14:42:25.232746Z",
     "shell.execute_reply": "2025-01-10T14:42:25.231610Z",
     "shell.execute_reply.started": "2025-01-10T14:42:25.226294Z"
    }
   },
   "outputs": [],
   "source": [
    "import torch.nn.functional as F\n",
    "\n",
    "def detect_entities(chunks_embeddings, labels_emb, labels, threshold=0.6):\n",
    "    predicted_labels = []\n",
    "    \n",
    "    for chunk_embedding in chunks_embeddings:    \n",
    "        cosine_similarities = F.cosine_similarity(chunk_embedding, labels_emb)\n",
    "        detected_entities_mask = [cs >= threshold for cs in cosine_similarities]\n",
    "        detected_entities = [label for (is_detected, label) in zip(detected_entities_mask, labels) if is_detected]\n",
    "        predicted_labels.append(detected_entities)\n",
    "            \n",
    "    return predicted_labels"
   ]
  },
  {
   "cell_type": "code",
   "execution_count": 172,
   "metadata": {
    "execution": {
     "iopub.execute_input": "2025-01-10T14:42:25.235077Z",
     "iopub.status.busy": "2025-01-10T14:42:25.234379Z",
     "iopub.status.idle": "2025-01-10T14:42:27.279675Z",
     "shell.execute_reply": "2025-01-10T14:42:27.278495Z",
     "shell.execute_reply.started": "2025-01-10T14:42:25.235027Z"
    }
   },
   "outputs": [],
   "source": [
    "threshold = 0.78\n",
    "\n",
    "df_chunks[\"predicted_labels_spacy\"] = detect_entities(chunks_embeddings, spacy_labels_emb, spacy_labels, threshold=threshold)\n",
    "df_chunks[\"predicted_labels_custom\"] = detect_entities(chunks_embeddings, custom_labels_emb, custom_labels, threshold=threshold)"
   ]
  },
  {
   "cell_type": "code",
   "execution_count": 173,
   "metadata": {
    "execution": {
     "iopub.execute_input": "2025-01-10T14:42:27.281881Z",
     "iopub.status.busy": "2025-01-10T14:42:27.281528Z",
     "iopub.status.idle": "2025-01-10T14:42:27.296044Z",
     "shell.execute_reply": "2025-01-10T14:42:27.294872Z",
     "shell.execute_reply.started": "2025-01-10T14:42:27.281838Z"
    }
   },
   "outputs": [
    {
     "data": {
      "text/html": [
       "<div>\n",
       "<style scoped>\n",
       "    .dataframe tbody tr th:only-of-type {\n",
       "        vertical-align: middle;\n",
       "    }\n",
       "\n",
       "    .dataframe tbody tr th {\n",
       "        vertical-align: top;\n",
       "    }\n",
       "\n",
       "    .dataframe thead th {\n",
       "        text-align: right;\n",
       "    }\n",
       "</style>\n",
       "<table border=\"1\" class=\"dataframe\">\n",
       "  <thead>\n",
       "    <tr style=\"text-align: right;\">\n",
       "      <th></th>\n",
       "      <th>text</th>\n",
       "      <th>chunk</th>\n",
       "      <th>predicted_labels_spacy</th>\n",
       "      <th>predicted_labels_custom</th>\n",
       "    </tr>\n",
       "  </thead>\n",
       "  <tbody>\n",
       "    <tr>\n",
       "      <th>0</th>\n",
       "      <td>dear american teens question dutch person hear...</td>\n",
       "      <td>dear american teens</td>\n",
       "      <td>[]</td>\n",
       "      <td>[]</td>\n",
       "    </tr>\n",
       "    <tr>\n",
       "      <th>1</th>\n",
       "      <td>dear american teens question dutch person hear...</td>\n",
       "      <td>american teens question</td>\n",
       "      <td>[]</td>\n",
       "      <td>[]</td>\n",
       "    </tr>\n",
       "    <tr>\n",
       "      <th>2</th>\n",
       "      <td>dear american teens question dutch person hear...</td>\n",
       "      <td>teens question dutch</td>\n",
       "      <td>[]</td>\n",
       "      <td>[]</td>\n",
       "    </tr>\n",
       "    <tr>\n",
       "      <th>3</th>\n",
       "      <td>dear american teens question dutch person hear...</td>\n",
       "      <td>question dutch person</td>\n",
       "      <td>[]</td>\n",
       "      <td>[]</td>\n",
       "    </tr>\n",
       "    <tr>\n",
       "      <th>4</th>\n",
       "      <td>dear american teens question dutch person hear...</td>\n",
       "      <td>dutch person heard</td>\n",
       "      <td>[]</td>\n",
       "      <td>[]</td>\n",
       "    </tr>\n",
       "  </tbody>\n",
       "</table>\n",
       "</div>"
      ],
      "text/plain": [
       "                                                text                    chunk  \\\n",
       "0  dear american teens question dutch person hear...      dear american teens   \n",
       "1  dear american teens question dutch person hear...  american teens question   \n",
       "2  dear american teens question dutch person hear...     teens question dutch   \n",
       "3  dear american teens question dutch person hear...    question dutch person   \n",
       "4  dear american teens question dutch person hear...       dutch person heard   \n",
       "\n",
       "  predicted_labels_spacy predicted_labels_custom  \n",
       "0                     []                      []  \n",
       "1                     []                      []  \n",
       "2                     []                      []  \n",
       "3                     []                      []  \n",
       "4                     []                      []  "
      ]
     },
     "execution_count": 173,
     "metadata": {},
     "output_type": "execute_result"
    }
   ],
   "source": [
    "df_chunks.head()"
   ]
  },
  {
   "cell_type": "code",
   "execution_count": 174,
   "metadata": {
    "execution": {
     "iopub.execute_input": "2025-01-10T14:42:27.298121Z",
     "iopub.status.busy": "2025-01-10T14:42:27.297655Z",
     "iopub.status.idle": "2025-01-10T14:42:27.337668Z",
     "shell.execute_reply": "2025-01-10T14:42:27.336455Z",
     "shell.execute_reply.started": "2025-01-10T14:42:27.298072Z"
    }
   },
   "outputs": [
    {
     "data": {
      "text/html": [
       "<div>\n",
       "<style scoped>\n",
       "    .dataframe tbody tr th:only-of-type {\n",
       "        vertical-align: middle;\n",
       "    }\n",
       "\n",
       "    .dataframe tbody tr th {\n",
       "        vertical-align: top;\n",
       "    }\n",
       "\n",
       "    .dataframe thead th {\n",
       "        text-align: right;\n",
       "    }\n",
       "</style>\n",
       "<table border=\"1\" class=\"dataframe\">\n",
       "  <thead>\n",
       "    <tr style=\"text-align: right;\">\n",
       "      <th></th>\n",
       "      <th>text</th>\n",
       "      <th>predicted_labels_spacy</th>\n",
       "      <th>predicted_labels_custom</th>\n",
       "    </tr>\n",
       "  </thead>\n",
       "  <tbody>\n",
       "    <tr>\n",
       "      <th>0</th>\n",
       "      <td>Reasons suck generally cold unfeeling person ...</td>\n",
       "      <td>{}</td>\n",
       "      <td>{}</td>\n",
       "    </tr>\n",
       "    <tr>\n",
       "      <th>1</th>\n",
       "      <td>Slept hours want relapse cannot stop thinking...</td>\n",
       "      <td>{}</td>\n",
       "      <td>{}</td>\n",
       "    </tr>\n",
       "    <tr>\n",
       "      <th>2</th>\n",
       "      <td>Year old sister attempted red flag Friday loo...</td>\n",
       "      <td>{}</td>\n",
       "      <td>{TREATMENT}</td>\n",
       "    </tr>\n",
       "    <tr>\n",
       "      <th>3</th>\n",
       "      <td>Years last postman helped overcome last rock ...</td>\n",
       "      <td>{}</td>\n",
       "      <td>{}</td>\n",
       "    </tr>\n",
       "    <tr>\n",
       "      <th>4</th>\n",
       "      <td>Anyone else gets education fucked corona schoo...</td>\n",
       "      <td>{}</td>\n",
       "      <td>{}</td>\n",
       "    </tr>\n",
       "  </tbody>\n",
       "</table>\n",
       "</div>"
      ],
      "text/plain": [
       "                                                text predicted_labels_spacy  \\\n",
       "0   Reasons suck generally cold unfeeling person ...                     {}   \n",
       "1   Slept hours want relapse cannot stop thinking...                     {}   \n",
       "2   Year old sister attempted red flag Friday loo...                     {}   \n",
       "3   Years last postman helped overcome last rock ...                     {}   \n",
       "4  Anyone else gets education fucked corona schoo...                     {}   \n",
       "\n",
       "  predicted_labels_custom  \n",
       "0                      {}  \n",
       "1                      {}  \n",
       "2             {TREATMENT}  \n",
       "3                      {}  \n",
       "4                      {}  "
      ]
     },
     "execution_count": 174,
     "metadata": {},
     "output_type": "execute_result"
    }
   ],
   "source": [
    "df_chunks_grouped = (\n",
    "    df_chunks.groupby(\"text\")\n",
    "    .agg({\n",
    "        \"predicted_labels_spacy\": lambda x: set(item for sublist in x for item in sublist),\n",
    "        \"predicted_labels_custom\": lambda x: set(item for sublist in x for item in sublist)\n",
    "    })\n",
    "    .reset_index()\n",
    ")\n",
    "df_chunks_grouped.head()"
   ]
  },
  {
   "cell_type": "markdown",
   "metadata": {},
   "source": [
    "### 3.1.3. Evaluation\n",
    "\n",
    "Having the entites detected, we can compute metrics to evaluate the performance of proposed approach."
   ]
  },
  {
   "cell_type": "code",
   "execution_count": 175,
   "metadata": {
    "execution": {
     "iopub.execute_input": "2025-01-10T14:42:27.339554Z",
     "iopub.status.busy": "2025-01-10T14:42:27.339081Z",
     "iopub.status.idle": "2025-01-10T14:42:27.362172Z",
     "shell.execute_reply": "2025-01-10T14:42:27.361007Z",
     "shell.execute_reply.started": "2025-01-10T14:42:27.339506Z"
    }
   },
   "outputs": [
    {
     "data": {
      "text/html": [
       "<div>\n",
       "<style scoped>\n",
       "    .dataframe tbody tr th:only-of-type {\n",
       "        vertical-align: middle;\n",
       "    }\n",
       "\n",
       "    .dataframe tbody tr th {\n",
       "        vertical-align: top;\n",
       "    }\n",
       "\n",
       "    .dataframe thead th {\n",
       "        text-align: right;\n",
       "    }\n",
       "</style>\n",
       "<table border=\"1\" class=\"dataframe\">\n",
       "  <thead>\n",
       "    <tr style=\"text-align: right;\">\n",
       "      <th></th>\n",
       "      <th>text</th>\n",
       "      <th>ground_truth_spacy</th>\n",
       "      <th>ground_truth_custom</th>\n",
       "      <th>predicted_labels_spacy</th>\n",
       "      <th>predicted_labels_custom</th>\n",
       "    </tr>\n",
       "  </thead>\n",
       "  <tbody>\n",
       "    <tr>\n",
       "      <th>0</th>\n",
       "      <td>dear american teens question dutch person hear...</td>\n",
       "      <td>[NORP, NORP]</td>\n",
       "      <td>[]</td>\n",
       "      <td>{}</td>\n",
       "      <td>{}</td>\n",
       "    </tr>\n",
       "    <tr>\n",
       "      <th>1</th>\n",
       "      <td>nothing look forward lifei dont many reasons k...</td>\n",
       "      <td>[DATE]</td>\n",
       "      <td>[SYMPTOM]</td>\n",
       "      <td>{}</td>\n",
       "      <td>{}</td>\n",
       "    </tr>\n",
       "    <tr>\n",
       "      <th>2</th>\n",
       "      <td>music recommendations im looking expand playli...</td>\n",
       "      <td>[GPE, PERSON, PERSON, PERSON, PERSON]</td>\n",
       "      <td>[TREATMENT]</td>\n",
       "      <td>{}</td>\n",
       "      <td>{}</td>\n",
       "    </tr>\n",
       "    <tr>\n",
       "      <th>3</th>\n",
       "      <td>im done trying feel betterthe reason im still ...</td>\n",
       "      <td>[]</td>\n",
       "      <td>[SYMPTOM, SYMPTOM, SYMPTOM, SYMPTOM, TREATMENT...</td>\n",
       "      <td>{}</td>\n",
       "      <td>{}</td>\n",
       "    </tr>\n",
       "    <tr>\n",
       "      <th>4</th>\n",
       "      <td>worried  year old girl subject domestic physic...</td>\n",
       "      <td>[GPE, DATE, DATE, CARDINAL, CARDINAL, DATE, OR...</td>\n",
       "      <td>[SYMPTOM, DISEASE, SYMPTOM, SYMPTOM, SYMPTOM, ...</td>\n",
       "      <td>{}</td>\n",
       "      <td>{}</td>\n",
       "    </tr>\n",
       "  </tbody>\n",
       "</table>\n",
       "</div>"
      ],
      "text/plain": [
       "                                                text  \\\n",
       "0  dear american teens question dutch person hear...   \n",
       "1  nothing look forward lifei dont many reasons k...   \n",
       "2  music recommendations im looking expand playli...   \n",
       "3  im done trying feel betterthe reason im still ...   \n",
       "4  worried  year old girl subject domestic physic...   \n",
       "\n",
       "                                  ground_truth_spacy  \\\n",
       "0                                       [NORP, NORP]   \n",
       "1                                             [DATE]   \n",
       "2              [GPE, PERSON, PERSON, PERSON, PERSON]   \n",
       "3                                                 []   \n",
       "4  [GPE, DATE, DATE, CARDINAL, CARDINAL, DATE, OR...   \n",
       "\n",
       "                                 ground_truth_custom predicted_labels_spacy  \\\n",
       "0                                                 []                     {}   \n",
       "1                                          [SYMPTOM]                     {}   \n",
       "2                                        [TREATMENT]                     {}   \n",
       "3  [SYMPTOM, SYMPTOM, SYMPTOM, SYMPTOM, TREATMENT...                     {}   \n",
       "4  [SYMPTOM, DISEASE, SYMPTOM, SYMPTOM, SYMPTOM, ...                     {}   \n",
       "\n",
       "  predicted_labels_custom  \n",
       "0                      {}  \n",
       "1                      {}  \n",
       "2                      {}  \n",
       "3                      {}  \n",
       "4                      {}  "
      ]
     },
     "execution_count": 175,
     "metadata": {},
     "output_type": "execute_result"
    }
   ],
   "source": [
    "df_merged = df.merge(df_chunks_grouped, on=\"text\")\n",
    "df_merged.head()"
   ]
  },
  {
   "cell_type": "code",
   "execution_count": 176,
   "metadata": {
    "execution": {
     "iopub.execute_input": "2025-01-10T14:42:27.364027Z",
     "iopub.status.busy": "2025-01-10T14:42:27.363632Z",
     "iopub.status.idle": "2025-01-10T14:42:27.379767Z",
     "shell.execute_reply": "2025-01-10T14:42:27.378637Z",
     "shell.execute_reply.started": "2025-01-10T14:42:27.363993Z"
    }
   },
   "outputs": [
    {
     "name": "stdout",
     "output_type": "stream",
     "text": [
      "Precision\t\t: 1.00\n",
      "Recall\t\t\t: 0.12\n",
      "F1 Score\t\t: 0.21\n",
      "\n",
      "False Negatives: 15\n",
      "\n",
      "False Positives: 0\n"
     ]
    },
    {
     "data": {
      "text/plain": [
       "{'precision': 1.0,\n",
       " 'recall': 0.11764705882352941,\n",
       " 'f1': 0.21052631578947367,\n",
       " 'false_negatives': {'CARDINAL',\n",
       "  'DATE',\n",
       "  'EVENT',\n",
       "  'FAC',\n",
       "  'GPE',\n",
       "  'LANGUAGE',\n",
       "  'LAW',\n",
       "  'LOC',\n",
       "  'NORP',\n",
       "  'ORDINAL',\n",
       "  'ORG',\n",
       "  'PRODUCT',\n",
       "  'QUANTITY',\n",
       "  'TIME',\n",
       "  'WORK_OF_ART'},\n",
       " 'false_positives': set()}"
      ]
     },
     "execution_count": 176,
     "metadata": {},
     "output_type": "execute_result"
    }
   ],
   "source": [
    "spacy_labels_metrics = compute_ner_metrics(df_merged[\"ground_truth_spacy\"], df_merged[\"predicted_labels_spacy\"])\n",
    "spacy_labels_metrics"
   ]
  },
  {
   "cell_type": "code",
   "execution_count": 177,
   "metadata": {
    "execution": {
     "iopub.execute_input": "2025-01-10T14:42:27.381718Z",
     "iopub.status.busy": "2025-01-10T14:42:27.381371Z",
     "iopub.status.idle": "2025-01-10T14:42:27.393759Z",
     "shell.execute_reply": "2025-01-10T14:42:27.392667Z",
     "shell.execute_reply.started": "2025-01-10T14:42:27.381683Z"
    }
   },
   "outputs": [
    {
     "name": "stdout",
     "output_type": "stream",
     "text": [
      "Precision\t\t: 1.00\n",
      "Recall\t\t\t: 0.50\n",
      "F1 Score\t\t: 0.67\n",
      "\n",
      "False Negatives: 2\n",
      "\n",
      "False Positives: 0\n"
     ]
    },
    {
     "data": {
      "text/plain": [
       "{'precision': 1.0,\n",
       " 'recall': 0.5,\n",
       " 'f1': 0.6666666666666666,\n",
       " 'false_negatives': {'DISEASE', 'SYMPTOM'},\n",
       " 'false_positives': set()}"
      ]
     },
     "execution_count": 177,
     "metadata": {},
     "output_type": "execute_result"
    }
   ],
   "source": [
    "custom_labels_metrics = compute_ner_metrics(df_merged[\"ground_truth_custom\"], df_merged[\"predicted_labels_custom\"])\n",
    "custom_labels_metrics"
   ]
  },
  {
   "cell_type": "markdown",
   "metadata": {},
   "source": [
    "## 3.2. Fine tuning BERT-like model for NER\n",
    "\n",
    "In this section we fine-tune BERT-like models for NER tasks. \n",
    "\n",
    "It is inspired by the notebook shared in Kaggle: [Fine-Tuning BERT for NER](https://www.kaggle.com/code/farshadjafari97/fine-tuning-bert-for-ner)."
   ]
  },
  {
   "cell_type": "markdown",
   "metadata": {},
   "source": [
    "### 3.2.1. Dataset preprocessing\n",
    "\n",
    "To make our dataset useful, we need to transform it into the Dataset object from `datasets` library from HuggingFace, and to split it into train/val/test subsets.\n",
    "\n",
    "For spliting, the same method as in precious sections is used."
   ]
  },
  {
   "cell_type": "code",
   "execution_count": 178,
   "metadata": {
    "execution": {
     "iopub.execute_input": "2025-01-10T14:42:27.395148Z",
     "iopub.status.busy": "2025-01-10T14:42:27.394830Z",
     "iopub.status.idle": "2025-01-10T14:42:27.407980Z",
     "shell.execute_reply": "2025-01-10T14:42:27.406920Z",
     "shell.execute_reply.started": "2025-01-10T14:42:27.395110Z"
    }
   },
   "outputs": [],
   "source": [
    "# We have separate experiments for spacy labels and for custom labels.\n",
    "\n",
    "# labels_group = \"spacy\"\n",
    "labels_group = \"custom\""
   ]
  },
  {
   "cell_type": "code",
   "execution_count": 179,
   "metadata": {
    "execution": {
     "iopub.execute_input": "2025-01-10T14:42:27.409665Z",
     "iopub.status.busy": "2025-01-10T14:42:27.409343Z",
     "iopub.status.idle": "2025-01-10T14:42:27.459894Z",
     "shell.execute_reply": "2025-01-10T14:42:27.458673Z",
     "shell.execute_reply.started": "2025-01-10T14:42:27.409634Z"
    }
   },
   "outputs": [],
   "source": [
    "from datasets import Dataset, DatasetDict\n",
    "from sklearn.model_selection import train_test_split\n",
    "import pandas as pd\n",
    "\n",
    "df = pd.read_json('/kaggle/input/bert-ground-truth/bert_ground_truth.json', orient='records', lines=True)\n",
    "\n",
    "if labels_group == \"spacy\":\n",
    "    df = df.rename(columns={\"ground_truth_spacy_bert\": \"ner_tags\"})[[\"tokens\", \"ner_tags\"]]\n",
    "else:\n",
    "    df = df.rename(columns={\"ground_truth_custom_bert\": \"ner_tags\"})[[\"tokens\", \"ner_tags\"]]\n",
    "\n",
    "df_train, df_test = train_test_split(df, test_size=0.2, shuffle=True, random_state=42) # test set the same as for SpaCy\n",
    "df_train, df_val = train_test_split(df_train, test_size=0.2, shuffle=True, random_state=42) # additional split into train/val for fine-tuning\n",
    "\n",
    "dataset_train = Dataset.from_pandas(df_train)\n",
    "dataset_val =  Dataset.from_pandas(df_val)\n",
    "dataset_test = Dataset.from_pandas(df_test)\n",
    "\n",
    "dataset = DatasetDict({\n",
    "    \"train\": dataset_train,\n",
    "    \"validation\": dataset_val,\n",
    "    \"test\": dataset_test,\n",
    "})"
   ]
  },
  {
   "cell_type": "code",
   "execution_count": 180,
   "metadata": {
    "execution": {
     "iopub.execute_input": "2025-01-10T14:42:27.462014Z",
     "iopub.status.busy": "2025-01-10T14:42:27.461659Z",
     "iopub.status.idle": "2025-01-10T14:42:27.468371Z",
     "shell.execute_reply": "2025-01-10T14:42:27.467291Z",
     "shell.execute_reply.started": "2025-01-10T14:42:27.461979Z"
    }
   },
   "outputs": [],
   "source": [
    "if labels_group == \"spacy\":\n",
    "    label_names = ['O', 'B-CARDINAL', 'I-CARDINAL', 'B-DATE', 'I-DATE', 'B-EVENT', 'I-EVENT', 'B-FAC', 'I-FAC', 'B-GPE', 'I-GPE', 'B-LANGUAGE', 'I-LANGUAGE', 'B-LAW', 'I-LAW', 'B-LOC', 'I-LOC', 'B-MONEY', 'I-MONEY', 'B-NORP', 'I-NORP', 'B-ORDINAL', 'I-ORDINAL', 'B-ORG', 'I-ORG', 'B-PERCENT', 'I-PERCENT', 'B-PERSON', 'I-PERSON', 'B-PRODUCT', 'I-PRODUCT', 'B-QUANTITY', 'I-QUANTITY', 'B-TIME', 'I-TIME', 'B-WORK_OF_ART', 'I-WORK_OF_ART']\n",
    "else:\n",
    "    label_names = ['O', 'B-MEDICATION', 'I-MEDICATION', 'B-TREATMENT', 'I-TREATMENT', 'B-SYMPTOM', 'I-SYMPTOM', 'B-DISEASE', 'I-DISEASE']"
   ]
  },
  {
   "cell_type": "markdown",
   "metadata": {},
   "source": [
    "### 3.2.2. Fine-tuning"
   ]
  },
  {
   "cell_type": "code",
   "execution_count": 237,
   "metadata": {
    "execution": {
     "iopub.execute_input": "2025-01-10T14:51:05.522891Z",
     "iopub.status.busy": "2025-01-10T14:51:05.522502Z",
     "iopub.status.idle": "2025-01-10T14:51:06.032355Z",
     "shell.execute_reply": "2025-01-10T14:51:06.031279Z",
     "shell.execute_reply.started": "2025-01-10T14:51:05.522858Z"
    }
   },
   "outputs": [],
   "source": [
    "from transformers import AutoTokenizer\n",
    "\n",
    "# bert_type = \"dmis-lab/biobert-v1.1\"\n",
    "bert_type = \"medicalai/ClinicalBERT\"\n",
    "\n",
    "tokenizer = AutoTokenizer.from_pretrained(bert_type)"
   ]
  },
  {
   "cell_type": "code",
   "execution_count": 218,
   "metadata": {
    "execution": {
     "iopub.execute_input": "2025-01-10T14:48:52.509114Z",
     "iopub.status.busy": "2025-01-10T14:48:52.508236Z",
     "iopub.status.idle": "2025-01-10T14:48:52.517407Z",
     "shell.execute_reply": "2025-01-10T14:48:52.515965Z",
     "shell.execute_reply.started": "2025-01-10T14:48:52.509072Z"
    }
   },
   "outputs": [],
   "source": [
    "# Aligning is needed, because our labels are per word as a token, not per BERT-like token.\n",
    "\n",
    "def align_target(labels, word_ids):\n",
    "    # Define a mapping from beginning (B-) labels to inside (I-) labels\n",
    "    begin2inside = {\n",
    "        1: 2,\n",
    "        3: 4,\n",
    "        5: 6,\n",
    "        7: 8,\n",
    "        9: 10,\n",
    "        11: 12,\n",
    "        13: 14,\n",
    "        15: 16,\n",
    "        17: 18,\n",
    "        19: 20,\n",
    "        21: 22,\n",
    "        23: 24,\n",
    "        25: 26,\n",
    "        27: 28,\n",
    "        29: 30,\n",
    "        31: 32,\n",
    "        33: 34,\n",
    "        35: 36\n",
    "    }\n",
    "\n",
    "    # Initialize an empty list to store aligned labels and a variable to track the last word\n",
    "    align_labels = []\n",
    "    last_word = None\n",
    "\n",
    "    # Iterate through the word_ids\n",
    "    for word in word_ids:\n",
    "        if word is None:\n",
    "            label = -100  # Set label to -100 for None word_ids\n",
    "        elif word != last_word:\n",
    "            label = labels[word]  # Use the label corresponding to the current word_id\n",
    "        else:\n",
    "            label = labels[word]\n",
    "            # Change B- to I- if the previous word is the same\n",
    "            if label in begin2inside:\n",
    "                label = begin2inside[label]  # Map B- to I-\n",
    "\n",
    "        # Append the label to the align_labels list and update last_word\n",
    "        align_labels.append(label)\n",
    "        last_word = word\n",
    "\n",
    "    return align_labels"
   ]
  },
  {
   "cell_type": "code",
   "execution_count": 219,
   "metadata": {
    "execution": {
     "iopub.execute_input": "2025-01-10T14:48:52.750418Z",
     "iopub.status.busy": "2025-01-10T14:48:52.749979Z",
     "iopub.status.idle": "2025-01-10T14:48:52.760686Z",
     "shell.execute_reply": "2025-01-10T14:48:52.759478Z",
     "shell.execute_reply.started": "2025-01-10T14:48:52.750381Z"
    }
   },
   "outputs": [
    {
     "data": {
      "text/plain": [
       "([0, 0, 0, 0, 0, 0, 3, 4, 0, 0, 0, 0, 0, 0, 0, 0, 0, 0, 0, 0, 0],\n",
       " [None,\n",
       "  0,\n",
       "  1,\n",
       "  2,\n",
       "  3,\n",
       "  4,\n",
       "  5,\n",
       "  6,\n",
       "  7,\n",
       "  7,\n",
       "  8,\n",
       "  9,\n",
       "  9,\n",
       "  10,\n",
       "  11,\n",
       "  12,\n",
       "  13,\n",
       "  14,\n",
       "  15,\n",
       "  16,\n",
       "  17,\n",
       "  17,\n",
       "  18,\n",
       "  19,\n",
       "  19,\n",
       "  20,\n",
       "  None])"
      ]
     },
     "execution_count": 219,
     "metadata": {},
     "output_type": "execute_result"
    }
   ],
   "source": [
    "# Example of alignment\n",
    "\n",
    "token = tokenizer(dataset['train'][2]['tokens'], is_split_into_words = True)\n",
    "\n",
    "# Before alignment\n",
    "labels = dataset['train'][2]['ner_tags']\n",
    "word_ids = token.word_ids()\n",
    "\n",
    "labels, word_ids"
   ]
  },
  {
   "cell_type": "code",
   "execution_count": 220,
   "metadata": {
    "execution": {
     "iopub.execute_input": "2025-01-10T14:48:52.970626Z",
     "iopub.status.busy": "2025-01-10T14:48:52.970170Z",
     "iopub.status.idle": "2025-01-10T14:48:52.977740Z",
     "shell.execute_reply": "2025-01-10T14:48:52.976501Z",
     "shell.execute_reply.started": "2025-01-10T14:48:52.970587Z"
    }
   },
   "outputs": [
    {
     "name": "stdout",
     "output_type": "stream",
     "text": [
      "['[CLS]', 'understand', 'life', 'might', 'difficult', 'right', 'trust', 'life', 'su', '##cks', 'tell', 'ama', '##zing', 'going', 'great', 'things', 'anyone', 'needs', 'talk', 'see', 'queen', '##s', 'later', 'ama', '##zing', 'people', '[SEP]'] \n",
      "--------------------------------------------------------------------------------------\n",
      " [0, 0, 0, 0, 0, 0, 3, 4, 0, 0, 0, 0, 0, 0, 0, 0, 0, 0, 0, 0, 0] \n",
      "--------------------------------------------------------------------------------------\n",
      " [-100, 0, 0, 0, 0, 0, 0, 3, 4, 4, 0, 0, 0, 0, 0, 0, 0, 0, 0, 0, 0, 0, 0, 0, 0, 0, -100]\n"
     ]
    }
   ],
   "source": [
    "# After alignment\n",
    "aligned_target = align_target(labels, word_ids)\n",
    "\n",
    "# Print tokenized tokens, original labels, and aligned labels\n",
    "print(token.tokens(), '\\n--------------------------------------------------------------------------------------\\n',\n",
    "      labels, '\\n--------------------------------------------------------------------------------------\\n',\n",
    "      aligned_target)"
   ]
  },
  {
   "cell_type": "code",
   "execution_count": 221,
   "metadata": {
    "execution": {
     "iopub.execute_input": "2025-01-10T14:48:53.385381Z",
     "iopub.status.busy": "2025-01-10T14:48:53.384947Z",
     "iopub.status.idle": "2025-01-10T14:48:53.392208Z",
     "shell.execute_reply": "2025-01-10T14:48:53.390992Z",
     "shell.execute_reply.started": "2025-01-10T14:48:53.385340Z"
    }
   },
   "outputs": [
    {
     "name": "stdout",
     "output_type": "stream",
     "text": [
      "[CLS]\tNone\n",
      "understand\tO\n",
      "life\tO\n",
      "might\tO\n",
      "difficult\tO\n",
      "right\tO\n",
      "trust\tO\n",
      "life\tB-TREATMENT\n",
      "su\tI-TREATMENT\n",
      "##cks\tI-TREATMENT\n",
      "tell\tO\n",
      "ama\tO\n",
      "##zing\tO\n",
      "going\tO\n",
      "great\tO\n",
      "things\tO\n",
      "anyone\tO\n",
      "needs\tO\n",
      "talk\tO\n",
      "see\tO\n",
      "queen\tO\n",
      "##s\tO\n",
      "later\tO\n",
      "ama\tO\n",
      "##zing\tO\n",
      "people\tO\n",
      "[SEP]\tNone\n"
     ]
    }
   ],
   "source": [
    "# More readable \"after alignment\"\n",
    "\n",
    "aligned_labels = [label_names[t] if t >= 0 else None for t in aligned_target]\n",
    "for x, y in zip(token.tokens(), aligned_labels):\n",
    "    print(f\"{x}\\t{y}\")"
   ]
  },
  {
   "cell_type": "code",
   "execution_count": 238,
   "metadata": {
    "execution": {
     "iopub.execute_input": "2025-01-10T14:51:19.784364Z",
     "iopub.status.busy": "2025-01-10T14:51:19.783909Z",
     "iopub.status.idle": "2025-01-10T14:51:19.791369Z",
     "shell.execute_reply": "2025-01-10T14:51:19.790186Z",
     "shell.execute_reply.started": "2025-01-10T14:51:19.784327Z"
    }
   },
   "outputs": [],
   "source": [
    "def tokenize_fn(batch, ner_tags_column=\"ner_tags\"):\n",
    "    # Tokenize the input batch\n",
    "    tokenized_inputs = tokenizer(batch['tokens'], truncation=True, padding=True, is_split_into_words=True, max_length=512)\n",
    "\n",
    "    # Extract the labels batch from the input batch\n",
    "    labels_batch = batch[ner_tags_column]\n",
    "\n",
    "    # Initialize a list to store aligned targets for each example in the batch\n",
    "    aligned_targets_batch = []\n",
    "\n",
    "    # Iterate through each example and align the labels\n",
    "    for i, labels in enumerate(labels_batch):\n",
    "        # Extract the word_ids for the current example\n",
    "        word_ids = tokenized_inputs.word_ids(i)\n",
    "\n",
    "        # Use the align_target function to align the labels\n",
    "        aligned_targets_batch.append(align_target(labels, word_ids))\n",
    "\n",
    "    # Add the aligned labels to the tokenized inputs under the key \"labels\"\n",
    "    tokenized_inputs[\"labels\"] = aligned_targets_batch\n",
    "\n",
    "    # Return the tokenized inputs, including aligned labels\n",
    "    return tokenized_inputs"
   ]
  },
  {
   "cell_type": "code",
   "execution_count": 239,
   "metadata": {
    "execution": {
     "iopub.execute_input": "2025-01-10T14:51:20.383869Z",
     "iopub.status.busy": "2025-01-10T14:51:20.383478Z",
     "iopub.status.idle": "2025-01-10T14:51:20.659659Z",
     "shell.execute_reply": "2025-01-10T14:51:20.658291Z",
     "shell.execute_reply.started": "2025-01-10T14:51:20.383833Z"
    }
   },
   "outputs": [
    {
     "data": {
      "application/vnd.jupyter.widget-view+json": {
       "model_id": "15e1b37f5d2f4c3290f4e07eadcab878",
       "version_major": 2,
       "version_minor": 0
      },
      "text/plain": [
       "Map:   0%|          | 0/61 [00:00<?, ? examples/s]"
      ]
     },
     "metadata": {},
     "output_type": "display_data"
    },
    {
     "data": {
      "application/vnd.jupyter.widget-view+json": {
       "model_id": "b180207feca94eecb903d4baaef6cbd1",
       "version_major": 2,
       "version_minor": 0
      },
      "text/plain": [
       "Map:   0%|          | 0/16 [00:00<?, ? examples/s]"
      ]
     },
     "metadata": {},
     "output_type": "display_data"
    },
    {
     "data": {
      "application/vnd.jupyter.widget-view+json": {
       "model_id": "671709ae852943d49191f183af613ad9",
       "version_major": 2,
       "version_minor": 0
      },
      "text/plain": [
       "Map:   0%|          | 0/20 [00:00<?, ? examples/s]"
      ]
     },
     "metadata": {},
     "output_type": "display_data"
    }
   ],
   "source": [
    "tokenized_dataset = dataset.map(tokenize_fn, batched=True, remove_columns=dataset['train'].column_names)"
   ]
  },
  {
   "cell_type": "code",
   "execution_count": 240,
   "metadata": {
    "execution": {
     "iopub.execute_input": "2025-01-10T14:51:22.118964Z",
     "iopub.status.busy": "2025-01-10T14:51:22.118552Z",
     "iopub.status.idle": "2025-01-10T14:51:22.132175Z",
     "shell.execute_reply": "2025-01-10T14:51:22.131144Z",
     "shell.execute_reply.started": "2025-01-10T14:51:22.118926Z"
    }
   },
   "outputs": [
    {
     "data": {
      "text/plain": [
       "{'input_ids': tensor([[  101, 16938,   112,  ...,     0,     0,     0],\n",
       "        [  101, 10680, 10575,  ...,     0,     0,     0]]), 'attention_mask': tensor([[1, 1, 1,  ..., 0, 0, 0],\n",
       "        [1, 1, 1,  ..., 0, 0, 0]]), 'labels': tensor([[-100,    0,    0,  ..., -100, -100, -100],\n",
       "        [-100,    0,    0,  ..., -100, -100, -100]])}"
      ]
     },
     "execution_count": 240,
     "metadata": {},
     "output_type": "execute_result"
    }
   ],
   "source": [
    "from transformers import DataCollatorForTokenClassification\n",
    "\n",
    "# Create a DataCollatorForTokenClassification object\n",
    "data_collator = DataCollatorForTokenClassification(tokenizer=tokenizer)\n",
    "\n",
    "# Testing data using the data collator\n",
    "batch = data_collator([tokenized_dataset['train'][i] for i in range(2)])\n",
    "\n",
    "# Display the resulting batch\n",
    "batch"
   ]
  },
  {
   "cell_type": "code",
   "execution_count": 241,
   "metadata": {
    "execution": {
     "iopub.execute_input": "2025-01-10T14:51:22.616074Z",
     "iopub.status.busy": "2025-01-10T14:51:22.614829Z",
     "iopub.status.idle": "2025-01-10T14:51:22.620178Z",
     "shell.execute_reply": "2025-01-10T14:51:22.619063Z",
     "shell.execute_reply.started": "2025-01-10T14:51:22.616012Z"
    }
   },
   "outputs": [],
   "source": [
    "# We are going to use seqeval library metrics for fine-tuning, as suggested in the original notebook\n",
    "# !pip install seqeval ; \n",
    "# !pip install evaluate ;"
   ]
  },
  {
   "cell_type": "code",
   "execution_count": 242,
   "metadata": {
    "execution": {
     "iopub.execute_input": "2025-01-10T14:51:23.185698Z",
     "iopub.status.busy": "2025-01-10T14:51:23.185250Z",
     "iopub.status.idle": "2025-01-10T14:51:23.680518Z",
     "shell.execute_reply": "2025-01-10T14:51:23.679563Z",
     "shell.execute_reply.started": "2025-01-10T14:51:23.185658Z"
    }
   },
   "outputs": [],
   "source": [
    "# Function to compute evaluation metrics from model logits and true labels\n",
    "\n",
    "import numpy as np\n",
    "import evaluate\n",
    "\n",
    "metric = evaluate.load(\"seqeval\")\n",
    "\n",
    "def compute_metrics(logits_and_labels):\n",
    "\n",
    "  # Unpack the logits and labels\n",
    "  logits, labels = logits_and_labels \n",
    "  \n",
    "  # Get predictions from the logits\n",
    "  predictions = np.argmax(logits, axis=-1)\n",
    "\n",
    "  # Remove ignored index (special tokens)\n",
    "  str_labels = [\n",
    "    [label_names[t] for t in label if t!=-100] for label in labels\n",
    "  ]\n",
    "  \n",
    "  str_preds = [\n",
    "    [label_names[p] for (p, t) in zip(prediction, label) if t != -100]\n",
    "    for prediction, label in zip(predictions, labels)\n",
    "  ]\n",
    "\n",
    "  # Compute metrics\n",
    "  results = metric.compute(predictions=str_preds, references=str_labels)\n",
    "  \n",
    "  # Extract key metrics\n",
    "  return {\n",
    "    \"precision\": results[\"overall_precision\"],\n",
    "    \"recall\": results[\"overall_recall\"], \n",
    "    \"f1\": results[\"overall_f1\"],\n",
    "    \"accuracy\": results[\"overall_accuracy\"]  \n",
    "  }"
   ]
  },
  {
   "cell_type": "code",
   "execution_count": 243,
   "metadata": {
    "execution": {
     "iopub.execute_input": "2025-01-10T14:51:23.817652Z",
     "iopub.status.busy": "2025-01-10T14:51:23.816307Z",
     "iopub.status.idle": "2025-01-10T14:51:23.822562Z",
     "shell.execute_reply": "2025-01-10T14:51:23.821431Z",
     "shell.execute_reply.started": "2025-01-10T14:51:23.817596Z"
    }
   },
   "outputs": [],
   "source": [
    "# Create mapping from label ID to label string name\n",
    "id2label = {k: v for k, v in enumerate(label_names)} \n",
    "\n",
    "# Create reverse mapping from label name to label ID\n",
    "label2id = {v: k for k, v in enumerate(label_names)}"
   ]
  },
  {
   "cell_type": "code",
   "execution_count": 244,
   "metadata": {
    "execution": {
     "iopub.execute_input": "2025-01-10T14:51:25.196822Z",
     "iopub.status.busy": "2025-01-10T14:51:25.196408Z",
     "iopub.status.idle": "2025-01-10T14:51:25.422394Z",
     "shell.execute_reply": "2025-01-10T14:51:25.421291Z",
     "shell.execute_reply.started": "2025-01-10T14:51:25.196785Z"
    }
   },
   "outputs": [
    {
     "name": "stderr",
     "output_type": "stream",
     "text": [
      "Some weights of DistilBertForTokenClassification were not initialized from the model checkpoint at medicalai/ClinicalBERT and are newly initialized: ['classifier.bias', 'classifier.weight']\n",
      "You should probably TRAIN this model on a down-stream task to be able to use it for predictions and inference.\n"
     ]
    }
   ],
   "source": [
    "# Load pretrained token classification model from Transformers \n",
    "from transformers import AutoModelForTokenClassification\n",
    "\n",
    "# Initialize model object with pretrained weights\n",
    "model = AutoModelForTokenClassification.from_pretrained(\n",
    "  bert_type,\n",
    "\n",
    "  # Pass in label mappings\n",
    "  id2label=id2label,  \n",
    "  label2id=label2id\n",
    ")"
   ]
  },
  {
   "cell_type": "code",
   "execution_count": 245,
   "metadata": {
    "execution": {
     "iopub.execute_input": "2025-01-10T14:51:25.426994Z",
     "iopub.status.busy": "2025-01-10T14:51:25.426628Z",
     "iopub.status.idle": "2025-01-10T14:51:25.433837Z",
     "shell.execute_reply": "2025-01-10T14:51:25.432682Z",
     "shell.execute_reply.started": "2025-01-10T14:51:25.426957Z"
    }
   },
   "outputs": [],
   "source": [
    "# Configure training arguments using TrainigArguments class\n",
    "from transformers import TrainingArguments\n",
    "\n",
    "training_args = TrainingArguments(\n",
    "  # Location to save fine-tuned model \n",
    "  output_dir = \"fine_tuned_model\",\n",
    "\n",
    "  # Evaluate each epoch\n",
    "  evaluation_strategy = \"epoch\",\n",
    "\n",
    "  # Learning rate for Adam optimizer\n",
    "  learning_rate = 2e-5, \n",
    "  \n",
    "  # Batch sizes for training and evaluation\n",
    "  per_device_train_batch_size = 16,\n",
    "  per_device_eval_batch_size = 16,\n",
    "\n",
    "  # Number of training epochs\n",
    "  num_train_epochs = 3,\n",
    "\n",
    "  # L2 weight decay regularization\n",
    "  weight_decay = 0.01,\n",
    "\n",
    "  # Turn off W&B\n",
    "  report_to=\"none\"\n",
    ")"
   ]
  },
  {
   "cell_type": "code",
   "execution_count": 246,
   "metadata": {
    "execution": {
     "iopub.execute_input": "2025-01-10T14:51:27.391277Z",
     "iopub.status.busy": "2025-01-10T14:51:27.390790Z",
     "iopub.status.idle": "2025-01-10T14:51:27.413455Z",
     "shell.execute_reply": "2025-01-10T14:51:27.412128Z",
     "shell.execute_reply.started": "2025-01-10T14:51:27.391202Z"
    }
   },
   "outputs": [
    {
     "name": "stderr",
     "output_type": "stream",
     "text": [
      "/tmp/ipykernel_24/2679212107.py:4: FutureWarning: `tokenizer` is deprecated and will be removed in version 5.0.0 for `Trainer.__init__`. Use `processing_class` instead.\n",
      "  trainer = Trainer(\n"
     ]
    }
   ],
   "source": [
    "# Initialize Trainer object for model training\n",
    "from transformers import Trainer\n",
    "\n",
    "trainer = Trainer(\n",
    "  # Model to train\n",
    "  model=model, \n",
    "  \n",
    "  # Training arguments\n",
    "  args=training_args,\n",
    "\n",
    "  # Training and validation datasets\n",
    "  train_dataset=tokenized_dataset[\"train\"],\n",
    "  eval_dataset=tokenized_dataset[\"validation\"],\n",
    "\n",
    "  # Tokenizer\n",
    "  tokenizer=tokenizer,\n",
    "\n",
    "  # Custom metric function\n",
    "  compute_metrics=compute_metrics,\n",
    "\n",
    "  # Data collator\n",
    "  data_collator=data_collator \n",
    ")"
   ]
  },
  {
   "cell_type": "code",
   "execution_count": 247,
   "metadata": {
    "execution": {
     "iopub.execute_input": "2025-01-10T14:51:29.028423Z",
     "iopub.status.busy": "2025-01-10T14:51:29.027970Z",
     "iopub.status.idle": "2025-01-10T14:55:55.262555Z",
     "shell.execute_reply": "2025-01-10T14:55:55.261285Z",
     "shell.execute_reply.started": "2025-01-10T14:51:29.028383Z"
    }
   },
   "outputs": [
    {
     "data": {
      "text/html": [
       "\n",
       "    <div>\n",
       "      \n",
       "      <progress value='12' max='12' style='width:300px; height:20px; vertical-align: middle;'></progress>\n",
       "      [12/12 04:02, Epoch 3/3]\n",
       "    </div>\n",
       "    <table border=\"1\" class=\"dataframe\">\n",
       "  <thead>\n",
       " <tr style=\"text-align: left;\">\n",
       "      <th>Epoch</th>\n",
       "      <th>Training Loss</th>\n",
       "      <th>Validation Loss</th>\n",
       "      <th>Precision</th>\n",
       "      <th>Recall</th>\n",
       "      <th>F1</th>\n",
       "      <th>Accuracy</th>\n",
       "    </tr>\n",
       "  </thead>\n",
       "  <tbody>\n",
       "    <tr>\n",
       "      <td>1</td>\n",
       "      <td>No log</td>\n",
       "      <td>1.161708</td>\n",
       "      <td>0.000000</td>\n",
       "      <td>0.000000</td>\n",
       "      <td>0.000000</td>\n",
       "      <td>0.930202</td>\n",
       "    </tr>\n",
       "    <tr>\n",
       "      <td>2</td>\n",
       "      <td>No log</td>\n",
       "      <td>0.633707</td>\n",
       "      <td>0.000000</td>\n",
       "      <td>0.000000</td>\n",
       "      <td>0.000000</td>\n",
       "      <td>0.930855</td>\n",
       "    </tr>\n",
       "    <tr>\n",
       "      <td>3</td>\n",
       "      <td>No log</td>\n",
       "      <td>0.514778</td>\n",
       "      <td>0.000000</td>\n",
       "      <td>0.000000</td>\n",
       "      <td>0.000000</td>\n",
       "      <td>0.930855</td>\n",
       "    </tr>\n",
       "  </tbody>\n",
       "</table><p>"
      ],
      "text/plain": [
       "<IPython.core.display.HTML object>"
      ]
     },
     "metadata": {},
     "output_type": "display_data"
    },
    {
     "name": "stderr",
     "output_type": "stream",
     "text": [
      "/opt/conda/lib/python3.10/site-packages/seqeval/metrics/v1.py:57: UndefinedMetricWarning: Precision and F-score are ill-defined and being set to 0.0 in labels with no predicted samples. Use `zero_division` parameter to control this behavior.\n",
      "  _warn_prf(average, modifier, msg_start, len(result))\n",
      "/opt/conda/lib/python3.10/site-packages/seqeval/metrics/v1.py:57: UndefinedMetricWarning: Precision and F-score are ill-defined and being set to 0.0 due to no predicted samples. Use `zero_division` parameter to control this behavior.\n",
      "  _warn_prf(average, modifier, msg_start, len(result))\n",
      "/opt/conda/lib/python3.10/site-packages/seqeval/metrics/v1.py:57: UndefinedMetricWarning: Precision and F-score are ill-defined and being set to 0.0 in labels with no predicted samples. Use `zero_division` parameter to control this behavior.\n",
      "  _warn_prf(average, modifier, msg_start, len(result))\n",
      "/opt/conda/lib/python3.10/site-packages/seqeval/metrics/v1.py:57: UndefinedMetricWarning: Precision and F-score are ill-defined and being set to 0.0 due to no predicted samples. Use `zero_division` parameter to control this behavior.\n",
      "  _warn_prf(average, modifier, msg_start, len(result))\n"
     ]
    },
    {
     "data": {
      "text/plain": [
       "TrainOutput(global_step=12, training_loss=1.218633810679118, metrics={'train_runtime': 265.6479, 'train_samples_per_second': 0.689, 'train_steps_per_second': 0.045, 'total_flos': 23912543499264.0, 'train_loss': 1.218633810679118, 'epoch': 3.0})"
      ]
     },
     "execution_count": 247,
     "metadata": {},
     "output_type": "execute_result"
    }
   ],
   "source": [
    "trainer.train()"
   ]
  },
  {
   "cell_type": "code",
   "execution_count": 248,
   "metadata": {
    "execution": {
     "iopub.execute_input": "2025-01-10T14:55:58.678844Z",
     "iopub.status.busy": "2025-01-10T14:55:58.677955Z",
     "iopub.status.idle": "2025-01-10T14:55:59.795773Z",
     "shell.execute_reply": "2025-01-10T14:55:59.794834Z",
     "shell.execute_reply.started": "2025-01-10T14:55:58.678803Z"
    }
   },
   "outputs": [],
   "source": [
    "model_name = f'fine_tuned_model_{bert_type}_{labels_group}'\n",
    "\n",
    "trainer.save_model(model_name)"
   ]
  },
  {
   "cell_type": "markdown",
   "metadata": {},
   "source": [
    "### 3.2.3. Evaluation"
   ]
  },
  {
   "cell_type": "code",
   "execution_count": 249,
   "metadata": {
    "execution": {
     "iopub.execute_input": "2025-01-10T14:55:59.798655Z",
     "iopub.status.busy": "2025-01-10T14:55:59.797707Z",
     "iopub.status.idle": "2025-01-10T14:55:59.844668Z",
     "shell.execute_reply": "2025-01-10T14:55:59.843242Z",
     "shell.execute_reply.started": "2025-01-10T14:55:59.798605Z"
    }
   },
   "outputs": [],
   "source": [
    "from transformers import pipeline\n",
    "\n",
    "ner = pipeline(\n",
    "    'token-classification',\n",
    "    model = model_name,\n",
    "    aggregation_strategy = 'simple', \n",
    "    tokenizer=tokenizer\n",
    ")"
   ]
  },
  {
   "cell_type": "code",
   "execution_count": 250,
   "metadata": {
    "execution": {
     "iopub.execute_input": "2025-01-10T14:56:00.083064Z",
     "iopub.status.busy": "2025-01-10T14:56:00.082646Z",
     "iopub.status.idle": "2025-01-10T14:56:00.089646Z",
     "shell.execute_reply": "2025-01-10T14:56:00.088327Z",
     "shell.execute_reply.started": "2025-01-10T14:56:00.083028Z"
    }
   },
   "outputs": [],
   "source": [
    "def predict_labels(text):\n",
    "    return [p[\"entity_group\"] for p in ner(text)]\n",
    "\n",
    "df_test_ = df_merged.iloc[df_test_indices]"
   ]
  },
  {
   "cell_type": "code",
   "execution_count": 251,
   "metadata": {
    "execution": {
     "iopub.execute_input": "2025-01-10T14:56:02.212300Z",
     "iopub.status.busy": "2025-01-10T14:56:02.211880Z",
     "iopub.status.idle": "2025-01-10T14:56:04.197144Z",
     "shell.execute_reply": "2025-01-10T14:56:04.196059Z",
     "shell.execute_reply.started": "2025-01-10T14:56:02.212257Z"
    }
   },
   "outputs": [
    {
     "name": "stderr",
     "output_type": "stream",
     "text": [
      "Asking to truncate to max_length but no maximum length is provided and the model has no predefined maximum length. Default to no truncation.\n",
      "/tmp/ipykernel_24/2058622508.py:1: SettingWithCopyWarning: \n",
      "A value is trying to be set on a copy of a slice from a DataFrame.\n",
      "Try using .loc[row_indexer,col_indexer] = value instead\n",
      "\n",
      "See the caveats in the documentation: https://pandas.pydata.org/pandas-docs/stable/user_guide/indexing.html#returning-a-view-versus-a-copy\n",
      "  df_test_[model_name] = df_test_[\"text\"].apply(lambda t: predict_labels(t))\n"
     ]
    },
    {
     "data": {
      "text/html": [
       "<div>\n",
       "<style scoped>\n",
       "    .dataframe tbody tr th:only-of-type {\n",
       "        vertical-align: middle;\n",
       "    }\n",
       "\n",
       "    .dataframe tbody tr th {\n",
       "        vertical-align: top;\n",
       "    }\n",
       "\n",
       "    .dataframe thead th {\n",
       "        text-align: right;\n",
       "    }\n",
       "</style>\n",
       "<table border=\"1\" class=\"dataframe\">\n",
       "  <thead>\n",
       "    <tr style=\"text-align: right;\">\n",
       "      <th></th>\n",
       "      <th>text</th>\n",
       "      <th>ground_truth_spacy</th>\n",
       "      <th>ground_truth_custom</th>\n",
       "      <th>predicted_labels_spacy</th>\n",
       "      <th>predicted_labels_custom</th>\n",
       "      <th>fine_tuned_model_medicalai/ClinicalBERT_custom</th>\n",
       "    </tr>\n",
       "  </thead>\n",
       "  <tbody>\n",
       "    <tr>\n",
       "      <th>62</th>\n",
       "      <td>Even bother anymore hi got suspended hours sch...</td>\n",
       "      <td>[TIME, DATE, DATE, DATE, DATE, DATE, PERSON, L...</td>\n",
       "      <td>[SYMPTOM]</td>\n",
       "      <td>{}</td>\n",
       "      <td>{}</td>\n",
       "      <td>[]</td>\n",
       "    </tr>\n",
       "    <tr>\n",
       "      <th>40</th>\n",
       "      <td>Slept hours want relapse cannot stop thinking...</td>\n",
       "      <td>[TIME]</td>\n",
       "      <td>[SYMPTOM, MEDICATION]</td>\n",
       "      <td>{}</td>\n",
       "      <td>{}</td>\n",
       "      <td>[]</td>\n",
       "    </tr>\n",
       "    <tr>\n",
       "      <th>93</th>\n",
       "      <td>Emo anything but songs lonely palace royal iro...</td>\n",
       "      <td>[PERSON, WORK_OF_ART, WORK_OF_ART, WORK_OF_ART...</td>\n",
       "      <td>[]</td>\n",
       "      <td>{}</td>\n",
       "      <td>{}</td>\n",
       "      <td>[]</td>\n",
       "    </tr>\n",
       "    <tr>\n",
       "      <th>18</th>\n",
       "      <td>good byehey you know sure hell know me goodbye...</td>\n",
       "      <td>[CARDINAL, CARDINAL, CARDINAL, TIME]</td>\n",
       "      <td>[SYMPTOM, SYMPTOM, SYMPTOM, SYMPTOM, SYMPTOM, ...</td>\n",
       "      <td>{}</td>\n",
       "      <td>{}</td>\n",
       "      <td>[]</td>\n",
       "    </tr>\n",
       "    <tr>\n",
       "      <th>81</th>\n",
       "      <td>Damn miserable alone loner confidence awful pi...</td>\n",
       "      <td>[GPE, EVENT, EVENT, LOC, EVENT]</td>\n",
       "      <td>[SYMPTOM, SYMPTOM, SYMPTOM, SYMPTOM, SYMPTOM, ...</td>\n",
       "      <td>{}</td>\n",
       "      <td>{}</td>\n",
       "      <td>[]</td>\n",
       "    </tr>\n",
       "  </tbody>\n",
       "</table>\n",
       "</div>"
      ],
      "text/plain": [
       "                                                 text  \\\n",
       "62  Even bother anymore hi got suspended hours sch...   \n",
       "40   Slept hours want relapse cannot stop thinking...   \n",
       "93  Emo anything but songs lonely palace royal iro...   \n",
       "18  good byehey you know sure hell know me goodbye...   \n",
       "81  Damn miserable alone loner confidence awful pi...   \n",
       "\n",
       "                                   ground_truth_spacy  \\\n",
       "62  [TIME, DATE, DATE, DATE, DATE, DATE, PERSON, L...   \n",
       "40                                             [TIME]   \n",
       "93  [PERSON, WORK_OF_ART, WORK_OF_ART, WORK_OF_ART...   \n",
       "18               [CARDINAL, CARDINAL, CARDINAL, TIME]   \n",
       "81                    [GPE, EVENT, EVENT, LOC, EVENT]   \n",
       "\n",
       "                                  ground_truth_custom predicted_labels_spacy  \\\n",
       "62                                          [SYMPTOM]                     {}   \n",
       "40                              [SYMPTOM, MEDICATION]                     {}   \n",
       "93                                                 []                     {}   \n",
       "18  [SYMPTOM, SYMPTOM, SYMPTOM, SYMPTOM, SYMPTOM, ...                     {}   \n",
       "81  [SYMPTOM, SYMPTOM, SYMPTOM, SYMPTOM, SYMPTOM, ...                     {}   \n",
       "\n",
       "   predicted_labels_custom fine_tuned_model_medicalai/ClinicalBERT_custom  \n",
       "62                      {}                                             []  \n",
       "40                      {}                                             []  \n",
       "93                      {}                                             []  \n",
       "18                      {}                                             []  \n",
       "81                      {}                                             []  "
      ]
     },
     "execution_count": 251,
     "metadata": {},
     "output_type": "execute_result"
    }
   ],
   "source": [
    "df_test_[model_name] = df_test_[\"text\"].apply(lambda t: predict_labels(t))\n",
    "df_test_.head()"
   ]
  },
  {
   "cell_type": "code",
   "execution_count": 252,
   "metadata": {
    "execution": {
     "iopub.execute_input": "2025-01-10T14:56:04.199821Z",
     "iopub.status.busy": "2025-01-10T14:56:04.199376Z",
     "iopub.status.idle": "2025-01-10T14:56:04.209051Z",
     "shell.execute_reply": "2025-01-10T14:56:04.207849Z",
     "shell.execute_reply.started": "2025-01-10T14:56:04.199771Z"
    }
   },
   "outputs": [
    {
     "name": "stdout",
     "output_type": "stream",
     "text": [
      "Type of the labels: custom, type of the model: medicalai/ClinicalBERT\n",
      "\n",
      "Metrics for cosine similarity, threshold: 0.78\n",
      "Precision\t\t: 0.00\n",
      "Recall\t\t\t: 0.00\n",
      "F1 Score\t\t: 0.00\n",
      "\n",
      "False Negatives: 4\n",
      "\n",
      "False Positives: 0\n",
      "Metrics for fine_tuned_model_medicalai/ClinicalBERT_custom\n",
      "Precision\t\t: 0.00\n",
      "Recall\t\t\t: 0.00\n",
      "F1 Score\t\t: 0.00\n",
      "\n",
      "False Negatives: 4\n",
      "\n",
      "False Positives: 0\n"
     ]
    }
   ],
   "source": [
    "print(f\"Type of the labels: {labels_group}, type of the model: {bert_type}\\n\")\n",
    "\n",
    "print(f\"Metrics for cosine similarity, threshold: {threshold}\")\n",
    "labels_metrics = compute_ner_metrics(df_test_[f\"ground_truth_{labels_group}\"], df_test_[f\"predicted_labels_{labels_group}\"])\n",
    "\n",
    "print(f\"Metrics for {model_name}\")\n",
    "labels_metrics = compute_ner_metrics(df_test_[f\"ground_truth_{labels_group}\"], df_test_[model_name])"
   ]
  }
 ],
 "metadata": {
  "kaggle": {
   "accelerator": "none",
   "dataSources": [
    {
     "datasetId": 6304654,
     "sourceId": 10202219,
     "sourceType": "datasetVersion"
    },
    {
     "datasetId": 6307206,
     "sourceId": 10206021,
     "sourceType": "datasetVersion"
    },
    {
     "datasetId": 6310238,
     "sourceId": 10209989,
     "sourceType": "datasetVersion"
    }
   ],
   "dockerImageVersionId": 30804,
   "isGpuEnabled": false,
   "isInternetEnabled": true,
   "language": "python",
   "sourceType": "notebook"
  },
  "kernelspec": {
   "display_name": ".venv",
   "language": "python",
   "name": "python3"
  },
  "language_info": {
   "codemirror_mode": {
    "name": "ipython",
    "version": 3
   },
   "file_extension": ".py",
   "mimetype": "text/x-python",
   "name": "python",
   "nbconvert_exporter": "python",
   "pygments_lexer": "ipython3",
   "version": "3.12.1"
  }
 },
 "nbformat": 4,
 "nbformat_minor": 4
}
